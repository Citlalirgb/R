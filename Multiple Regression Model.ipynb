{
 "cells": [
  {
   "cell_type": "markdown",
   "metadata": {},
   "source": [
    "# Modelo de Regresión múltiple <a id=\"topic1\"></a>&nbsp;&nbsp;<a href=\"#index\"><i class=\"fa fa-list-alt\" aria-hidden=\"true\"></i></a>\n"
   ]
  },
  {
   "cell_type": "markdown",
   "metadata": {},
   "source": [
    "## Base de datos USA, Barack Obama\n",
    "\n",
    "El archivo de datos `USA-data.txt` incluye información demográfica, social y económica de los 50 estados de los Estados Unidos, además del distrito de Columbia, durante el año en que Barack Obama ganó su segundo mandato presidencial. Estos datos provienen de diversas fuentes, como el Centro de Estadísticas de Estados Unidos, el Centro de Investigación Pew y la Oficina de Estadísticas Laborales. \n",
    "\n",
    "Se llevará a cabo un análisis de regresión lineal múltiple utilizando la variable `votos_obama` para representar el porcentaje de votos obtenidos por Obama en las elecciones de cada estado. Se evaluará su relación con la variable `educacion` que representa el nivel de educación universitaria en cada estado, la variable `afrodescendientes` que denota la población afrodescendiente en cada estado, la variable `personas_hispanohablantes` que indica la población hispanohablante en cada estado, y la variable `grupo_etnico_caucasico` que refleja la población de ascendencia caucásica en cada estado. <u>Después de realizar el análisis, se analizarán y discutirán los resultados clave obtenidos en el modelo de regresión lineal múltiple</u>."
   ]
  },
  {
   "cell_type": "code",
   "execution_count": 28,
   "metadata": {
    "scrolled": true
   },
   "outputs": [
    {
     "data": {
      "text/html": [
       "<table class=\"dataframe\">\n",
       "<caption>A data.frame: 6 × 21</caption>\n",
       "<thead>\n",
       "\t<tr><th></th><th scope=col>estado</th><th scope=col>region</th><th scope=col>densidad</th><th scope=col>veteranos</th><th scope=col>mujeres</th><th scope=col>grad_instituto</th><th scope=col>grad_univ</th><th scope=col>afro</th><th scope=col>asia</th><th scope=col>hispanos</th><th scope=col>⋯</th><th scope=col>evangelicos</th><th scope=col>protestantes</th><th scope=col>relig_afro</th><th scope=col>catolicos</th><th scope=col>mormones</th><th scope=col>jubilados</th><th scope=col>paro</th><th scope=col>salario</th><th scope=col>obama</th><th scope=col>diputados</th></tr>\n",
       "\t<tr><th></th><th scope=col>&lt;chr&gt;</th><th scope=col>&lt;int&gt;</th><th scope=col>&lt;dbl&gt;</th><th scope=col>&lt;dbl&gt;</th><th scope=col>&lt;dbl&gt;</th><th scope=col>&lt;dbl&gt;</th><th scope=col>&lt;dbl&gt;</th><th scope=col>&lt;dbl&gt;</th><th scope=col>&lt;dbl&gt;</th><th scope=col>&lt;dbl&gt;</th><th scope=col>⋯</th><th scope=col>&lt;int&gt;</th><th scope=col>&lt;int&gt;</th><th scope=col>&lt;int&gt;</th><th scope=col>&lt;int&gt;</th><th scope=col>&lt;int&gt;</th><th scope=col>&lt;dbl&gt;</th><th scope=col>&lt;dbl&gt;</th><th scope=col>&lt;int&gt;</th><th scope=col>&lt;dbl&gt;</th><th scope=col>&lt;int&gt;</th></tr>\n",
       "</thead>\n",
       "<tbody>\n",
       "\t<tr><th scope=row>1</th><td>Alabama   </td><td>3</td><td> 94.4</td><td> 8.1</td><td>51.5</td><td>82.6</td><td>22.3</td><td>26.2</td><td> 1.1</td><td> 3.9</td><td>⋯</td><td>49</td><td> 1</td><td>18</td><td> 6</td><td>1</td><td>13.8</td><td> 8.0</td><td>43464</td><td>38.36</td><td> 9</td></tr>\n",
       "\t<tr><th scope=row>2</th><td>Alaska    </td><td>4</td><td>  1.2</td><td>10.1</td><td>48.0</td><td>91.6</td><td>27.5</td><td> 3.3</td><td> 5.4</td><td> 5.5</td><td>⋯</td><td>26</td><td>19</td><td> 2</td><td>14</td><td>4</td><td> 7.7</td><td> 7.6</td><td>63648</td><td>40.81</td><td> 3</td></tr>\n",
       "\t<tr><th scope=row>3</th><td>Arizona   </td><td>4</td><td> 56.3</td><td> 8.2</td><td>50.3</td><td>85.4</td><td>26.6</td><td> 4.1</td><td> 2.8</td><td>29.6</td><td>⋯</td><td>23</td><td>15</td><td> 2</td><td>25</td><td>4</td><td>13.8</td><td> 8.4</td><td>47044</td><td>44.59</td><td>11</td></tr>\n",
       "\t<tr><th scope=row>4</th><td>Arkansas  </td><td>3</td><td> 56.0</td><td> 7.9</td><td>50.9</td><td>83.3</td><td>19.8</td><td>15.4</td><td> 1.2</td><td> 6.4</td><td>⋯</td><td>53</td><td>16</td><td>10</td><td> 5</td><td>0</td><td>14.4</td><td> 7.6</td><td>39018</td><td>36.88</td><td> 6</td></tr>\n",
       "\t<tr><th scope=row>5</th><td>California</td><td>4</td><td>239.1</td><td> 5.0</td><td>50.3</td><td>81.0</td><td>30.5</td><td> 6.2</td><td>13.0</td><td>37.6</td><td>⋯</td><td>18</td><td>14</td><td> 4</td><td>31</td><td>2</td><td>11.4</td><td>10.4</td><td>57020</td><td>60.24</td><td>55</td></tr>\n",
       "\t<tr><th scope=row>6</th><td>Colorado  </td><td>4</td><td> 48.5</td><td> 8.1</td><td>49.9</td><td>89.9</td><td>36.7</td><td> 4.0</td><td> 2.8</td><td>20.7</td><td>⋯</td><td>23</td><td>19</td><td> 2</td><td>19</td><td>2</td><td>10.9</td><td> 7.8</td><td>57255</td><td>51.49</td><td> 9</td></tr>\n",
       "</tbody>\n",
       "</table>\n"
      ],
      "text/latex": [
       "A data.frame: 6 × 21\n",
       "\\begin{tabular}{r|lllllllllllllllllllll}\n",
       "  & estado & region & densidad & veteranos & mujeres & grad\\_instituto & grad\\_univ & afro & asia & hispanos & ⋯ & evangelicos & protestantes & relig\\_afro & catolicos & mormones & jubilados & paro & salario & obama & diputados\\\\\n",
       "  & <chr> & <int> & <dbl> & <dbl> & <dbl> & <dbl> & <dbl> & <dbl> & <dbl> & <dbl> & ⋯ & <int> & <int> & <int> & <int> & <int> & <dbl> & <dbl> & <int> & <dbl> & <int>\\\\\n",
       "\\hline\n",
       "\t1 & Alabama    & 3 &  94.4 &  8.1 & 51.5 & 82.6 & 22.3 & 26.2 &  1.1 &  3.9 & ⋯ & 49 &  1 & 18 &  6 & 1 & 13.8 &  8.0 & 43464 & 38.36 &  9\\\\\n",
       "\t2 & Alaska     & 4 &   1.2 & 10.1 & 48.0 & 91.6 & 27.5 &  3.3 &  5.4 &  5.5 & ⋯ & 26 & 19 &  2 & 14 & 4 &  7.7 &  7.6 & 63648 & 40.81 &  3\\\\\n",
       "\t3 & Arizona    & 4 &  56.3 &  8.2 & 50.3 & 85.4 & 26.6 &  4.1 &  2.8 & 29.6 & ⋯ & 23 & 15 &  2 & 25 & 4 & 13.8 &  8.4 & 47044 & 44.59 & 11\\\\\n",
       "\t4 & Arkansas   & 3 &  56.0 &  7.9 & 50.9 & 83.3 & 19.8 & 15.4 &  1.2 &  6.4 & ⋯ & 53 & 16 & 10 &  5 & 0 & 14.4 &  7.6 & 39018 & 36.88 &  6\\\\\n",
       "\t5 & California & 4 & 239.1 &  5.0 & 50.3 & 81.0 & 30.5 &  6.2 & 13.0 & 37.6 & ⋯ & 18 & 14 &  4 & 31 & 2 & 11.4 & 10.4 & 57020 & 60.24 & 55\\\\\n",
       "\t6 & Colorado   & 4 &  48.5 &  8.1 & 49.9 & 89.9 & 36.7 &  4.0 &  2.8 & 20.7 & ⋯ & 23 & 19 &  2 & 19 & 2 & 10.9 &  7.8 & 57255 & 51.49 &  9\\\\\n",
       "\\end{tabular}\n"
      ],
      "text/markdown": [
       "\n",
       "A data.frame: 6 × 21\n",
       "\n",
       "| <!--/--> | estado &lt;chr&gt; | region &lt;int&gt; | densidad &lt;dbl&gt; | veteranos &lt;dbl&gt; | mujeres &lt;dbl&gt; | grad_instituto &lt;dbl&gt; | grad_univ &lt;dbl&gt; | afro &lt;dbl&gt; | asia &lt;dbl&gt; | hispanos &lt;dbl&gt; | ⋯ ⋯ | evangelicos &lt;int&gt; | protestantes &lt;int&gt; | relig_afro &lt;int&gt; | catolicos &lt;int&gt; | mormones &lt;int&gt; | jubilados &lt;dbl&gt; | paro &lt;dbl&gt; | salario &lt;int&gt; | obama &lt;dbl&gt; | diputados &lt;int&gt; |\n",
       "|---|---|---|---|---|---|---|---|---|---|---|---|---|---|---|---|---|---|---|---|---|---|\n",
       "| 1 | Alabama    | 3 |  94.4 |  8.1 | 51.5 | 82.6 | 22.3 | 26.2 |  1.1 |  3.9 | ⋯ | 49 |  1 | 18 |  6 | 1 | 13.8 |  8.0 | 43464 | 38.36 |  9 |\n",
       "| 2 | Alaska     | 4 |   1.2 | 10.1 | 48.0 | 91.6 | 27.5 |  3.3 |  5.4 |  5.5 | ⋯ | 26 | 19 |  2 | 14 | 4 |  7.7 |  7.6 | 63648 | 40.81 |  3 |\n",
       "| 3 | Arizona    | 4 |  56.3 |  8.2 | 50.3 | 85.4 | 26.6 |  4.1 |  2.8 | 29.6 | ⋯ | 23 | 15 |  2 | 25 | 4 | 13.8 |  8.4 | 47044 | 44.59 | 11 |\n",
       "| 4 | Arkansas   | 3 |  56.0 |  7.9 | 50.9 | 83.3 | 19.8 | 15.4 |  1.2 |  6.4 | ⋯ | 53 | 16 | 10 |  5 | 0 | 14.4 |  7.6 | 39018 | 36.88 |  6 |\n",
       "| 5 | California | 4 | 239.1 |  5.0 | 50.3 | 81.0 | 30.5 |  6.2 | 13.0 | 37.6 | ⋯ | 18 | 14 |  4 | 31 | 2 | 11.4 | 10.4 | 57020 | 60.24 | 55 |\n",
       "| 6 | Colorado   | 4 |  48.5 |  8.1 | 49.9 | 89.9 | 36.7 |  4.0 |  2.8 | 20.7 | ⋯ | 23 | 19 |  2 | 19 | 2 | 10.9 |  7.8 | 57255 | 51.49 |  9 |\n",
       "\n"
      ],
      "text/plain": [
       "  estado     region densidad veteranos mujeres grad_instituto grad_univ afro\n",
       "1 Alabama    3       94.4     8.1      51.5    82.6           22.3      26.2\n",
       "2 Alaska     4        1.2    10.1      48.0    91.6           27.5       3.3\n",
       "3 Arizona    4       56.3     8.2      50.3    85.4           26.6       4.1\n",
       "4 Arkansas   3       56.0     7.9      50.9    83.3           19.8      15.4\n",
       "5 California 4      239.1     5.0      50.3    81.0           30.5       6.2\n",
       "6 Colorado   4       48.5     8.1      49.9    89.9           36.7       4.0\n",
       "  asia hispanos <U+22EF>        evangelicos protestantes relig_afro catolicos mormones\n",
       "1  1.1  3.9     <U+22EF> 49           1           18          6        1       \n",
       "2  5.4  5.5     <U+22EF> 26          19            2         14        4       \n",
       "3  2.8 29.6     <U+22EF> 23          15            2         25        4       \n",
       "4  1.2  6.4     <U+22EF> 53          16           10          5        0       \n",
       "5 13.0 37.6     <U+22EF> 18          14            4         31        2       \n",
       "6  2.8 20.7     <U+22EF> 23          19            2         19        2       \n",
       "  jubilados paro salario obama diputados\n",
       "1 13.8       8.0 43464   38.36  9       \n",
       "2  7.7       7.6 63648   40.81  3       \n",
       "3 13.8       8.4 47044   44.59 11       \n",
       "4 14.4       7.6 39018   36.88  6       \n",
       "5 11.4      10.4 57020   60.24 55       \n",
       "6 10.9       7.8 57255   51.49  9       "
      ]
     },
     "metadata": {},
     "output_type": "display_data"
    }
   ],
   "source": [
    "# Cargamos la base de datos\n",
    "usa = read.csv('USA.txt', sep=' ')\n",
    "head(usa)"
   ]
  },
  {
   "cell_type": "code",
   "execution_count": 29,
   "metadata": {},
   "outputs": [
    {
     "data": {
      "text/html": [
       "'data.frame'"
      ],
      "text/latex": [
       "'data.frame'"
      ],
      "text/markdown": [
       "'data.frame'"
      ],
      "text/plain": [
       "[1] \"data.frame\""
      ]
     },
     "metadata": {},
     "output_type": "display_data"
    }
   ],
   "source": [
    "# Comprobamos la clase del objeto que vamos a utilizar\n",
    "class(usa)"
   ]
  },
  {
   "cell_type": "markdown",
   "metadata": {},
   "source": [
    "Después de procesar los datos en forma de dataframe, seleccionaremos únicamente aquellos que son relevantes para nuestro análisis de regresión.\n"
   ]
  },
  {
   "cell_type": "code",
   "execution_count": 30,
   "metadata": {},
   "outputs": [
    {
     "data": {
      "text/html": [
       "<table class=\"dataframe\">\n",
       "<caption>A data.frame: 6 × 5</caption>\n",
       "<thead>\n",
       "\t<tr><th></th><th scope=col>grad_univ</th><th scope=col>afro</th><th scope=col>hispanos</th><th scope=col>blancos</th><th scope=col>obama</th></tr>\n",
       "\t<tr><th></th><th scope=col>&lt;dbl&gt;</th><th scope=col>&lt;dbl&gt;</th><th scope=col>&lt;dbl&gt;</th><th scope=col>&lt;dbl&gt;</th><th scope=col>&lt;dbl&gt;</th></tr>\n",
       "</thead>\n",
       "<tbody>\n",
       "\t<tr><th scope=row>1</th><td>22.3</td><td>26.2</td><td> 3.9</td><td>67.0</td><td>38.36</td></tr>\n",
       "\t<tr><th scope=row>2</th><td>27.5</td><td> 3.3</td><td> 5.5</td><td>64.1</td><td>40.81</td></tr>\n",
       "\t<tr><th scope=row>3</th><td>26.6</td><td> 4.1</td><td>29.6</td><td>57.8</td><td>44.59</td></tr>\n",
       "\t<tr><th scope=row>4</th><td>19.8</td><td>15.4</td><td> 6.4</td><td>74.5</td><td>36.88</td></tr>\n",
       "\t<tr><th scope=row>5</th><td>30.5</td><td> 6.2</td><td>37.6</td><td>40.1</td><td>60.24</td></tr>\n",
       "\t<tr><th scope=row>6</th><td>36.7</td><td> 4.0</td><td>20.7</td><td>70.0</td><td>51.49</td></tr>\n",
       "</tbody>\n",
       "</table>\n"
      ],
      "text/latex": [
       "A data.frame: 6 × 5\n",
       "\\begin{tabular}{r|lllll}\n",
       "  & grad\\_univ & afro & hispanos & blancos & obama\\\\\n",
       "  & <dbl> & <dbl> & <dbl> & <dbl> & <dbl>\\\\\n",
       "\\hline\n",
       "\t1 & 22.3 & 26.2 &  3.9 & 67.0 & 38.36\\\\\n",
       "\t2 & 27.5 &  3.3 &  5.5 & 64.1 & 40.81\\\\\n",
       "\t3 & 26.6 &  4.1 & 29.6 & 57.8 & 44.59\\\\\n",
       "\t4 & 19.8 & 15.4 &  6.4 & 74.5 & 36.88\\\\\n",
       "\t5 & 30.5 &  6.2 & 37.6 & 40.1 & 60.24\\\\\n",
       "\t6 & 36.7 &  4.0 & 20.7 & 70.0 & 51.49\\\\\n",
       "\\end{tabular}\n"
      ],
      "text/markdown": [
       "\n",
       "A data.frame: 6 × 5\n",
       "\n",
       "| <!--/--> | grad_univ &lt;dbl&gt; | afro &lt;dbl&gt; | hispanos &lt;dbl&gt; | blancos &lt;dbl&gt; | obama &lt;dbl&gt; |\n",
       "|---|---|---|---|---|---|\n",
       "| 1 | 22.3 | 26.2 |  3.9 | 67.0 | 38.36 |\n",
       "| 2 | 27.5 |  3.3 |  5.5 | 64.1 | 40.81 |\n",
       "| 3 | 26.6 |  4.1 | 29.6 | 57.8 | 44.59 |\n",
       "| 4 | 19.8 | 15.4 |  6.4 | 74.5 | 36.88 |\n",
       "| 5 | 30.5 |  6.2 | 37.6 | 40.1 | 60.24 |\n",
       "| 6 | 36.7 |  4.0 | 20.7 | 70.0 | 51.49 |\n",
       "\n"
      ],
      "text/plain": [
       "  grad_univ afro hispanos blancos obama\n",
       "1 22.3      26.2  3.9     67.0    38.36\n",
       "2 27.5       3.3  5.5     64.1    40.81\n",
       "3 26.6       4.1 29.6     57.8    44.59\n",
       "4 19.8      15.4  6.4     74.5    36.88\n",
       "5 30.5       6.2 37.6     40.1    60.24\n",
       "6 36.7       4.0 20.7     70.0    51.49"
      ]
     },
     "metadata": {},
     "output_type": "display_data"
    }
   ],
   "source": [
    "# Realizamos el subset\n",
    "usa <- usa[, c('grad_univ', 'afro', 'hispanos', 'blancos', 'obama')]\n",
    "head(usa)"
   ]
  },
  {
   "cell_type": "markdown",
   "metadata": {},
   "source": [
    "### Análisis de las variables\n"
   ]
  },
  {
   "cell_type": "code",
   "execution_count": 31,
   "metadata": {},
   "outputs": [
    {
     "data": {
      "image/png": "[encoded data removed]",
      "text/plain": [
       "plot without title"
      ]
     },
     "metadata": {
      "image/png": {
       "height": 420,
       "width": 420
      }
     },
     "output_type": "display_data"
    }
   ],
   "source": [
    "# Estudiamos si existe o no relación lineal entre las variables independientes y la dependiente\n",
    "pairs(usa, lower.panel=NULL)"
   ]
  },
  {
   "cell_type": "markdown",
   "metadata": {},
   "source": [
    "A simple vista, parece que la variable `grad_univ_mod` es la que mejor se relaciona con la variable dependiente `presidente`. También es crucial asegurarse de que las variables predictoras no estén muy interconectadas, ya que esto podría tener un impacto negativo en el modelo. En principio, no existe una correlación evidente. Sin embargo, vamos a verificar esto a través de pruebas respaldadas por evidencia"
   ]
  },
  {
   "cell_type": "markdown",
   "metadata": {},
   "source": [
    "### Normalidad, Homocedasticidad y Correlación  de las variables"
   ]
  },
  {
   "cell_type": "code",
   "execution_count": 32,
   "metadata": {},
   "outputs": [
    {
     "data": {
      "text/plain": [
       "$grad_univ\n",
       "\n",
       "\tLilliefors (Kolmogorov-Smirnov) normality test\n",
       "\n",
       "data:  X[[i]]\n",
       "D = 0.10881, p-value = 0.1378\n",
       "\n",
       "\n",
       "$afro\n",
       "\n",
       "\tLilliefors (Kolmogorov-Smirnov) normality test\n",
       "\n",
       "data:  X[[i]]\n",
       "D = 0.16532, p-value = 0.001322\n",
       "\n",
       "\n",
       "$hispanos\n",
       "\n",
       "\tLilliefors (Kolmogorov-Smirnov) normality test\n",
       "\n",
       "data:  X[[i]]\n",
       "D = 0.21051, p-value = 5.898e-06\n",
       "\n",
       "\n",
       "$blancos\n",
       "\n",
       "\tLilliefors (Kolmogorov-Smirnov) normality test\n",
       "\n",
       "data:  X[[i]]\n",
       "D = 0.10937, p-value = 0.1332\n",
       "\n",
       "\n",
       "$obama\n",
       "\n",
       "\tLilliefors (Kolmogorov-Smirnov) normality test\n",
       "\n",
       "data:  X[[i]]\n",
       "D = 0.07775, p-value = 0.6177\n",
       "\n"
      ]
     },
     "metadata": {},
     "output_type": "display_data"
    }
   ],
   "source": [
    "# Aplicamos el test de K-S-L para contrastar la normalidad (alternativa 2)\n",
    "lapply(usa, FUN=lillie.test)"
   ]
  },
  {
   "cell_type": "markdown",
   "metadata": {},
   "source": [
    "Estos tests indican que las variables `grad_univ`, `blancos` y `obama` siguen distribuciones normales, porque sus $p$-valores respectivos son mayores que el nivel de importancia $\\alpha = 0.05$, por lo tanto, no podemos rechazar las hipótesis nulas. Sin embargo, las variables `afro` e `hispanos` tienen $p$-valores más bajos, por lo que debemos rechazar sus hipótesis nulas, lo que quere decir que no provienen de distribuciones normales."
   ]
  },
  {
   "cell_type": "code",
   "execution_count": 33,
   "metadata": {},
   "outputs": [
    {
     "data": {
      "text/html": [
       "<table class=\"dataframe\">\n",
       "<caption>A matrix: 5 × 5</caption>\n",
       "<thead>\n",
       "\t<tr><th></th><th scope=col>grad_univ</th><th scope=col>afro</th><th scope=col>hispanos</th><th scope=col>blancos</th><th scope=col>obama</th></tr>\n",
       "\t<tr><th></th><th scope=col>&lt;dbl&gt;</th><th scope=col>&lt;dbl&gt;</th><th scope=col>&lt;dbl&gt;</th><th scope=col>&lt;dbl&gt;</th><th scope=col>&lt;dbl&gt;</th><th scope=col>&lt;dbl&gt;</th><th scope=col>&lt;dbl&gt;</th><th scope=col>&lt;dbl&gt;</th><th scope=col>&lt;dbl&gt;</th><th scope=col>&lt;dbl&gt;</th><th scope=col>⋯</th><th scope=col>&lt;dbl&gt;</th><th scope=col>&lt;dbl&gt;</th><th scope=col>&lt;dbl&gt;</th><th scope=col>&lt;dbl&gt;</th><th scope=col>&lt;dbl&gt;</th><th scope=col>&lt;dbl&gt;</th><th scope=col>&lt;dbl&gt;</th><th scope=col>&lt;dbl&gt;</th><th scope=col>&lt;dbl&gt;</th><th scope=col>&lt;dbl&gt;</th></tr>\n",
       "</thead>\n",
       "<tbody>\n",
       "\t<tr><th scope=row>grad_univ</th><td>1</td><td>1.145541e-05</td><td>0.0001340336</td><td>1.956231e-11</td><td>1.387776e-06</td></tr>\n",
       "\t<tr><th scope=row>afro</th><td>1.145541e-05</td><td>1</td><td>0.5369374</td><td>0.007718015</td><td>0.6264663</td></tr>\n",
       "\t<tr><th scope=row>hispanos</th><td>0.0001340336</td><td>0.5369374</td><td>1</td><td>0.001131649</td><td>0.2702484</td></tr>\n",
       "\t<tr><th scope=row>blancos</th><td>1.956231e-11</td><td>0.007718015</td><td>0.001131649</td><td>1</td><td>0.02841949</td></tr>\n",
       "\t<tr><th scope=row>obama</th><td>1.387776e-06</td><td>0.6264663</td><td>0.2702484</td><td>0.02841949</td><td>1</td></tr>\n",
       "</tbody>\n",
       "</table>\n"
      ],
      "text/latex": [
       "A matrix: 5 × 5\n",
       "\\begin{tabular}{r|lllll}\n",
       "  & grad\\_univ & afro & hispanos & blancos & obama\\\\\n",
       "  & <dbl> & <dbl> & <dbl> & <dbl> & <dbl> & <dbl> & <dbl> & <dbl> & <dbl> & <dbl> & ⋯ & <dbl> & <dbl> & <dbl> & <dbl> & <dbl> & <dbl> & <dbl> & <dbl> & <dbl> & <dbl>\\\\\n",
       "\\hline\n",
       "\tgrad\\_univ & 1 & 1.145541e-05 & 0.0001340336 & 1.956231e-11 & 1.387776e-06\\\\\n",
       "\tafro & 1.145541e-05 & 1 & 0.5369374 & 0.007718015 & 0.6264663\\\\\n",
       "\thispanos & 0.0001340336 & 0.5369374 & 1 & 0.001131649 & 0.2702484\\\\\n",
       "\tblancos & 1.956231e-11 & 0.007718015 & 0.001131649 & 1 & 0.02841949\\\\\n",
       "\tobama & 1.387776e-06 & 0.6264663 & 0.2702484 & 0.02841949 & 1\\\\\n",
       "\\end{tabular}\n"
      ],
      "text/markdown": [
       "\n",
       "A matrix: 5 × 5\n",
       "\n",
       "| <!--/--> | grad_univ &lt;dbl&gt; | afro &lt;dbl&gt; | hispanos &lt;dbl&gt; | blancos &lt;dbl&gt; | obama &lt;dbl&gt; | grad_univ &lt;dbl&gt; | afro &lt;dbl&gt; | hispanos &lt;dbl&gt; | blancos &lt;dbl&gt; | obama &lt;dbl&gt; | grad_univ ⋯ | afro &lt;dbl&gt; | hispanos &lt;dbl&gt; | blancos &lt;dbl&gt; | obama &lt;dbl&gt; | grad_univ &lt;dbl&gt; | afro &lt;dbl&gt; | hispanos &lt;dbl&gt; | blancos &lt;dbl&gt; | obama &lt;dbl&gt; | grad_univ &lt;dbl&gt; |\n",
       "|---|---|---|---|---|---|\n",
       "| grad_univ | 1 | 1.145541e-05 | 0.0001340336 | 1.956231e-11 | 1.387776e-06 |\n",
       "| afro | 1.145541e-05 | 1 | 0.5369374 | 0.007718015 | 0.6264663 |\n",
       "| hispanos | 0.0001340336 | 0.5369374 | 1 | 0.001131649 | 0.2702484 |\n",
       "| blancos | 1.956231e-11 | 0.007718015 | 0.001131649 | 1 | 0.02841949 |\n",
       "| obama | 1.387776e-06 | 0.6264663 | 0.2702484 | 0.02841949 | 1 |\n",
       "\n"
      ],
      "text/plain": [
       "          grad_univ    afro         hispanos     blancos      obama       \n",
       "grad_univ 1            1.145541e-05 0.0001340336 1.956231e-11 1.387776e-06\n",
       "afro      1.145541e-05 1            0.5369374    0.007718015  0.6264663   \n",
       "hispanos  0.0001340336 0.5369374    1            0.001131649  0.2702484   \n",
       "blancos   1.956231e-11 0.007718015  0.001131649  1            0.02841949  \n",
       "obama     1.387776e-06 0.6264663    0.2702484    0.02841949   1           "
      ]
     },
     "metadata": {},
     "output_type": "display_data"
    }
   ],
   "source": [
    "#Homocedasticidad\n",
    "# Función auxiliar para convertir una lista de listas en un data frame\n",
    "df.from.list.of.lists <- function(lists) {\n",
    "    return(do.call(rbind, lists))\n",
    "}\n",
    "\n",
    "pairwise.bartlett.test <- function(df) {\n",
    "    df.from.list.of.lists(lapply(df, FUN=function(x) lapply(df, FUN=function(y) bartlett.test(list(x, y))$p.value)))\n",
    "}\n",
    "                                                             \n",
    "pairwise.bartlett.test(usa)"
   ]
  },
  {
   "cell_type": "markdown",
   "metadata": {},
   "source": [
    "Por otra parte, los conjuntos de variables con homocedasticidad son `(afro, hipanos)`, `(afro, obama)` y `(hispanos, obama)`, ya que sus $p$-valores superan el umbral de significancia $\\alpha = 0.05$, lo que impide el rechazo de la hipótesis nula del test de Bartlett que sugiere igualdad en sus varianzas. Por lo tanto, es importante tener en mente que los resultados del coeficiente de correlación de Pearson pueden no ser completamente confiables, pero podemos avanzar en cualquier situación.\n"
   ]
  },
  {
   "cell_type": "code",
   "execution_count": 34,
   "metadata": {},
   "outputs": [
    {
     "data": {
      "text/html": [
       "<table class=\"dataframe\">\n",
       "<caption>A matrix: 5 × 5 of type dbl</caption>\n",
       "<thead>\n",
       "\t<tr><th></th><th scope=col>grad_univ</th><th scope=col>afro</th><th scope=col>hispanos</th><th scope=col>blancos</th><th scope=col>obama</th></tr>\n",
       "</thead>\n",
       "<tbody>\n",
       "\t<tr><th scope=row>grad_univ</th><td> 1.0000000</td><td> 0.1689640</td><td> 0.1282210</td><td>-0.2450445</td><td> 0.7154854</td></tr>\n",
       "\t<tr><th scope=row>afro</th><td> 0.1689640</td><td> 1.0000000</td><td>-0.1083742</td><td>-0.4799778</td><td> 0.2834353</td></tr>\n",
       "\t<tr><th scope=row>hispanos</th><td> 0.1282210</td><td>-0.1083742</td><td> 1.0000000</td><td>-0.6126307</td><td> 0.1601314</td></tr>\n",
       "\t<tr><th scope=row>blancos</th><td>-0.2450445</td><td>-0.4799778</td><td>-0.6126307</td><td> 1.0000000</td><td>-0.4292205</td></tr>\n",
       "\t<tr><th scope=row>obama</th><td> 0.7154854</td><td> 0.2834353</td><td> 0.1601314</td><td>-0.4292205</td><td> 1.0000000</td></tr>\n",
       "</tbody>\n",
       "</table>\n"
      ],
      "text/latex": [
       "A matrix: 5 × 5 of type dbl\n",
       "\\begin{tabular}{r|lllll}\n",
       "  & grad\\_univ & afro & hispanos & blancos & obama\\\\\n",
       "\\hline\n",
       "\tgrad\\_univ &  1.0000000 &  0.1689640 &  0.1282210 & -0.2450445 &  0.7154854\\\\\n",
       "\tafro &  0.1689640 &  1.0000000 & -0.1083742 & -0.4799778 &  0.2834353\\\\\n",
       "\thispanos &  0.1282210 & -0.1083742 &  1.0000000 & -0.6126307 &  0.1601314\\\\\n",
       "\tblancos & -0.2450445 & -0.4799778 & -0.6126307 &  1.0000000 & -0.4292205\\\\\n",
       "\tobama &  0.7154854 &  0.2834353 &  0.1601314 & -0.4292205 &  1.0000000\\\\\n",
       "\\end{tabular}\n"
      ],
      "text/markdown": [
       "\n",
       "A matrix: 5 × 5 of type dbl\n",
       "\n",
       "| <!--/--> | grad_univ | afro | hispanos | blancos | obama |\n",
       "|---|---|---|---|---|---|\n",
       "| grad_univ |  1.0000000 |  0.1689640 |  0.1282210 | -0.2450445 |  0.7154854 |\n",
       "| afro |  0.1689640 |  1.0000000 | -0.1083742 | -0.4799778 |  0.2834353 |\n",
       "| hispanos |  0.1282210 | -0.1083742 |  1.0000000 | -0.6126307 |  0.1601314 |\n",
       "| blancos | -0.2450445 | -0.4799778 | -0.6126307 |  1.0000000 | -0.4292205 |\n",
       "| obama |  0.7154854 |  0.2834353 |  0.1601314 | -0.4292205 |  1.0000000 |\n",
       "\n"
      ],
      "text/plain": [
       "          grad_univ  afro       hispanos   blancos    obama     \n",
       "grad_univ  1.0000000  0.1689640  0.1282210 -0.2450445  0.7154854\n",
       "afro       0.1689640  1.0000000 -0.1083742 -0.4799778  0.2834353\n",
       "hispanos   0.1282210 -0.1083742  1.0000000 -0.6126307  0.1601314\n",
       "blancos   -0.2450445 -0.4799778 -0.6126307  1.0000000 -0.4292205\n",
       "obama      0.7154854  0.2834353  0.1601314 -0.4292205  1.0000000"
      ]
     },
     "metadata": {},
     "output_type": "display_data"
    }
   ],
   "source": [
    "# Estimamos el coeficiente de correlación de Pearson\n",
    "cor(usa)"
   ]
  },
  {
   "cell_type": "markdown",
   "metadata": {},
   "source": [
    "Observamos que algunos valores de relación son algo bajos. Resaltan los conjuntos de características `(afro, blancos)` e `(hispanos, blancos)`, con una fuerte correlación negativa y, en particular, `(grad_univ, obama)` y `(blancos, obama)`, ya que se relacionan con la característica objetivo. Comprobemos si estas relaciones son estadísticamente significativas.\n"
   ]
  },
  {
   "cell_type": "code",
   "execution_count": 35,
   "metadata": {},
   "outputs": [
    {
     "data": {
      "text/html": [
       "<table class=\"dataframe\">\n",
       "<caption>A matrix: 5 × 5</caption>\n",
       "<thead>\n",
       "\t<tr><th></th><th scope=col>grad_univ</th><th scope=col>afro</th><th scope=col>hispanos</th><th scope=col>blancos</th><th scope=col>obama</th></tr>\n",
       "\t<tr><th></th><th scope=col>&lt;dbl&gt;</th><th scope=col>&lt;dbl&gt;</th><th scope=col>&lt;dbl&gt;</th><th scope=col>&lt;dbl&gt;</th><th scope=col>&lt;dbl&gt;</th><th scope=col>&lt;dbl&gt;</th><th scope=col>&lt;dbl&gt;</th><th scope=col>&lt;dbl&gt;</th><th scope=col>&lt;dbl&gt;</th><th scope=col>&lt;dbl&gt;</th><th scope=col>⋯</th><th scope=col>&lt;dbl&gt;</th><th scope=col>&lt;dbl&gt;</th><th scope=col>&lt;dbl&gt;</th><th scope=col>&lt;dbl&gt;</th><th scope=col>&lt;dbl&gt;</th><th scope=col>&lt;dbl&gt;</th><th scope=col>&lt;dbl&gt;</th><th scope=col>&lt;dbl&gt;</th><th scope=col>&lt;dbl&gt;</th><th scope=col>&lt;dbl&gt;</th></tr>\n",
       "</thead>\n",
       "<tbody>\n",
       "\t<tr><th scope=row>grad_univ</th><td>0</td><td>0.2359087</td><td>0.3698846</td><td>0.08307509</td><td>3.633164e-09</td></tr>\n",
       "\t<tr><th scope=row>afro</th><td>0.2359087</td><td>0</td><td>0.4490541</td><td>0.0003649565</td><td>0.04385312</td></tr>\n",
       "\t<tr><th scope=row>hispanos</th><td>0.3698846</td><td>0.4490541</td><td>0</td><td>1.769679e-06</td><td>0.2616592</td></tr>\n",
       "\t<tr><th scope=row>blancos</th><td>0.08307509</td><td>0.0003649565</td><td>1.769679e-06</td><td>0</td><td>0.001672692</td></tr>\n",
       "\t<tr><th scope=row>obama</th><td>3.633164e-09</td><td>0.04385312</td><td>0.2616592</td><td>0.001672692</td><td>0</td></tr>\n",
       "</tbody>\n",
       "</table>\n"
      ],
      "text/latex": [
       "A matrix: 5 × 5\n",
       "\\begin{tabular}{r|lllll}\n",
       "  & grad\\_univ & afro & hispanos & blancos & obama\\\\\n",
       "  & <dbl> & <dbl> & <dbl> & <dbl> & <dbl> & <dbl> & <dbl> & <dbl> & <dbl> & <dbl> & ⋯ & <dbl> & <dbl> & <dbl> & <dbl> & <dbl> & <dbl> & <dbl> & <dbl> & <dbl> & <dbl>\\\\\n",
       "\\hline\n",
       "\tgrad\\_univ & 0 & 0.2359087 & 0.3698846 & 0.08307509 & 3.633164e-09\\\\\n",
       "\tafro & 0.2359087 & 0 & 0.4490541 & 0.0003649565 & 0.04385312\\\\\n",
       "\thispanos & 0.3698846 & 0.4490541 & 0 & 1.769679e-06 & 0.2616592\\\\\n",
       "\tblancos & 0.08307509 & 0.0003649565 & 1.769679e-06 & 0 & 0.001672692\\\\\n",
       "\tobama & 3.633164e-09 & 0.04385312 & 0.2616592 & 0.001672692 & 0\\\\\n",
       "\\end{tabular}\n"
      ],
      "text/markdown": [
       "\n",
       "A matrix: 5 × 5\n",
       "\n",
       "| <!--/--> | grad_univ &lt;dbl&gt; | afro &lt;dbl&gt; | hispanos &lt;dbl&gt; | blancos &lt;dbl&gt; | obama &lt;dbl&gt; | grad_univ &lt;dbl&gt; | afro &lt;dbl&gt; | hispanos &lt;dbl&gt; | blancos &lt;dbl&gt; | obama &lt;dbl&gt; | grad_univ ⋯ | afro &lt;dbl&gt; | hispanos &lt;dbl&gt; | blancos &lt;dbl&gt; | obama &lt;dbl&gt; | grad_univ &lt;dbl&gt; | afro &lt;dbl&gt; | hispanos &lt;dbl&gt; | blancos &lt;dbl&gt; | obama &lt;dbl&gt; | grad_univ &lt;dbl&gt; |\n",
       "|---|---|---|---|---|---|\n",
       "| grad_univ | 0 | 0.2359087 | 0.3698846 | 0.08307509 | 3.633164e-09 |\n",
       "| afro | 0.2359087 | 0 | 0.4490541 | 0.0003649565 | 0.04385312 |\n",
       "| hispanos | 0.3698846 | 0.4490541 | 0 | 1.769679e-06 | 0.2616592 |\n",
       "| blancos | 0.08307509 | 0.0003649565 | 1.769679e-06 | 0 | 0.001672692 |\n",
       "| obama | 3.633164e-09 | 0.04385312 | 0.2616592 | 0.001672692 | 0 |\n",
       "\n"
      ],
      "text/plain": [
       "          grad_univ    afro         hispanos     blancos      obama       \n",
       "grad_univ 0            0.2359087    0.3698846    0.08307509   3.633164e-09\n",
       "afro      0.2359087    0            0.4490541    0.0003649565 0.04385312  \n",
       "hispanos  0.3698846    0.4490541    0            1.769679e-06 0.2616592   \n",
       "blancos   0.08307509   0.0003649565 1.769679e-06 0            0.001672692 \n",
       "obama     3.633164e-09 0.04385312   0.2616592    0.001672692  0           "
      ]
     },
     "metadata": {},
     "output_type": "display_data"
    }
   ],
   "source": [
    "# Obtenemos los p-valores de cada pareja\n",
    "pairwise.cor.test <- function(df, ...) {\n",
    "    df.from.list.of.lists(\n",
    "        lapply(df, FUN=function(x) lapply(\n",
    "                df, FUN=function(y) cor.test(x, y, ...)$p.value\n",
    "            )\n",
    "        )\n",
    "    )\n",
    "}\n",
    "\n",
    "pairwise.cor.test(usa)"
   ]
  },
  {
   "cell_type": "markdown",
   "metadata": {},
   "source": [
    "En la tabla, se presentan los valores $p$ resultantes de las pruebas de correlación de Pearson para diversos pares de variables. Es importante destacar que se observan correlaciones significativas entre los siguientes pares: `(afro, blancos)`, `(hispanos, blancos)`, `(grad_univ, obama)`, `(afro, obama)`, y `(blancos, obama)`. Estos valores $p$ son inferiores al nivel de significación establecido en $\\alpha = 0.05$, luego rechazamos las hipótesis nulas de que sus correlaciones sean cero. En principio, la correlación entre las variables explicativas puede ser problemática, así que tenemos que tenerlo en cuenta a la hora de ajustar el modelo.\n"
   ]
  },
  {
   "cell_type": "markdown",
   "metadata": {},
   "source": [
    "### Generación del modelo"
   ]
  },
  {
   "cell_type": "code",
   "execution_count": 36,
   "metadata": {},
   "outputs": [
    {
     "data": {
      "text/plain": [
       "\n",
       "Call:\n",
       "lm(formula = obama ~ grad_univ + afro + hispanos + blancos, data = usa)\n",
       "\n",
       "Residuals:\n",
       "     Min       1Q   Median       3Q      Max \n",
       "-23.5451  -4.6028   0.1903   5.6963  14.3227 \n",
       "\n",
       "Coefficients:\n",
       "            Estimate Std. Error t value Pr(>|t|)    \n",
       "(Intercept) 33.56196   12.91549   2.599   0.0125 *  \n",
       "grad_univ    1.32020    0.19824   6.660 2.96e-08 ***\n",
       "afro        -0.02711    0.14123  -0.192   0.8486    \n",
       "hispanos    -0.18511    0.17091  -1.083   0.2844    \n",
       "blancos     -0.27742    0.12177  -2.278   0.0274 *  \n",
       "---\n",
       "Signif. codes:  0 '***' 0.001 '**' 0.01 '*' 0.05 '.' 0.1 ' ' 1\n",
       "\n",
       "Residual standard error: 7.852 on 46 degrees of freedom\n",
       "Multiple R-squared:  0.5934,\tAdjusted R-squared:  0.558 \n",
       "F-statistic: 16.78 on 4 and 46 DF,  p-value: 1.502e-08\n"
      ]
     },
     "metadata": {},
     "output_type": "display_data"
    }
   ],
   "source": [
    "# Aplicamos el ajuste de regresión lineal a través de la función lm\n",
    "ols <- lm(obama~grad_univ+afro+hispanos+blancos, data=usa)\n",
    "\n",
    "# Obtenemos un summary de la salida\n",
    "output <- summary(ols)\n",
    "output"
   ]
  },
  {
   "cell_type": "markdown",
   "metadata": {},
   "source": [
    "Denominando $\\beta_0$ al término independiente y $\\beta_1, \\dots, \\beta_4$ a los coeficientes de las variables `grad_univ`, `afro`, `hispanos` y `blancos`, respectivamente, hemos obtenido:\n",
    "\n",
    "- $\\beta_0 = 33.56$ (representando el porcentaje de votos base del $33.56\\,\\%$).\n",
    "- $\\beta_1 = 1.32$ (indicando que por cada punto porcentual de graduados universitarios, el porcentaje de votos aumenta en $1.32$ puntos).\n",
    "- $\\beta_2 = -0.02$ (mostrando que por cada punto porcentual de población afroamericana, el porcentaje de votos disminuye en $0.02$ puntos).\n",
    "- $\\beta_3 = -0.18$ (señalando que por cada punto porcentual de población hispana, el porcentaje de votos disminuye en $0.18$ puntos).\n",
    "- $\\beta_4 = -0.27$ (expresando que por cada punto porcentual de población blanca, el porcentaje de votos disminuye en $0.27$ puntos).\n",
    "\n",
    "Además, los errores estándar son significativamente altos en comparación con el valor absoluto de cada coeficiente, a veces incluso superando dicho valor absoluto (como en la variable `afro`). En este contexto, encontramos dos $p$-valores que superan el nivel de significación $\\alpha = 0.05$ (`afro` e `hispanos`), lo que sugiere que estos coeficientes no son estadísticamente significativos y sus variables asociadas no tienen un impacto sustancial en el modelo. Por otro lado, los $p$-valores de las otras variables son menores que $\\alpha$, lo que nos lleva a rechazar la hipótesis nula de que sus coeficientes sean cero.\n",
    "\n",
    "En resumen, tenemos la siguiente ecuación de regresión lineal:\n",
    "\n",
    "$$y = 33.56 + 1.32 x_1 - 0.02 x_2 - 0.18 x_3 - 0.27 x_4,$$\n",
    "\n",
    "donde $y$ representa el porcentaje de votos a favor de Obama en el estado, y $x_1$, $x_2$, $x_3$, y $x_4$ representan los porcentajes de población con grado universitario, afroamericana, hispana y blanca, respectivamente. Sin embargo, debido a las consideraciones anteriores, podría ser suficiente con un modelo que incluya solamente $x_0$, $x_1$, y $x_4`.\n"
   ]
  },
  {
   "cell_type": "code",
   "execution_count": 45,
   "metadata": {},
   "outputs": [
    {
     "data": {
      "text/html": [
       "<table class=\"dataframe\">\n",
       "<caption>A matrix: 5 × 2 of type dbl</caption>\n",
       "<thead>\n",
       "\t<tr><th></th><th scope=col>2.5 %</th><th scope=col>97.5 %</th></tr>\n",
       "</thead>\n",
       "<tbody>\n",
       "\t<tr><th scope=row>(Intercept)</th><td> 7.5644270</td><td>59.55948960</td></tr>\n",
       "\t<tr><th scope=row>grad_univ</th><td> 0.9211553</td><td> 1.71923883</td></tr>\n",
       "\t<tr><th scope=row>afro</th><td>-0.3114038</td><td> 0.25717559</td></tr>\n",
       "\t<tr><th scope=row>hispanos</th><td>-0.5291394</td><td> 0.15891168</td></tr>\n",
       "\t<tr><th scope=row>blancos</th><td>-0.5225348</td><td>-0.03230237</td></tr>\n",
       "</tbody>\n",
       "</table>\n"
      ],
      "text/latex": [
       "A matrix: 5 × 2 of type dbl\n",
       "\\begin{tabular}{r|ll}\n",
       "  & 2.5 \\% & 97.5 \\%\\\\\n",
       "\\hline\n",
       "\t(Intercept) &  7.5644270 & 59.55948960\\\\\n",
       "\tgrad\\_univ &  0.9211553 &  1.71923883\\\\\n",
       "\tafro & -0.3114038 &  0.25717559\\\\\n",
       "\thispanos & -0.5291394 &  0.15891168\\\\\n",
       "\tblancos & -0.5225348 & -0.03230237\\\\\n",
       "\\end{tabular}\n"
      ],
      "text/markdown": [
       "\n",
       "A matrix: 5 × 2 of type dbl\n",
       "\n",
       "| <!--/--> | 2.5 % | 97.5 % |\n",
       "|---|---|---|\n",
       "| (Intercept) |  7.5644270 | 59.55948960 |\n",
       "| grad_univ |  0.9211553 |  1.71923883 |\n",
       "| afro | -0.3114038 |  0.25717559 |\n",
       "| hispanos | -0.5291394 |  0.15891168 |\n",
       "| blancos | -0.5225348 | -0.03230237 |\n",
       "\n"
      ],
      "text/plain": [
       "            2.5 %      97.5 %     \n",
       "(Intercept)  7.5644270 59.55948960\n",
       "grad_univ    0.9211553  1.71923883\n",
       "afro        -0.3114038  0.25717559\n",
       "hispanos    -0.5291394  0.15891168\n",
       "blancos     -0.5225348 -0.03230237"
      ]
     },
     "metadata": {},
     "output_type": "display_data"
    }
   ],
   "source": [
    "# Obtenemos el intervalo de confianza\n",
    "confint(ols)"
   ]
  },
  {
   "cell_type": "markdown",
   "metadata": {},
   "source": [
    "De nuevo, comprobamos que aquellos coeficientes que habíamos determinado que no eran significativos, efectivamente tienen al cero en su intervalo de confianza del $95\\,\\%$."
   ]
  },
  {
   "cell_type": "markdown",
   "metadata": {},
   "source": [
    "### Predicciones\n",
    "\n",
    "En este caso, generamos nuevos datos para cada una de nuestras variables explicativas para predecir el valor que obtendríamos de nuestra variable objetivo teniendo en cuenta el modelo estimado."
   ]
  },
  {
   "cell_type": "code",
   "execution_count": 48,
   "metadata": {
    "scrolled": true
   },
   "outputs": [
    {
     "data": {
      "text/html": [
       "<strong>1:</strong> 81.1082593393561"
      ],
      "text/latex": [
       "\\textbf{1:} 81.1082593393561"
      ],
      "text/markdown": [
       "**1:** 81.1082593393561"
      ],
      "text/plain": [
       "       1 \n",
       "81.10826 "
      ]
     },
     "metadata": {},
     "output_type": "display_data"
    }
   ],
   "source": [
    "# Obtenemos los resultados de la predicción realizada\n",
    "predict(ols, data.frame(grad_univ=49.1, afro=33.4, hispanos=12.3, blancos=50.8))"
   ]
  },
  {
   "cell_type": "markdown",
   "metadata": {},
   "source": [
    "## Modelo que mejor se ajusta al data set utilizando todas las variables"
   ]
  },
  {
   "cell_type": "markdown",
   "metadata": {},
   "source": [
    "Recuperamos todas las variables que habíamos eliminado."
   ]
  },
  {
   "cell_type": "code",
   "execution_count": 54,
   "metadata": {},
   "outputs": [
    {
     "data": {
      "text/html": [
       "<table class=\"dataframe\">\n",
       "<caption>A data.frame: 6 × 21</caption>\n",
       "<thead>\n",
       "\t<tr><th></th><th scope=col>estado</th><th scope=col>region</th><th scope=col>densidad</th><th scope=col>veteranos</th><th scope=col>mujeres</th><th scope=col>grad_instituto</th><th scope=col>grad_univ</th><th scope=col>afro</th><th scope=col>asia</th><th scope=col>hispanos</th><th scope=col>⋯</th><th scope=col>evangelicos</th><th scope=col>protestantes</th><th scope=col>relig_afro</th><th scope=col>catolicos</th><th scope=col>mormones</th><th scope=col>jubilados</th><th scope=col>paro</th><th scope=col>salario</th><th scope=col>obama</th><th scope=col>diputados</th></tr>\n",
       "\t<tr><th></th><th scope=col>&lt;chr&gt;</th><th scope=col>&lt;int&gt;</th><th scope=col>&lt;dbl&gt;</th><th scope=col>&lt;dbl&gt;</th><th scope=col>&lt;dbl&gt;</th><th scope=col>&lt;dbl&gt;</th><th scope=col>&lt;dbl&gt;</th><th scope=col>&lt;dbl&gt;</th><th scope=col>&lt;dbl&gt;</th><th scope=col>&lt;dbl&gt;</th><th scope=col>⋯</th><th scope=col>&lt;int&gt;</th><th scope=col>&lt;int&gt;</th><th scope=col>&lt;int&gt;</th><th scope=col>&lt;int&gt;</th><th scope=col>&lt;int&gt;</th><th scope=col>&lt;dbl&gt;</th><th scope=col>&lt;dbl&gt;</th><th scope=col>&lt;int&gt;</th><th scope=col>&lt;dbl&gt;</th><th scope=col>&lt;int&gt;</th></tr>\n",
       "</thead>\n",
       "<tbody>\n",
       "\t<tr><th scope=row>1</th><td>Alabama   </td><td>3</td><td> 94.4</td><td> 8.1</td><td>51.5</td><td>82.6</td><td>22.3</td><td>26.2</td><td> 1.1</td><td> 3.9</td><td>⋯</td><td>49</td><td> 1</td><td>18</td><td> 6</td><td>1</td><td>13.8</td><td> 8.0</td><td>43464</td><td>38.36</td><td> 9</td></tr>\n",
       "\t<tr><th scope=row>2</th><td>Alaska    </td><td>4</td><td>  1.2</td><td>10.1</td><td>48.0</td><td>91.6</td><td>27.5</td><td> 3.3</td><td> 5.4</td><td> 5.5</td><td>⋯</td><td>26</td><td>19</td><td> 2</td><td>14</td><td>4</td><td> 7.7</td><td> 7.6</td><td>63648</td><td>40.81</td><td> 3</td></tr>\n",
       "\t<tr><th scope=row>3</th><td>Arizona   </td><td>4</td><td> 56.3</td><td> 8.2</td><td>50.3</td><td>85.4</td><td>26.6</td><td> 4.1</td><td> 2.8</td><td>29.6</td><td>⋯</td><td>23</td><td>15</td><td> 2</td><td>25</td><td>4</td><td>13.8</td><td> 8.4</td><td>47044</td><td>44.59</td><td>11</td></tr>\n",
       "\t<tr><th scope=row>4</th><td>Arkansas  </td><td>3</td><td> 56.0</td><td> 7.9</td><td>50.9</td><td>83.3</td><td>19.8</td><td>15.4</td><td> 1.2</td><td> 6.4</td><td>⋯</td><td>53</td><td>16</td><td>10</td><td> 5</td><td>0</td><td>14.4</td><td> 7.6</td><td>39018</td><td>36.88</td><td> 6</td></tr>\n",
       "\t<tr><th scope=row>5</th><td>California</td><td>4</td><td>239.1</td><td> 5.0</td><td>50.3</td><td>81.0</td><td>30.5</td><td> 6.2</td><td>13.0</td><td>37.6</td><td>⋯</td><td>18</td><td>14</td><td> 4</td><td>31</td><td>2</td><td>11.4</td><td>10.4</td><td>57020</td><td>60.24</td><td>55</td></tr>\n",
       "\t<tr><th scope=row>6</th><td>Colorado  </td><td>4</td><td> 48.5</td><td> 8.1</td><td>49.9</td><td>89.9</td><td>36.7</td><td> 4.0</td><td> 2.8</td><td>20.7</td><td>⋯</td><td>23</td><td>19</td><td> 2</td><td>19</td><td>2</td><td>10.9</td><td> 7.8</td><td>57255</td><td>51.49</td><td> 9</td></tr>\n",
       "</tbody>\n",
       "</table>\n"
      ],
      "text/latex": [
       "A data.frame: 6 × 21\n",
       "\\begin{tabular}{r|lllllllllllllllllllll}\n",
       "  & estado & region & densidad & veteranos & mujeres & grad\\_instituto & grad\\_univ & afro & asia & hispanos & ⋯ & evangelicos & protestantes & relig\\_afro & catolicos & mormones & jubilados & paro & salario & obama & diputados\\\\\n",
       "  & <chr> & <int> & <dbl> & <dbl> & <dbl> & <dbl> & <dbl> & <dbl> & <dbl> & <dbl> & ⋯ & <int> & <int> & <int> & <int> & <int> & <dbl> & <dbl> & <int> & <dbl> & <int>\\\\\n",
       "\\hline\n",
       "\t1 & Alabama    & 3 &  94.4 &  8.1 & 51.5 & 82.6 & 22.3 & 26.2 &  1.1 &  3.9 & ⋯ & 49 &  1 & 18 &  6 & 1 & 13.8 &  8.0 & 43464 & 38.36 &  9\\\\\n",
       "\t2 & Alaska     & 4 &   1.2 & 10.1 & 48.0 & 91.6 & 27.5 &  3.3 &  5.4 &  5.5 & ⋯ & 26 & 19 &  2 & 14 & 4 &  7.7 &  7.6 & 63648 & 40.81 &  3\\\\\n",
       "\t3 & Arizona    & 4 &  56.3 &  8.2 & 50.3 & 85.4 & 26.6 &  4.1 &  2.8 & 29.6 & ⋯ & 23 & 15 &  2 & 25 & 4 & 13.8 &  8.4 & 47044 & 44.59 & 11\\\\\n",
       "\t4 & Arkansas   & 3 &  56.0 &  7.9 & 50.9 & 83.3 & 19.8 & 15.4 &  1.2 &  6.4 & ⋯ & 53 & 16 & 10 &  5 & 0 & 14.4 &  7.6 & 39018 & 36.88 &  6\\\\\n",
       "\t5 & California & 4 & 239.1 &  5.0 & 50.3 & 81.0 & 30.5 &  6.2 & 13.0 & 37.6 & ⋯ & 18 & 14 &  4 & 31 & 2 & 11.4 & 10.4 & 57020 & 60.24 & 55\\\\\n",
       "\t6 & Colorado   & 4 &  48.5 &  8.1 & 49.9 & 89.9 & 36.7 &  4.0 &  2.8 & 20.7 & ⋯ & 23 & 19 &  2 & 19 & 2 & 10.9 &  7.8 & 57255 & 51.49 &  9\\\\\n",
       "\\end{tabular}\n"
      ],
      "text/markdown": [
       "\n",
       "A data.frame: 6 × 21\n",
       "\n",
       "| <!--/--> | estado &lt;chr&gt; | region &lt;int&gt; | densidad &lt;dbl&gt; | veteranos &lt;dbl&gt; | mujeres &lt;dbl&gt; | grad_instituto &lt;dbl&gt; | grad_univ &lt;dbl&gt; | afro &lt;dbl&gt; | asia &lt;dbl&gt; | hispanos &lt;dbl&gt; | ⋯ ⋯ | evangelicos &lt;int&gt; | protestantes &lt;int&gt; | relig_afro &lt;int&gt; | catolicos &lt;int&gt; | mormones &lt;int&gt; | jubilados &lt;dbl&gt; | paro &lt;dbl&gt; | salario &lt;int&gt; | obama &lt;dbl&gt; | diputados &lt;int&gt; |\n",
       "|---|---|---|---|---|---|---|---|---|---|---|---|---|---|---|---|---|---|---|---|---|---|\n",
       "| 1 | Alabama    | 3 |  94.4 |  8.1 | 51.5 | 82.6 | 22.3 | 26.2 |  1.1 |  3.9 | ⋯ | 49 |  1 | 18 |  6 | 1 | 13.8 |  8.0 | 43464 | 38.36 |  9 |\n",
       "| 2 | Alaska     | 4 |   1.2 | 10.1 | 48.0 | 91.6 | 27.5 |  3.3 |  5.4 |  5.5 | ⋯ | 26 | 19 |  2 | 14 | 4 |  7.7 |  7.6 | 63648 | 40.81 |  3 |\n",
       "| 3 | Arizona    | 4 |  56.3 |  8.2 | 50.3 | 85.4 | 26.6 |  4.1 |  2.8 | 29.6 | ⋯ | 23 | 15 |  2 | 25 | 4 | 13.8 |  8.4 | 47044 | 44.59 | 11 |\n",
       "| 4 | Arkansas   | 3 |  56.0 |  7.9 | 50.9 | 83.3 | 19.8 | 15.4 |  1.2 |  6.4 | ⋯ | 53 | 16 | 10 |  5 | 0 | 14.4 |  7.6 | 39018 | 36.88 |  6 |\n",
       "| 5 | California | 4 | 239.1 |  5.0 | 50.3 | 81.0 | 30.5 |  6.2 | 13.0 | 37.6 | ⋯ | 18 | 14 |  4 | 31 | 2 | 11.4 | 10.4 | 57020 | 60.24 | 55 |\n",
       "| 6 | Colorado   | 4 |  48.5 |  8.1 | 49.9 | 89.9 | 36.7 |  4.0 |  2.8 | 20.7 | ⋯ | 23 | 19 |  2 | 19 | 2 | 10.9 |  7.8 | 57255 | 51.49 |  9 |\n",
       "\n"
      ],
      "text/plain": [
       "  estado     region densidad veteranos mujeres grad_instituto grad_univ afro\n",
       "1 Alabama    3       94.4     8.1      51.5    82.6           22.3      26.2\n",
       "2 Alaska     4        1.2    10.1      48.0    91.6           27.5       3.3\n",
       "3 Arizona    4       56.3     8.2      50.3    85.4           26.6       4.1\n",
       "4 Arkansas   3       56.0     7.9      50.9    83.3           19.8      15.4\n",
       "5 California 4      239.1     5.0      50.3    81.0           30.5       6.2\n",
       "6 Colorado   4       48.5     8.1      49.9    89.9           36.7       4.0\n",
       "  asia hispanos <U+22EF>        evangelicos protestantes relig_afro catolicos mormones\n",
       "1  1.1  3.9     <U+22EF> 49           1           18          6        1       \n",
       "2  5.4  5.5     <U+22EF> 26          19            2         14        4       \n",
       "3  2.8 29.6     <U+22EF> 23          15            2         25        4       \n",
       "4  1.2  6.4     <U+22EF> 53          16           10          5        0       \n",
       "5 13.0 37.6     <U+22EF> 18          14            4         31        2       \n",
       "6  2.8 20.7     <U+22EF> 23          19            2         19        2       \n",
       "  jubilados paro salario obama diputados\n",
       "1 13.8       8.0 43464   38.36  9       \n",
       "2  7.7       7.6 63648   40.81  3       \n",
       "3 13.8       8.4 47044   44.59 11       \n",
       "4 14.4       7.6 39018   36.88  6       \n",
       "5 11.4      10.4 57020   60.24 55       \n",
       "6 10.9       7.8 57255   51.49  9       "
      ]
     },
     "metadata": {},
     "output_type": "display_data"
    }
   ],
   "source": [
    "# Cargamos la base de datos\n",
    "usa = read.csv('USA.txt', sep=' ')\n",
    "head(usa)"
   ]
  },
  {
   "cell_type": "code",
   "execution_count": 55,
   "metadata": {},
   "outputs": [
    {
     "name": "stdout",
     "output_type": "stream",
     "text": [
      "'data.frame':\t51 obs. of  21 variables:\n",
      " $ estado        : chr  \"Alabama\" \"Alaska\" \"Arizona\" \"Arkansas\" ...\n",
      " $ region        : int  3 4 4 3 4 4 1 3 3 3 ...\n",
      " $ densidad      : num  94.4 1.2 56.3 56 239.1 ...\n",
      " $ veteranos     : num  8.1 10.1 8.2 7.9 5 8.1 6 8.5 5.2 8.3 ...\n",
      " $ mujeres       : num  51.5 48 50.3 50.9 50.3 49.9 51.3 51.6 52.8 51.1 ...\n",
      " $ grad_instituto: num  82.6 91.6 85.4 83.3 81 89.9 89 87.7 87.5 85.8 ...\n",
      " $ grad_univ     : num  22.3 27.5 26.6 19.8 30.5 36.7 36.2 28.5 51.2 26.2 ...\n",
      " $ afro          : num  26.2 3.3 4.1 15.4 6.2 4 10.1 21.4 50.7 16 ...\n",
      " $ asia          : num  1.1 5.4 2.8 1.2 13 2.8 3.8 3.2 3.5 2.4 ...\n",
      " $ hispanos      : num  3.9 5.5 29.6 6.4 37.6 20.7 13.4 8.2 9.1 22.5 ...\n",
      " $ blancos       : num  67 64.1 57.8 74.5 40.1 70 71.2 65.3 34.8 57.9 ...\n",
      " $ evangelicos   : int  49 26 23 53 18 23 9 15 15 25 ...\n",
      " $ protestantes  : int  1 19 15 16 14 19 13 18 20 15 ...\n",
      " $ relig_afro    : int  18 2 2 10 4 2 4 14 18 8 ...\n",
      " $ catolicos     : int  6 14 25 5 31 19 43 27 18 26 ...\n",
      " $ mormones      : int  1 4 4 0 2 2 1 0 0 0 ...\n",
      " $ jubilados     : num  13.8 7.7 13.8 14.4 11.4 10.9 14.2 14.4 11.4 17.3 ...\n",
      " $ paro          : num  8 7.6 8.4 7.6 10.4 7.8 8.3 7.2 9 8.5 ...\n",
      " $ salario       : int  43464 63648 47044 39018 57020 57255 64247 48972 65246 46071 ...\n",
      " $ obama         : num  38.4 40.8 44.6 36.9 60.2 ...\n",
      " $ diputados     : int  9 3 11 6 55 9 7 3 3 29 ...\n"
     ]
    }
   ],
   "source": [
    "# Vemos la estructura del objeto\n",
    "str(usa)"
   ]
  },
  {
   "cell_type": "code",
   "execution_count": 56,
   "metadata": {},
   "outputs": [],
   "source": [
    "# Eliminamos la variable cuali 'estado'\n",
    "usa[, 'estado'] = NULL"
   ]
  },
  {
   "cell_type": "markdown",
   "metadata": {},
   "source": [
    "Pasemos ya al ajuste del modelo de regresión. Para automatizar este proceso vamos a utilizar la función `step(object, scope, direction)`, que, comenzando a partir de un determinado modelo, va a ir añadiendo o eliminando variables independientes, según la dirección indicada, hasta dar con el modelo óptimo (de entre el espacio explorable), en función del coeficiente $AIC$ (que podemos ponderar por el tamaño de los datos, por ejemplo, para calcular $BIC$ en su lugar). Vamos a aplicar esta operación dos veces: una comenzando desde un modelo que no utilice variables independientes $y = \\beta_0$, añadiendo variables, y otro que parta de un modelo con todas las variables $y = \\beta_0 + \\sum_{i=1}^{19} \\beta_i x_i$ y vaya eliminando. Si ambos procesos encuentran el mismo modelo significa que este debe ser el óptimo. Si no, debemos elegir el mejor de los dos utilizando los coeficientes $R^2$, $AIC$ y $BIC$."
   ]
  },
  {
   "cell_type": "code",
   "execution_count": 57,
   "metadata": {},
   "outputs": [],
   "source": [
    "# Obtenemos los modelos de partida para poder aplicar la función step\n",
    "const.ols = lm(obama~1, data=usa)\n",
    "all.ols = lm(obama~., data=usa)"
   ]
  },
  {
   "cell_type": "code",
   "execution_count": 58,
   "metadata": {
    "scrolled": true,
    "tags": []
   },
   "outputs": [
    {
     "name": "stdout",
     "output_type": "stream",
     "text": [
      "Start:  AIC=252.83\n",
      "obama ~ 1\n",
      "\n",
      "                 Df Sum of Sq    RSS    AIC\n",
      "+ grad_univ       1    3570.6 3404.3 218.25\n",
      "+ densidad        1    2378.5 4596.4 233.56\n",
      "+ mujeres         1    1702.0 5272.9 240.56\n",
      "+ catolicos       1    1549.6 5425.3 242.02\n",
      "+ salario         1    1351.1 5623.8 243.85\n",
      "+ blancos         1    1285.0 5689.9 244.45\n",
      "+ asia            1    1174.4 5800.5 245.43\n",
      "+ evangelicos     1    1129.4 5845.5 245.82\n",
      "+ mormones        1     843.4 6131.5 248.26\n",
      "+ paro            1     795.7 6179.2 248.65\n",
      "+ veteranos       1     739.8 6235.1 249.11\n",
      "+ region          1     578.7 6396.2 250.41\n",
      "+ afro            1     560.3 6414.6 250.56\n",
      "<none>                        6974.9 252.83\n",
      "+ hispanos        1     178.9 6796.1 253.51\n",
      "+ diputados       1     153.4 6821.5 253.70\n",
      "+ jubilados       1     100.2 6874.7 254.09\n",
      "+ relig_afro      1      98.4 6876.5 254.11\n",
      "+ grad_instituto  1      66.3 6908.6 254.34\n",
      "+ protestantes    1       2.6 6972.3 254.81\n",
      "\n",
      "Step:  AIC=218.25\n",
      "obama ~ grad_univ\n",
      "\n",
      "                 Df Sum of Sq    RSS    AIC\n",
      "+ paro            1    796.92 2607.4 206.65\n",
      "+ mormones        1    768.88 2635.4 207.19\n",
      "+ mujeres         1    612.74 2791.6 210.13\n",
      "+ asia            1    570.04 2834.3 210.90\n",
      "+ jubilados       1    535.64 2868.7 211.52\n",
      "+ blancos         1    478.34 2926.0 212.53\n",
      "+ grad_instituto  1    278.78 3125.5 215.89\n",
      "+ salario         1    232.01 3172.3 216.65\n",
      "+ catolicos       1    224.72 3179.6 216.77\n",
      "+ densidad        1    192.46 3211.9 217.28\n",
      "+ afro            1    189.70 3214.6 217.33\n",
      "+ relig_afro      1    144.20 3260.1 218.04\n",
      "<none>                        3404.3 218.25\n",
      "+ region          1    109.94 3294.4 218.57\n",
      "+ diputados       1    102.72 3301.6 218.69\n",
      "+ hispanos        1     33.17 3371.1 219.75\n",
      "+ veteranos       1     24.68 3379.6 219.88\n",
      "+ protestantes    1      1.33 3403.0 220.23\n",
      "+ evangelicos     1      0.06 3404.3 220.25\n",
      "\n",
      "Step:  AIC=206.65\n",
      "obama ~ grad_univ + paro\n",
      "\n",
      "                 Df Sum of Sq    RSS    AIC\n",
      "+ jubilados       1    697.91 1909.5 192.76\n",
      "+ mormones        1    599.32 2008.1 195.33\n",
      "+ asia            1    500.24 2107.2 197.78\n",
      "+ protestantes    1    236.96 2370.4 203.79\n",
      "+ mujeres         1    223.82 2383.6 204.07\n",
      "+ catolicos       1    205.33 2402.1 204.47\n",
      "+ region          1    199.95 2407.4 204.58\n",
      "+ blancos         1    109.25 2498.2 206.47\n",
      "<none>                        2607.4 206.65\n",
      "+ salario         1     51.92 2555.5 207.62\n",
      "+ densidad        1     46.56 2560.8 207.73\n",
      "+ evangelicos     1     26.41 2581.0 208.13\n",
      "+ veteranos       1     21.56 2585.8 208.22\n",
      "+ hispanos        1     16.99 2590.4 208.31\n",
      "+ afro            1      5.26 2602.2 208.55\n",
      "+ relig_afro      1      1.20 2606.2 208.62\n",
      "+ grad_instituto  1      0.41 2607.0 208.64\n",
      "+ diputados       1      0.40 2607.0 208.64\n",
      "\n",
      "Step:  AIC=192.76\n",
      "obama ~ grad_univ + paro + jubilados\n",
      "\n",
      "                 Df Sum of Sq    RSS    AIC\n",
      "+ asia            1    541.43 1368.1 177.76\n",
      "+ blancos         1    358.99 1550.5 184.14\n",
      "+ mormones        1    202.84 1706.7 189.03\n",
      "<none>                        1909.5 192.76\n",
      "+ protestantes    1     51.06 1858.4 193.38\n",
      "+ densidad        1     32.19 1877.3 193.89\n",
      "+ catolicos       1     28.55 1880.9 193.99\n",
      "+ afro            1     19.86 1889.6 194.23\n",
      "+ relig_afro      1     16.25 1893.2 194.32\n",
      "+ evangelicos     1      5.58 1903.9 194.61\n",
      "+ grad_instituto  1      5.38 1904.1 194.62\n",
      "+ veteranos       1      3.43 1906.1 194.67\n",
      "+ hispanos        1      2.71 1906.8 194.69\n",
      "+ diputados       1      2.13 1907.4 194.70\n",
      "+ mujeres         1      1.22 1908.3 194.73\n",
      "+ region          1      0.76 1908.7 194.74\n",
      "+ salario         1      0.08 1909.4 194.76\n",
      "\n",
      "Step:  AIC=177.76\n",
      "obama ~ grad_univ + paro + jubilados + asia\n",
      "\n",
      "                 Df Sum of Sq    RSS    AIC\n",
      "+ mormones        1   216.485 1151.6 170.97\n",
      "+ densidad        1    86.622 1281.5 176.42\n",
      "+ protestantes    1    75.962 1292.1 176.84\n",
      "+ afro            1    75.783 1292.3 176.85\n",
      "+ region          1    70.435 1297.6 177.06\n",
      "+ relig_afro      1    66.607 1301.5 177.21\n",
      "+ mujeres         1    65.356 1302.7 177.26\n",
      "<none>                        1368.1 177.76\n",
      "+ blancos         1    37.071 1331.0 178.35\n",
      "+ catolicos       1    17.899 1350.2 179.08\n",
      "+ salario         1    16.466 1351.6 179.14\n",
      "+ grad_instituto  1     9.535 1358.5 179.40\n",
      "+ diputados       1     4.143 1363.9 179.60\n",
      "+ hispanos        1     2.982 1365.1 179.65\n",
      "+ evangelicos     1     2.290 1365.8 179.67\n",
      "+ veteranos       1     0.006 1368.1 179.76\n",
      "\n",
      "Step:  AIC=170.97\n",
      "obama ~ grad_univ + paro + jubilados + asia + mormones\n",
      "\n",
      "                 Df Sum of Sq    RSS    AIC\n",
      "+ densidad        1    76.270 1075.3 169.48\n",
      "+ evangelicos     1    53.540 1098.0 170.54\n",
      "<none>                        1151.6 170.97\n",
      "+ mujeres         1    40.976 1110.6 171.12\n",
      "+ region          1    31.021 1120.6 171.58\n",
      "+ afro            1    23.273 1128.3 171.93\n",
      "+ diputados       1    17.817 1133.8 172.18\n",
      "+ relig_afro      1    17.253 1134.3 172.20\n",
      "+ salario         1    15.844 1135.7 172.26\n",
      "+ protestantes    1    14.215 1137.4 172.34\n",
      "+ catolicos       1    11.995 1139.6 172.44\n",
      "+ veteranos       1     8.909 1142.7 172.57\n",
      "+ blancos         1     7.347 1144.2 172.64\n",
      "+ hispanos        1     0.410 1151.2 172.95\n",
      "+ grad_instituto  1     0.211 1151.4 172.96\n",
      "\n",
      "Step:  AIC=169.48\n",
      "obama ~ grad_univ + paro + jubilados + asia + mormones + densidad\n",
      "\n",
      "                 Df Sum of Sq     RSS    AIC\n",
      "+ evangelicos     1    93.303  982.01 166.85\n",
      "+ region          1    59.029 1016.28 168.60\n",
      "+ catolicos       1    53.590 1021.72 168.87\n",
      "<none>                        1075.31 169.48\n",
      "+ mujeres         1    14.991 1060.32 170.76\n",
      "+ protestantes    1    11.516 1063.80 170.93\n",
      "+ grad_instituto  1     8.393 1066.92 171.08\n",
      "+ veteranos       1     5.202 1070.11 171.23\n",
      "+ diputados       1     4.543 1070.77 171.26\n",
      "+ relig_afro      1     1.199 1074.11 171.42\n",
      "+ salario         1     1.142 1074.17 171.42\n",
      "+ hispanos        1     0.946 1074.37 171.43\n",
      "+ blancos         1     0.125 1075.19 171.47\n",
      "+ afro            1     0.079 1075.23 171.47\n",
      "\n",
      "Step:  AIC=166.85\n",
      "obama ~ grad_univ + paro + jubilados + asia + mormones + densidad + \n",
      "    evangelicos\n",
      "\n",
      "                 Df Sum of Sq    RSS    AIC\n",
      "+ mujeres         1    48.810 933.20 166.25\n",
      "<none>                        982.01 166.85\n",
      "+ region          1    32.949 949.06 167.11\n",
      "+ relig_afro      1    23.750 958.26 167.60\n",
      "+ salario         1    15.875 966.14 168.01\n",
      "+ afro            1    15.175 966.84 168.05\n",
      "+ protestantes    1     9.160 972.85 168.37\n",
      "+ diputados       1     6.407 975.60 168.51\n",
      "+ veteranos       1     2.443 979.57 168.72\n",
      "+ hispanos        1     2.345 979.67 168.72\n",
      "+ catolicos       1     1.624 980.39 168.76\n",
      "+ grad_instituto  1     0.767 981.24 168.81\n",
      "+ blancos         1     0.485 981.53 168.82\n",
      "\n",
      "Step:  AIC=166.25\n",
      "obama ~ grad_univ + paro + jubilados + asia + mormones + densidad + \n",
      "    evangelicos + mujeres\n",
      "\n",
      "                 Df Sum of Sq    RSS    AIC\n",
      "+ protestantes    1    39.804 893.40 166.02\n",
      "+ grad_instituto  1    36.193 897.01 166.23\n",
      "<none>                        933.20 166.25\n",
      "+ diputados       1    15.688 917.51 167.38\n",
      "+ region          1     8.478 924.72 167.78\n",
      "+ blancos         1     8.406 924.79 167.78\n",
      "+ veteranos       1     5.987 927.21 167.92\n",
      "+ salario         1     5.677 927.52 167.94\n",
      "+ afro            1     2.035 931.17 168.13\n",
      "+ catolicos       1     1.309 931.89 168.18\n",
      "+ hispanos        1     0.721 932.48 168.21\n",
      "+ relig_afro      1     0.072 933.13 168.24\n",
      "\n",
      "Step:  AIC=166.02\n",
      "obama ~ grad_univ + paro + jubilados + asia + mormones + densidad + \n",
      "    evangelicos + mujeres + protestantes\n",
      "\n",
      "                 Df Sum of Sq    RSS    AIC\n",
      "<none>                        893.40 166.02\n",
      "+ diputados       1   19.5553 873.84 166.90\n",
      "+ grad_instituto  1   16.7478 876.65 167.06\n",
      "+ salario         1    8.9280 884.47 167.51\n",
      "+ veteranos       1    7.3134 886.08 167.60\n",
      "+ catolicos       1    5.6097 887.79 167.70\n",
      "+ region          1    3.0928 890.30 167.85\n",
      "+ relig_afro      1    1.4461 891.95 167.94\n",
      "+ hispanos        1    0.8189 892.58 167.98\n",
      "+ afro            1    0.1707 893.23 168.01\n",
      "+ blancos         1    0.1146 893.28 168.02\n"
     ]
    },
    {
     "data": {
      "text/plain": [
       "\n",
       "Call:\n",
       "lm(formula = obama ~ grad_univ + paro + jubilados + asia + mormones + \n",
       "    densidad + evangelicos + mujeres + protestantes, data = usa)\n",
       "\n",
       "Coefficients:\n",
       " (Intercept)     grad_univ          paro     jubilados          asia  \n",
       "  -1.365e+02     8.494e-01     2.043e+00     7.263e-01     7.332e-01  \n",
       "    mormones      densidad   evangelicos       mujeres  protestantes  \n",
       "  -2.833e-01     1.134e-03    -1.956e-01     2.678e+00     1.972e-01  \n"
      ]
     },
     "metadata": {},
     "output_type": "display_data"
    }
   ],
   "source": [
    "# Aplicamos la función step (forward)\n",
    "forward.ols = step(const.ols, direction='forward', scope=list(lower=const.ols, upper=all.ols))\n",
    "forward.ols"
   ]
  },
  {
   "cell_type": "markdown",
   "metadata": {},
   "source": [
    "Tras aplicar $14$ iteraciones del algoritmo, hemos obtenido un modelo final que utiliza las siguientes variables:\n",
    "\n",
    "- `grad_univ`\n",
    "- `paro`\n",
    "- `jubilados`\n",
    "- `asia`\n",
    "- `mormones`\n",
    "- `densidad`\n",
    "- `evangelicos`\n",
    "- `mujeres`\n",
    "- `protestantes`\n",
    "\n",
    "Además, proporciona información sobre los coeficientes asociados a cada variable, así como la suma de cuadrados de los residuos ($893.40$) y el valor del coeficiente AIC ($166.02$). Se observa que este último es menor que el AIC resultante al incluir todas las otras variables. Por lo tanto, se ha seleccionado este modelo como el más adecuado.\n"
   ]
  },
  {
   "cell_type": "code",
   "execution_count": 59,
   "metadata": {
    "scrolled": true,
    "tags": []
   },
   "outputs": [
    {
     "name": "stdout",
     "output_type": "stream",
     "text": [
      "Start:  AIC=176.06\n",
      "obama ~ region + densidad + veteranos + mujeres + grad_instituto + \n",
      "    grad_univ + afro + asia + hispanos + blancos + evangelicos + \n",
      "    protestantes + relig_afro + catolicos + mormones + jubilados + \n",
      "    paro + salario + diputados\n",
      "\n",
      "                 Df Sum of Sq     RSS    AIC\n",
      "- afro            1      0.12  734.94 174.07\n",
      "- jubilados       1      1.43  736.24 174.16\n",
      "- veteranos       1      2.29  737.10 174.22\n",
      "- catolicos       1      2.81  737.63 174.25\n",
      "- mujeres         1      4.96  739.78 174.40\n",
      "- salario         1     24.98  759.80 175.76\n",
      "- protestantes    1     26.01  760.83 175.83\n",
      "- grad_instituto  1     27.42  762.24 175.93\n",
      "- relig_afro      1     28.05  762.87 175.97\n",
      "- diputados       1     29.04  763.86 176.03\n",
      "<none>                         734.82 176.06\n",
      "- region          1     37.10  771.91 176.57\n",
      "- blancos         1     37.39  772.20 176.59\n",
      "- evangelicos     1     57.77  792.58 177.92\n",
      "- hispanos        1     71.48  806.30 178.79\n",
      "- densidad        1     80.77  815.59 179.38\n",
      "- mormones        1     85.56  820.37 179.68\n",
      "- grad_univ       1    100.04  834.85 180.57\n",
      "- asia            1    228.82  963.63 187.88\n",
      "- paro            1    334.60 1069.41 193.19\n",
      "\n",
      "Step:  AIC=174.07\n",
      "obama ~ region + densidad + veteranos + mujeres + grad_instituto + \n",
      "    grad_univ + asia + hispanos + blancos + evangelicos + protestantes + \n",
      "    relig_afro + catolicos + mormones + jubilados + paro + salario + \n",
      "    diputados\n",
      "\n",
      "                 Df Sum of Sq     RSS    AIC\n",
      "- jubilados       1      1.36  736.30 172.16\n",
      "- veteranos       1      2.38  737.32 172.23\n",
      "- catolicos       1      2.78  737.72 172.26\n",
      "- mujeres         1      4.90  739.84 172.41\n",
      "- salario         1     24.93  759.87 173.77\n",
      "- protestantes    1     26.36  761.30 173.86\n",
      "- grad_instituto  1     27.93  762.87 173.97\n",
      "<none>                         734.94 174.07\n",
      "- diputados       1     30.12  765.06 174.12\n",
      "- region          1     37.20  772.14 174.58\n",
      "- blancos         1     52.74  787.68 175.60\n",
      "- evangelicos     1     57.73  792.67 175.92\n",
      "- relig_afro      1     62.42  797.36 176.22\n",
      "- mormones        1     87.23  822.17 177.79\n",
      "- hispanos        1     92.87  827.80 178.13\n",
      "- densidad        1     94.14  829.08 178.21\n",
      "- grad_univ       1    103.05  837.99 178.76\n",
      "- asia            1    292.53 1027.47 189.15\n",
      "- paro            1    350.86 1085.80 191.97\n",
      "\n",
      "Step:  AIC=172.16\n",
      "obama ~ region + densidad + veteranos + mujeres + grad_instituto + \n",
      "    grad_univ + asia + hispanos + blancos + evangelicos + protestantes + \n",
      "    relig_afro + catolicos + mormones + paro + salario + diputados\n",
      "\n",
      "                 Df Sum of Sq     RSS    AIC\n",
      "- catolicos       1      1.81  738.10 170.28\n",
      "- veteranos       1      4.79  741.09 170.49\n",
      "- mujeres         1     18.66  754.96 171.44\n",
      "- salario         1     26.97  763.27 172.00\n",
      "- protestantes    1     27.03  763.32 172.00\n",
      "- diputados       1     28.78  765.08 172.12\n",
      "<none>                         736.30 172.16\n",
      "- grad_instituto  1     33.75  770.05 172.45\n",
      "- region          1     35.91  772.21 172.59\n",
      "- blancos         1     52.88  789.18 173.70\n",
      "- evangelicos     1     56.81  793.11 173.95\n",
      "- relig_afro      1     62.74  799.04 174.33\n",
      "- mormones        1     90.02  826.32 176.04\n",
      "- hispanos        1     92.00  828.30 176.16\n",
      "- densidad        1     99.29  835.58 176.61\n",
      "- grad_univ       1    117.73  854.03 177.72\n",
      "- asia            1    296.70 1033.00 187.43\n",
      "- paro            1    357.29 1093.58 190.34\n",
      "\n",
      "Step:  AIC=170.29\n",
      "obama ~ region + densidad + veteranos + mujeres + grad_instituto + \n",
      "    grad_univ + asia + hispanos + blancos + evangelicos + protestantes + \n",
      "    relig_afro + mormones + paro + salario + diputados\n",
      "\n",
      "                 Df Sum of Sq     RSS    AIC\n",
      "- veteranos       1      8.86  746.97 168.89\n",
      "- mujeres         1     25.03  763.14 169.99\n",
      "- salario         1     25.23  763.33 170.00\n",
      "- diputados       1     27.08  765.18 170.12\n",
      "<none>                         738.10 170.28\n",
      "- protestantes    1     31.86  769.97 170.44\n",
      "- grad_instituto  1     31.94  770.05 170.45\n",
      "- region          1     37.06  775.16 170.78\n",
      "- blancos         1     52.68  790.79 171.80\n",
      "- relig_afro      1     61.82  799.92 172.39\n",
      "- evangelicos     1     68.02  806.12 172.78\n",
      "- densidad        1     98.39  836.49 174.67\n",
      "- hispanos        1    106.98  845.08 175.19\n",
      "- mormones        1    110.03  848.14 175.37\n",
      "- grad_univ       1    116.40  854.51 175.75\n",
      "- asia            1    328.27 1066.37 187.05\n",
      "- paro            1    355.92 1094.03 188.36\n",
      "\n",
      "Step:  AIC=168.89\n",
      "obama ~ region + densidad + mujeres + grad_instituto + grad_univ + \n",
      "    asia + hispanos + blancos + evangelicos + protestantes + \n",
      "    relig_afro + mormones + paro + salario + diputados\n",
      "\n",
      "                 Df Sum of Sq     RSS    AIC\n",
      "- salario         1     23.05  770.02 168.44\n",
      "- region          1     28.42  775.39 168.80\n",
      "- mujeres         1     29.00  775.97 168.84\n",
      "<none>                         746.97 168.89\n",
      "- protestantes    1     33.87  780.84 169.16\n",
      "- grad_instituto  1     41.38  788.35 169.64\n",
      "- diputados       1     51.81  798.78 170.31\n",
      "- blancos         1     51.83  798.79 170.31\n",
      "- relig_afro      1     58.39  805.36 170.73\n",
      "- evangelicos     1     69.44  816.41 171.43\n",
      "- densidad        1     89.84  836.81 172.69\n",
      "- hispanos        1    105.34  852.31 173.62\n",
      "- grad_univ       1    108.32  855.29 173.80\n",
      "- mormones        1    205.07  952.04 179.27\n",
      "- asia            1    322.86 1069.83 185.22\n",
      "- paro            1    350.98 1097.95 186.54\n",
      "\n",
      "Step:  AIC=168.44\n",
      "obama ~ region + densidad + mujeres + grad_instituto + grad_univ + \n",
      "    asia + hispanos + blancos + evangelicos + protestantes + \n",
      "    relig_afro + mormones + paro + diputados\n",
      "\n",
      "                 Df Sum of Sq     RSS    AIC\n",
      "- region          1     21.27  791.29 167.83\n",
      "<none>                         770.02 168.44\n",
      "- protestantes    1     34.40  804.42 168.67\n",
      "- grad_instituto  1     40.82  810.84 169.08\n",
      "- blancos         1     44.53  814.55 169.31\n",
      "- relig_afro      1     48.08  818.10 169.53\n",
      "- diputados       1     52.05  822.07 169.78\n",
      "- evangelicos     1     59.30  829.33 170.23\n",
      "- mujeres         1     61.94  831.96 170.39\n",
      "- grad_univ       1     91.30  861.32 172.16\n",
      "- densidad        1     97.14  867.17 172.50\n",
      "- hispanos        1    100.26  870.28 172.69\n",
      "- mormones        1    202.76  972.79 178.37\n",
      "- asia            1    304.77 1074.80 183.45\n",
      "- paro            1    350.16 1120.18 185.56\n",
      "\n",
      "Step:  AIC=167.83\n",
      "obama ~ densidad + mujeres + grad_instituto + grad_univ + asia + \n",
      "    hispanos + blancos + evangelicos + protestantes + relig_afro + \n",
      "    mormones + paro + diputados\n",
      "\n",
      "                 Df Sum of Sq     RSS    AIC\n",
      "- protestantes    1     29.27  820.56 167.69\n",
      "<none>                         791.29 167.83\n",
      "- relig_afro      1     34.64  825.93 168.02\n",
      "- diputados       1     37.99  829.28 168.22\n",
      "- grad_instituto  1     39.47  830.76 168.32\n",
      "- blancos         1     40.48  831.77 168.38\n",
      "- hispanos        1     81.36  872.65 170.82\n",
      "- densidad        1     81.54  872.83 170.84\n",
      "- grad_univ       1     97.50  888.79 171.76\n",
      "- evangelicos     1    104.90  896.19 172.18\n",
      "- mujeres         1    147.93  939.22 174.57\n",
      "- asia            1    285.33 1076.62 181.54\n",
      "- mormones        1    288.17 1079.46 181.67\n",
      "- paro            1    332.69 1123.98 183.73\n",
      "\n",
      "Step:  AIC=167.69\n",
      "obama ~ densidad + mujeres + grad_instituto + grad_univ + asia + \n",
      "    hispanos + blancos + evangelicos + relig_afro + mormones + \n",
      "    paro + diputados\n",
      "\n",
      "                 Df Sum of Sq     RSS    AIC\n",
      "- diputados       1     24.80  845.36 167.21\n",
      "- relig_afro      1     29.44  850.00 167.48\n",
      "<none>                         820.56 167.69\n",
      "- blancos         1     47.93  868.49 168.58\n",
      "- grad_instituto  1     65.43  885.99 169.60\n",
      "- hispanos        1     81.44  902.00 170.51\n",
      "- grad_univ       1     81.58  902.14 170.52\n",
      "- evangelicos     1     92.20  912.76 171.12\n",
      "- densidad        1    126.62  947.18 173.00\n",
      "- mujeres         1    144.26  964.83 173.95\n",
      "- asia            1    293.26 1113.82 181.27\n",
      "- paro            1    304.57 1125.14 181.78\n",
      "- mormones        1    542.00 1362.56 191.55\n",
      "\n",
      "Step:  AIC=167.2\n",
      "obama ~ densidad + mujeres + grad_instituto + grad_univ + asia + \n",
      "    hispanos + blancos + evangelicos + relig_afro + mormones + \n",
      "    paro\n",
      "\n",
      "                 Df Sum of Sq     RSS    AIC\n",
      "- relig_afro      1     18.06  863.42 166.28\n",
      "- blancos         1     32.44  877.80 167.12\n",
      "<none>                         845.36 167.21\n",
      "- hispanos        1     59.58  904.94 168.68\n",
      "- grad_univ       1     67.63  912.99 169.13\n",
      "- evangelicos     1     86.38  931.74 170.17\n",
      "- grad_instituto  1     88.22  933.58 170.27\n",
      "- densidad        1    135.15  980.51 172.77\n",
      "- mujeres         1    159.05 1004.41 174.00\n",
      "- asia            1    268.62 1113.98 179.28\n",
      "- paro            1    291.91 1137.27 180.33\n",
      "- mormones        1    517.47 1362.83 189.56\n",
      "\n",
      "Step:  AIC=166.28\n",
      "obama ~ densidad + mujeres + grad_instituto + grad_univ + asia + \n",
      "    hispanos + blancos + evangelicos + mormones + paro\n",
      "\n",
      "                 Df Sum of Sq     RSS    AIC\n",
      "- blancos         1     16.03  879.45 165.22\n",
      "<none>                         863.42 166.28\n",
      "- hispanos        1     52.93  916.35 167.32\n",
      "- evangelicos     1     73.35  936.77 168.44\n",
      "- grad_instituto  1     77.62  941.04 168.67\n",
      "- grad_univ       1     78.03  941.45 168.70\n",
      "- densidad        1    119.25  982.67 170.88\n",
      "- mujeres         1    278.56 1141.98 178.54\n",
      "- paro            1    307.75 1171.17 179.83\n",
      "- asia            1    465.03 1328.45 186.26\n",
      "- mormones        1    501.07 1364.49 187.62\n",
      "\n",
      "Step:  AIC=165.22\n",
      "obama ~ densidad + mujeres + grad_instituto + grad_univ + asia + \n",
      "    hispanos + evangelicos + mormones + paro\n",
      "\n",
      "                 Df Sum of Sq     RSS    AIC\n",
      "<none>                         879.45 165.22\n",
      "- hispanos        1     37.14  916.59 165.33\n",
      "- grad_univ       1     70.03  949.47 167.13\n",
      "- evangelicos     1     84.02  963.47 167.87\n",
      "- densidad        1    103.52  982.97 168.90\n",
      "- grad_instituto  1    119.32  998.77 169.71\n",
      "- mujeres         1    285.19 1164.63 177.54\n",
      "- paro            1    305.27 1184.71 178.42\n",
      "- mormones        1    492.00 1371.45 185.88\n",
      "- asia            1    775.31 1654.76 195.46\n"
     ]
    },
    {
     "data": {
      "text/plain": [
       "\n",
       "Call:\n",
       "lm(formula = obama ~ densidad + mujeres + grad_instituto + grad_univ + \n",
       "    asia + hispanos + evangelicos + mormones + paro, data = usa)\n",
       "\n",
       "Coefficients:\n",
       "   (Intercept)        densidad         mujeres  grad_instituto       grad_univ  \n",
       "    -3.263e+02       1.555e-03       5.087e+00       1.056e+00       4.207e-01  \n",
       "          asia        hispanos     evangelicos        mormones            paro  \n",
       "     7.629e-01       1.379e-01      -1.596e-01      -3.967e-01       1.854e+00  \n"
      ]
     },
     "metadata": {},
     "output_type": "display_data"
    }
   ],
   "source": [
    "# Aplicamos la función step (backward)\n",
    "backward.ols = step(all.ols, direction='backward', scope=list(lower=const.ols, upper=all.ols))\n",
    "backward.ols"
   ]
  },
  {
   "cell_type": "markdown",
   "metadata": {},
   "source": [
    "En la dirección contraria se han realizado $11$ iteraciones y se ha obtenido un modelo que utiliza las siguientes variables:\n",
    "\n",
    "- `densidad`\n",
    "- `mujeres`\n",
    "- `grad_instituto`\n",
    "- `grad_univ`\n",
    "- `asia`\n",
    "- `hispanos`\n",
    "- `evangelicos`\n",
    "- `mormones`\n",
    "- `paro`\n",
    "\n",
    "No hemos conseguido el mismo modelo que antes, pues hay dos variables intercambiadas: `grad_instituto` e `hispanos` por `jubilados` y `protestantes`, que aparecían en el anterior modelo. En este caso hemos terminado con un $SSR$ de $879.45$ y un $AIC$ de $165.22$. Vamos a comparar las métricas $R^2$ ajustado, $AIC$ y $BIC$ de ambos modelos para decidir cuál elegimos."
   ]
  },
  {
   "cell_type": "code",
   "execution_count": 60,
   "metadata": {},
   "outputs": [
    {
     "data": {
      "text/html": [
       "<table class=\"dataframe\">\n",
       "<caption>A data.frame: 2 × 3</caption>\n",
       "<thead>\n",
       "\t<tr><th></th><th scope=col>R2</th><th scope=col>AIC</th><th scope=col>BIC</th></tr>\n",
       "\t<tr><th></th><th scope=col>&lt;dbl&gt;</th><th scope=col>&lt;dbl&gt;</th><th scope=col>&lt;dbl&gt;</th></tr>\n",
       "</thead>\n",
       "<tbody>\n",
       "\t<tr><th scope=row>forward</th><td>0.8437960</td><td>166.0235</td><td>185.3417</td></tr>\n",
       "\t<tr><th scope=row>backward</th><td>0.8462352</td><td>165.2208</td><td>184.5391</td></tr>\n",
       "</tbody>\n",
       "</table>\n"
      ],
      "text/latex": [
       "A data.frame: 2 × 3\n",
       "\\begin{tabular}{r|lll}\n",
       "  & R2 & AIC & BIC\\\\\n",
       "  & <dbl> & <dbl> & <dbl>\\\\\n",
       "\\hline\n",
       "\tforward & 0.8437960 & 166.0235 & 185.3417\\\\\n",
       "\tbackward & 0.8462352 & 165.2208 & 184.5391\\\\\n",
       "\\end{tabular}\n"
      ],
      "text/markdown": [
       "\n",
       "A data.frame: 2 × 3\n",
       "\n",
       "| <!--/--> | R2 &lt;dbl&gt; | AIC &lt;dbl&gt; | BIC &lt;dbl&gt; |\n",
       "|---|---|---|---|\n",
       "| forward | 0.8437960 | 166.0235 | 185.3417 |\n",
       "| backward | 0.8462352 | 165.2208 | 184.5391 |\n",
       "\n"
      ],
      "text/plain": [
       "         R2        AIC      BIC     \n",
       "forward  0.8437960 166.0235 185.3417\n",
       "backward 0.8462352 165.2208 184.5391"
      ]
     },
     "metadata": {},
     "output_type": "display_data"
    }
   ],
   "source": [
    "# Comparamos las métricas pra elegir el mejor modelo\n",
    "n = dim(usa)[1]\n",
    "k = log(n)\n",
    "\n",
    "R2 = c(summary(forward.ols)$adj.r.squared, summary(backward.ols)$adj.r.squared)\n",
    "AIC = c(extractAIC(forward.ols)[2], extractAIC(backward.ols)[2])\n",
    "BIC = c(extractAIC(forward.ols, k=k)[2], extractAIC(backward.ols, k=k)[2])\n",
    "\n",
    "data.frame(R2, AIC, BIC, row.names=c('forward', 'backward'))"
   ]
  },
  {
   "cell_type": "markdown",
   "metadata": {},
   "source": [
    "Observamos valores muy parecidos para las tres métricas. Por un lado, ambos modelos tienen un valor de $R^2$ ajustado de $0.84$, siendo el del modelo *backward* mayor en la centésima. Es un valor bastante alto en cualquier caso, pero la diferencia entre ambos no parece significativa. Por otro lado, los coeficientes $AIC$ y $BIC$ son algo menores en el modelo *backward* de nuevo, lo que indica un menor ajuste, aunque con poca diferencia. Por tanto, finalmente debemos escoger el modelo *backward* porque ha producido un mejor ajuste según las tres métricas que hemos analizado."
   ]
  },
  {
   "cell_type": "code",
   "execution_count": 61,
   "metadata": {},
   "outputs": [
    {
     "data": {
      "text/plain": [
       "\n",
       "Call:\n",
       "lm(formula = obama ~ densidad + mujeres + grad_instituto + grad_univ + \n",
       "    asia + hispanos + evangelicos + mormones + paro, data = usa)\n",
       "\n",
       "Residuals:\n",
       "     Min       1Q   Median       3Q      Max \n",
       "-10.1779  -2.0756   0.1336   1.2912  15.6640 \n",
       "\n",
       "Coefficients:\n",
       "                 Estimate Std. Error t value Pr(>|t|)    \n",
       "(Intercept)    -3.263e+02  9.779e+01  -3.336 0.001813 ** \n",
       "densidad        1.555e-03  7.079e-04   2.197 0.033738 *  \n",
       "mujeres         5.087e+00  1.395e+00   3.646 0.000743 ***\n",
       "grad_instituto  1.056e+00  4.479e-01   2.359 0.023195 *  \n",
       "grad_univ       4.207e-01  2.328e-01   1.807 0.078131 .  \n",
       "asia            7.629e-01  1.269e-01   6.012 4.16e-07 ***\n",
       "hispanos        1.379e-01  1.048e-01   1.316 0.195527    \n",
       "evangelicos    -1.596e-01  8.063e-02  -1.979 0.054539 .  \n",
       "mormones       -3.967e-01  8.282e-02  -4.789 2.20e-05 ***\n",
       "paro            1.854e+00  4.915e-01   3.772 0.000512 ***\n",
       "---\n",
       "Signif. codes:  0 '***' 0.001 '**' 0.01 '*' 0.05 '.' 0.1 ' ' 1\n",
       "\n",
       "Residual standard error: 4.631 on 41 degrees of freedom\n",
       "Multiple R-squared:  0.8739,\tAdjusted R-squared:  0.8462 \n",
       "F-statistic: 31.57 on 9 and 41 DF,  p-value: 1.126e-15\n"
      ]
     },
     "metadata": {},
     "output_type": "display_data"
    }
   ],
   "source": [
    "# Aplicamos el ajuste de regresión lineal a través de la función lm al mejor modelo\n",
    "ols = backward.ols\n",
    "\n",
    "# Obtenemos un summary de la salida\n",
    "output = summary(ols)\n",
    "output"
   ]
  },
  {
   "cell_type": "markdown",
   "metadata": {},
   "source": [
    "Observando ya los coeficientes del modelo, hemos obtenido la siguiente regresión:\n",
    "\n",
    "$$y = \\beta_0 + \\sum_{i=1}^9 \\beta_i x_i,$$\n",
    "\n",
    "con\n",
    "\n",
    "$$\\beta_0 = -0.032 \\quad \\beta_1 = 0.001 \\quad \\beta_2 = 5.087 \\quad \\beta_3 = 1.056$$\n",
    "$$\\beta_4 = 0.420 \\quad \\beta_5 = 0.762 \\quad \\beta_6 = 0.137$$\n",
    "$$\\beta_7 = -0.159 \\quad \\beta_8 = -0.396 \\quad \\beta_9 = 1.854,$$\n",
    "\n",
    "donde el subíndice se refiere a la variable por orden de aparición. Además, por los $p$-valores asociados a cada coeficiente, podemos determinar que los asociados a `grad_univ`, `hispanos` y `evangélicos` no son significativos, pues son mayores que el nivel de significación $\\alpha = 0.05$ y no podemos rechazar la hipótesis nula de que valgan cero. Terminemos con la diagnosis del modelo."
   ]
  },
  {
   "cell_type": "markdown",
   "metadata": {},
   "source": [
    "### Diagnosis del modelo"
   ]
  },
  {
   "cell_type": "code",
   "execution_count": 62,
   "metadata": {},
   "outputs": [
    {
     "data": {
      "image/png": "[encoded data removed]",
      "text/plain": [
       "Plot with title \"\""
      ]
     },
     "metadata": {
      "image/png": {
       "height": 420,
       "width": 420
      }
     },
     "output_type": "display_data"
    },
    {
     "data": {
      "image/png": "[encoded data removed]",
      "text/plain": [
       "Plot with title \"\""
      ]
     },
     "metadata": {
      "image/png": {
       "height": 420,
       "width": 420
      }
     },
     "output_type": "display_data"
    }
   ],
   "source": [
    "# Comenzamos a realizar la tarea de diagnosis del mejor modelo \n",
    "plot(ols, which=1)\n",
    "plot(ols, which=3)"
   ]
  },
  {
   "cell_type": "markdown",
   "metadata": {},
   "source": [
    "Por la primera gráfica, parece que a medida que aumenta el valor de $\\hat{y}$ los residuos se van acercando a $0$, por lo que es posible que no exista homocedasticidad entre estas dos variables."
   ]
  },
  {
   "cell_type": "code",
   "execution_count": 63,
   "metadata": {},
   "outputs": [
    {
     "data": {
      "text/plain": [
       "\n",
       "\tBartlett test of homogeneity of variances\n",
       "\n",
       "data:  list(ols$fitted.values, eps)\n",
       "Bartlett's K-squared = 40.558, df = 1, p-value = 1.909e-10\n"
      ]
     },
     "metadata": {},
     "output_type": "display_data"
    }
   ],
   "source": [
    "# Obtenemos los residuos\n",
    "eps = output$residuals\n",
    "\n",
    "# Obtenemos los resultados del test de Bartlett\n",
    "bartlett.test(list(ols$fitted.values, eps))"
   ]
  },
  {
   "cell_type": "markdown",
   "metadata": {},
   "source": [
    "Efectivamente, el valor p que hemos obtenido es considerablemente menor que el nivel de significancia $\\alpha = 0.05$. En consecuencia, los residuos no presentan una distribución uniforme a lo largo del ajuste realizado en el modelo de regresión.\n"
   ]
  },
  {
   "cell_type": "code",
   "execution_count": 64,
   "metadata": {},
   "outputs": [
    {
     "data": {
      "image/png": "[encoded data removed]",
      "text/plain": [
       "Plot with title \"\""
      ]
     },
     "metadata": {
      "image/png": {
       "height": 420,
       "width": 420
      }
     },
     "output_type": "display_data"
    }
   ],
   "source": [
    "# Obtenemos la gráfica quantil-quantil\n",
    "plot(ols, which=2)"
   ]
  },
  {
   "cell_type": "markdown",
   "metadata": {},
   "source": [
    "Por otra parte, cabe la posibilidad de que la distribución de los residuos sea normal, ya que la mayoría de los puntos parecen ajustarse adecuadamente a una línea recta. No obstante, es necesario llevar a cabo un contraste de hipótesis para corroborar esto, ya que algunos puntos muestran una considerable dispersión.\n"
   ]
  },
  {
   "cell_type": "code",
   "execution_count": 65,
   "metadata": {},
   "outputs": [
    {
     "data": {
      "text/plain": [
       "\n",
       "\tLilliefors (Kolmogorov-Smirnov) normality test\n",
       "\n",
       "data:  eps\n",
       "D = 0.14064, p-value = 0.01327\n"
      ]
     },
     "metadata": {},
     "output_type": "display_data"
    }
   ],
   "source": [
    "# Aplicamos el test de K-S-L para contrastar la normalidad\n",
    "lillie.test(eps)"
   ]
  },
  {
   "cell_type": "markdown",
   "metadata": {},
   "source": [
    "Realmente el $p$-valor es inferior a $\\alpha$, por lo que debemos rechazar la hipótesis nula de que provengan de una distribución normal."
   ]
  },
  {
   "cell_type": "code",
   "execution_count": 66,
   "metadata": {},
   "outputs": [
    {
     "name": "stderr",
     "output_type": "stream",
     "text": [
      "Warning message in sqrt(crit * p * (1 - hh)/hh):\n",
      "\"Se han producido NaNs\"\n",
      "Warning message in sqrt(crit * p * (1 - hh)/hh):\n",
      "\"Se han producido NaNs\"\n"
     ]
    },
    {
     "data": {
      "image/png": "[encoded data removed]",
      "text/plain": [
       "Plot with title \"\""
      ]
     },
     "metadata": {
      "image/png": {
       "height": 420,
       "width": 420
      }
     },
     "output_type": "display_data"
    }
   ],
   "source": [
    "plot(ols, which=5)"
   ]
  },
  {
   "cell_type": "markdown",
   "metadata": {},
   "source": [
    "En esta última gráfica se aprecian varios puntos influyentes que se sitúan fuera de la línea de Cook. Estos puntos se identifican con los valores $9$ y $12$. El primero de ellos no solo se considera un valor atípico, sino que también ejerce un efecto significativo en el modelo, mientras que el segundo se clasifica como un valor atípico debido a la dirección (positiva o negativa) de su residuo. En conclusión, procedemos a realizar un análisis de la correlación entre las variables independientes que hemos tenido en cuenta.\n"
   ]
  },
  {
   "cell_type": "code",
   "execution_count": 67,
   "metadata": {},
   "outputs": [],
   "source": [
    "# Seleccionamos las variables que nos interesan\n",
    "usa = usa[, c(\n",
    "    'densidad',\n",
    "    'mujeres',\n",
    "    'grad_instituto',\n",
    "    'grad_univ', \n",
    "    'asia',\n",
    "    'hispanos',\n",
    "    'evangelicos',\n",
    "    'mormones',\n",
    "    'paro',\n",
    "    'obama'\n",
    ")]"
   ]
  },
  {
   "cell_type": "markdown",
   "metadata": {},
   "source": [
    "Para usar el coeficiente de correlación de Pearson debemos comprobar la normalidad y homocedasticidad de las variables implicadas"
   ]
  },
  {
   "cell_type": "code",
   "execution_count": 68,
   "metadata": {},
   "outputs": [
    {
     "data": {
      "text/html": [
       "<dl>\n",
       "\t<dt>$densidad</dt>\n",
       "\t\t<dd>6.018834041172e-22</dd>\n",
       "\t<dt>$mujeres</dt>\n",
       "\t\t<dd>0.290262676972639</dd>\n",
       "\t<dt>$grad_instituto</dt>\n",
       "\t\t<dd>0.123008668721893</dd>\n",
       "\t<dt>$grad_univ</dt>\n",
       "\t\t<dd>0.137753405941323</dd>\n",
       "\t<dt>$asia</dt>\n",
       "\t\t<dd>7.47331927439102e-11</dd>\n",
       "\t<dt>$hispanos</dt>\n",
       "\t\t<dd>5.89789163032777e-06</dd>\n",
       "\t<dt>$evangelicos</dt>\n",
       "\t\t<dd>0.00229041969918629</dd>\n",
       "\t<dt>$mormones</dt>\n",
       "\t\t<dd>7.1966565769107e-20</dd>\n",
       "\t<dt>$paro</dt>\n",
       "\t\t<dd>0.257106288905181</dd>\n",
       "\t<dt>$obama</dt>\n",
       "\t\t<dd>0.617723973827235</dd>\n",
       "</dl>\n"
      ],
      "text/latex": [
       "\\begin{description}\n",
       "\\item[\\$densidad] 6.018834041172e-22\n",
       "\\item[\\$mujeres] 0.290262676972639\n",
       "\\item[\\$grad\\_instituto] 0.123008668721893\n",
       "\\item[\\$grad\\_univ] 0.137753405941323\n",
       "\\item[\\$asia] 7.47331927439102e-11\n",
       "\\item[\\$hispanos] 5.89789163032777e-06\n",
       "\\item[\\$evangelicos] 0.00229041969918629\n",
       "\\item[\\$mormones] 7.1966565769107e-20\n",
       "\\item[\\$paro] 0.257106288905181\n",
       "\\item[\\$obama] 0.617723973827235\n",
       "\\end{description}\n"
      ],
      "text/markdown": [
       "$densidad\n",
       ":   6.018834041172e-22\n",
       "$mujeres\n",
       ":   0.290262676972639\n",
       "$grad_instituto\n",
       ":   0.123008668721893\n",
       "$grad_univ\n",
       ":   0.137753405941323\n",
       "$asia\n",
       ":   7.47331927439102e-11\n",
       "$hispanos\n",
       ":   5.89789163032777e-06\n",
       "$evangelicos\n",
       ":   0.00229041969918629\n",
       "$mormones\n",
       ":   7.1966565769107e-20\n",
       "$paro\n",
       ":   0.257106288905181\n",
       "$obama\n",
       ":   0.617723973827235\n",
       "\n",
       "\n"
      ],
      "text/plain": [
       "$densidad\n",
       "[1] 6.018834e-22\n",
       "\n",
       "$mujeres\n",
       "[1] 0.2902627\n",
       "\n",
       "$grad_instituto\n",
       "[1] 0.1230087\n",
       "\n",
       "$grad_univ\n",
       "[1] 0.1377534\n",
       "\n",
       "$asia\n",
       "[1] 7.473319e-11\n",
       "\n",
       "$hispanos\n",
       "[1] 5.897892e-06\n",
       "\n",
       "$evangelicos\n",
       "[1] 0.00229042\n",
       "\n",
       "$mormones\n",
       "[1] 7.196657e-20\n",
       "\n",
       "$paro\n",
       "[1] 0.2571063\n",
       "\n",
       "$obama\n",
       "[1] 0.617724\n"
      ]
     },
     "metadata": {},
     "output_type": "display_data"
    }
   ],
   "source": [
    "# Aplicamos el test de K-S-L para contrastar la normalidad\n",
    "lapply(usa, FUN=function(x) lillie.test(x)$p.value)"
   ]
  },
  {
   "cell_type": "markdown",
   "metadata": {},
   "source": [
    "Los $p$-valores de las variables `densidad`, `asia`, `hispanos`, `evangelicos` y `mormones` son menores que el nivel de significación $\\alpha = 0.05$, por lo que estas no siguen una distribución normal."
   ]
  },
  {
   "cell_type": "code",
   "execution_count": 69,
   "metadata": {},
   "outputs": [
    {
     "data": {
      "text/html": [
       "<table class=\"dataframe\">\n",
       "<caption>A matrix: 10 × 10</caption>\n",
       "<thead>\n",
       "\t<tr><th></th><th scope=col>densidad</th><th scope=col>mujeres</th><th scope=col>grad_instituto</th><th scope=col>grad_univ</th><th scope=col>asia</th><th scope=col>hispanos</th><th scope=col>evangelicos</th><th scope=col>mormones</th><th scope=col>paro</th><th scope=col>obama</th></tr>\n",
       "\t<tr><th></th><th scope=col>&lt;dbl&gt;</th><th scope=col>&lt;dbl&gt;</th><th scope=col>&lt;dbl&gt;</th><th scope=col>&lt;dbl&gt;</th><th scope=col>&lt;dbl&gt;</th><th scope=col>&lt;dbl&gt;</th><th scope=col>&lt;dbl&gt;</th><th scope=col>&lt;dbl&gt;</th><th scope=col>&lt;dbl&gt;</th><th scope=col>&lt;dbl&gt;</th><th scope=col>⋯</th><th scope=col>&lt;dbl&gt;</th><th scope=col>&lt;dbl&gt;</th><th scope=col>&lt;dbl&gt;</th><th scope=col>&lt;dbl&gt;</th><th scope=col>&lt;dbl&gt;</th><th scope=col>&lt;dbl&gt;</th><th scope=col>&lt;dbl&gt;</th><th scope=col>&lt;dbl&gt;</th><th scope=col>&lt;dbl&gt;</th><th scope=col>&lt;dbl&gt;</th></tr>\n",
       "</thead>\n",
       "<tbody>\n",
       "\t<tr><th scope=row>densidad</th><td>1</td><td>1.07872e-147</td><td>4.477618e-117</td><td>6.561591e-105</td><td>5.509873e-106</td><td>6.322697e-93</td><td>5.880101e-89</td><td>3.441538e-96</td><td>3.751708e-131</td><td>1.529063e-89</td></tr>\n",
       "\t<tr><th scope=row>mujeres</th><td>1.07872e-147</td><td>1</td><td>1.174372e-18</td><td>4.307967e-30</td><td>4.723156e-29</td><td>7.416671e-42</td><td>8.540351e-46</td><td>1.254094e-38</td><td>2.348513e-07</td><td>3.257034e-45</td></tr>\n",
       "\t<tr><th scope=row>grad_instituto</th><td>4.477618e-117</td><td>1.174372e-18</td><td>1</td><td>0.0001066455</td><td>0.00039012</td><td>4.633596e-13</td><td>1.988876e-16</td><td>1.806496e-10</td><td>8.626763e-06</td><td>6.420317e-16</td></tr>\n",
       "\t<tr><th scope=row>grad_univ</th><td>6.561591e-105</td><td>4.307967e-30</td><td>0.0001066455</td><td>1</td><td>0.7253705</td><td>0.0001340336</td><td>5.83291e-07</td><td>0.004953957</td><td>8.144782e-15</td><td>1.387776e-06</td></tr>\n",
       "\t<tr><th scope=row>asia</th><td>5.509873e-106</td><td>4.723156e-29</td><td>0.00039012</td><td>0.7253705</td><td>1</td><td>3.413922e-05</td><td>1.121827e-07</td><td>0.001654099</td><td>6.584857e-14</td><td>2.771949e-07</td></tr>\n",
       "\t<tr><th scope=row>hispanos</th><td>6.322697e-93</td><td>7.416671e-42</td><td>4.633596e-13</td><td>0.0001340336</td><td>3.413922e-05</td><td>1</td><td>0.1963219</td><td>0.2874192</td><td>1.044109e-25</td><td>0.2702484</td></tr>\n",
       "\t<tr><th scope=row>evangelicos</th><td>5.880101e-89</td><td>8.540351e-46</td><td>1.988876e-16</td><td>5.83291e-07</td><td>1.121827e-07</td><td>0.1963219</td><td>1</td><td>0.01928689</td><td>1.636633e-29</td><td>0.8485439</td></tr>\n",
       "\t<tr><th scope=row>mormones</th><td>3.441538e-96</td><td>1.254094e-38</td><td>1.806496e-10</td><td>0.004953957</td><td>0.001654099</td><td>0.2874192</td><td>0.01928689</td><td>1</td><td>1.239064e-22</td><td>0.0312621</td></tr>\n",
       "\t<tr><th scope=row>paro</th><td>3.751708e-131</td><td>2.348513e-07</td><td>8.626763e-06</td><td>8.144782e-15</td><td>6.584857e-14</td><td>1.044109e-25</td><td>1.636633e-29</td><td>1.239064e-22</td><td>1</td><td>6.005489e-29</td></tr>\n",
       "\t<tr><th scope=row>obama</th><td>1.529063e-89</td><td>3.257034e-45</td><td>6.420317e-16</td><td>1.387776e-06</td><td>2.771949e-07</td><td>0.2702484</td><td>0.8485439</td><td>0.0312621</td><td>6.005489e-29</td><td>1</td></tr>\n",
       "</tbody>\n",
       "</table>\n"
      ],
      "text/latex": [
       "A matrix: 10 × 10\n",
       "\\begin{tabular}{r|llllllllll}\n",
       "  & densidad & mujeres & grad\\_instituto & grad\\_univ & asia & hispanos & evangelicos & mormones & paro & obama\\\\\n",
       "  & <dbl> & <dbl> & <dbl> & <dbl> & <dbl> & <dbl> & <dbl> & <dbl> & <dbl> & <dbl> & ⋯ & <dbl> & <dbl> & <dbl> & <dbl> & <dbl> & <dbl> & <dbl> & <dbl> & <dbl> & <dbl>\\\\\n",
       "\\hline\n",
       "\tdensidad & 1 & 1.07872e-147 & 4.477618e-117 & 6.561591e-105 & 5.509873e-106 & 6.322697e-93 & 5.880101e-89 & 3.441538e-96 & 3.751708e-131 & 1.529063e-89\\\\\n",
       "\tmujeres & 1.07872e-147 & 1 & 1.174372e-18 & 4.307967e-30 & 4.723156e-29 & 7.416671e-42 & 8.540351e-46 & 1.254094e-38 & 2.348513e-07 & 3.257034e-45\\\\\n",
       "\tgrad\\_instituto & 4.477618e-117 & 1.174372e-18 & 1 & 0.0001066455 & 0.00039012 & 4.633596e-13 & 1.988876e-16 & 1.806496e-10 & 8.626763e-06 & 6.420317e-16\\\\\n",
       "\tgrad\\_univ & 6.561591e-105 & 4.307967e-30 & 0.0001066455 & 1 & 0.7253705 & 0.0001340336 & 5.83291e-07 & 0.004953957 & 8.144782e-15 & 1.387776e-06\\\\\n",
       "\tasia & 5.509873e-106 & 4.723156e-29 & 0.00039012 & 0.7253705 & 1 & 3.413922e-05 & 1.121827e-07 & 0.001654099 & 6.584857e-14 & 2.771949e-07\\\\\n",
       "\thispanos & 6.322697e-93 & 7.416671e-42 & 4.633596e-13 & 0.0001340336 & 3.413922e-05 & 1 & 0.1963219 & 0.2874192 & 1.044109e-25 & 0.2702484\\\\\n",
       "\tevangelicos & 5.880101e-89 & 8.540351e-46 & 1.988876e-16 & 5.83291e-07 & 1.121827e-07 & 0.1963219 & 1 & 0.01928689 & 1.636633e-29 & 0.8485439\\\\\n",
       "\tmormones & 3.441538e-96 & 1.254094e-38 & 1.806496e-10 & 0.004953957 & 0.001654099 & 0.2874192 & 0.01928689 & 1 & 1.239064e-22 & 0.0312621\\\\\n",
       "\tparo & 3.751708e-131 & 2.348513e-07 & 8.626763e-06 & 8.144782e-15 & 6.584857e-14 & 1.044109e-25 & 1.636633e-29 & 1.239064e-22 & 1 & 6.005489e-29\\\\\n",
       "\tobama & 1.529063e-89 & 3.257034e-45 & 6.420317e-16 & 1.387776e-06 & 2.771949e-07 & 0.2702484 & 0.8485439 & 0.0312621 & 6.005489e-29 & 1\\\\\n",
       "\\end{tabular}\n"
      ],
      "text/markdown": [
       "\n",
       "A matrix: 10 × 10\n",
       "\n",
       "| <!--/--> | densidad &lt;dbl&gt; | mujeres &lt;dbl&gt; | grad_instituto &lt;dbl&gt; | grad_univ &lt;dbl&gt; | asia &lt;dbl&gt; | hispanos &lt;dbl&gt; | evangelicos &lt;dbl&gt; | mormones &lt;dbl&gt; | paro &lt;dbl&gt; | obama &lt;dbl&gt; | densidad ⋯ | mujeres &lt;dbl&gt; | grad_instituto &lt;dbl&gt; | grad_univ &lt;dbl&gt; | asia &lt;dbl&gt; | hispanos &lt;dbl&gt; | evangelicos &lt;dbl&gt; | mormones &lt;dbl&gt; | paro &lt;dbl&gt; | obama &lt;dbl&gt; | densidad &lt;dbl&gt; |\n",
       "|---|---|---|---|---|---|---|---|---|---|---|\n",
       "| densidad | 1 | 1.07872e-147 | 4.477618e-117 | 6.561591e-105 | 5.509873e-106 | 6.322697e-93 | 5.880101e-89 | 3.441538e-96 | 3.751708e-131 | 1.529063e-89 |\n",
       "| mujeres | 1.07872e-147 | 1 | 1.174372e-18 | 4.307967e-30 | 4.723156e-29 | 7.416671e-42 | 8.540351e-46 | 1.254094e-38 | 2.348513e-07 | 3.257034e-45 |\n",
       "| grad_instituto | 4.477618e-117 | 1.174372e-18 | 1 | 0.0001066455 | 0.00039012 | 4.633596e-13 | 1.988876e-16 | 1.806496e-10 | 8.626763e-06 | 6.420317e-16 |\n",
       "| grad_univ | 6.561591e-105 | 4.307967e-30 | 0.0001066455 | 1 | 0.7253705 | 0.0001340336 | 5.83291e-07 | 0.004953957 | 8.144782e-15 | 1.387776e-06 |\n",
       "| asia | 5.509873e-106 | 4.723156e-29 | 0.00039012 | 0.7253705 | 1 | 3.413922e-05 | 1.121827e-07 | 0.001654099 | 6.584857e-14 | 2.771949e-07 |\n",
       "| hispanos | 6.322697e-93 | 7.416671e-42 | 4.633596e-13 | 0.0001340336 | 3.413922e-05 | 1 | 0.1963219 | 0.2874192 | 1.044109e-25 | 0.2702484 |\n",
       "| evangelicos | 5.880101e-89 | 8.540351e-46 | 1.988876e-16 | 5.83291e-07 | 1.121827e-07 | 0.1963219 | 1 | 0.01928689 | 1.636633e-29 | 0.8485439 |\n",
       "| mormones | 3.441538e-96 | 1.254094e-38 | 1.806496e-10 | 0.004953957 | 0.001654099 | 0.2874192 | 0.01928689 | 1 | 1.239064e-22 | 0.0312621 |\n",
       "| paro | 3.751708e-131 | 2.348513e-07 | 8.626763e-06 | 8.144782e-15 | 6.584857e-14 | 1.044109e-25 | 1.636633e-29 | 1.239064e-22 | 1 | 6.005489e-29 |\n",
       "| obama | 1.529063e-89 | 3.257034e-45 | 6.420317e-16 | 1.387776e-06 | 2.771949e-07 | 0.2702484 | 0.8485439 | 0.0312621 | 6.005489e-29 | 1 |\n",
       "\n"
      ],
      "text/plain": [
       "               densidad      mujeres      grad_instituto grad_univ    \n",
       "densidad       1             1.07872e-147 4.477618e-117  6.561591e-105\n",
       "mujeres        1.07872e-147  1            1.174372e-18   4.307967e-30 \n",
       "grad_instituto 4.477618e-117 1.174372e-18 1              0.0001066455 \n",
       "grad_univ      6.561591e-105 4.307967e-30 0.0001066455   1            \n",
       "asia           5.509873e-106 4.723156e-29 0.00039012     0.7253705    \n",
       "hispanos       6.322697e-93  7.416671e-42 4.633596e-13   0.0001340336 \n",
       "evangelicos    5.880101e-89  8.540351e-46 1.988876e-16   5.83291e-07  \n",
       "mormones       3.441538e-96  1.254094e-38 1.806496e-10   0.004953957  \n",
       "paro           3.751708e-131 2.348513e-07 8.626763e-06   8.144782e-15 \n",
       "obama          1.529063e-89  3.257034e-45 6.420317e-16   1.387776e-06 \n",
       "               asia          hispanos     evangelicos  mormones    \n",
       "densidad       5.509873e-106 6.322697e-93 5.880101e-89 3.441538e-96\n",
       "mujeres        4.723156e-29  7.416671e-42 8.540351e-46 1.254094e-38\n",
       "grad_instituto 0.00039012    4.633596e-13 1.988876e-16 1.806496e-10\n",
       "grad_univ      0.7253705     0.0001340336 5.83291e-07  0.004953957 \n",
       "asia           1             3.413922e-05 1.121827e-07 0.001654099 \n",
       "hispanos       3.413922e-05  1            0.1963219    0.2874192   \n",
       "evangelicos    1.121827e-07  0.1963219    1            0.01928689  \n",
       "mormones       0.001654099   0.2874192    0.01928689   1           \n",
       "paro           6.584857e-14  1.044109e-25 1.636633e-29 1.239064e-22\n",
       "obama          2.771949e-07  0.2702484    0.8485439    0.0312621   \n",
       "               paro          obama       \n",
       "densidad       3.751708e-131 1.529063e-89\n",
       "mujeres        2.348513e-07  3.257034e-45\n",
       "grad_instituto 8.626763e-06  6.420317e-16\n",
       "grad_univ      8.144782e-15  1.387776e-06\n",
       "asia           6.584857e-14  2.771949e-07\n",
       "hispanos       1.044109e-25  0.2702484   \n",
       "evangelicos    1.636633e-29  0.8485439   \n",
       "mormones       1.239064e-22  0.0312621   \n",
       "paro           1             6.005489e-29\n",
       "obama          6.005489e-29  1           "
      ]
     },
     "metadata": {},
     "output_type": "display_data"
    }
   ],
   "source": [
    "pairwise.bartlett.test(usa)"
   ]
  },
  {
   "cell_type": "markdown",
   "metadata": {},
   "source": [
    "La gran mayoría de variables no son homocedásticas, ya que sus $p$-valores asociados son menores que $\\alpha$, luego se rechaza la hipótesis nula de que sus varianzas sean iguales. Algunos pares, como `(grad_univ, asia)`, entre otros, sí son homocedásticos. Veamos la correlación entre las variables con el coeficiente de Pearson y con algún otro para compararlos, ya que no se cumplen las condiciones del test de Pearson."
   ]
  },
  {
   "cell_type": "code",
   "execution_count": 70,
   "metadata": {},
   "outputs": [
    {
     "data": {
      "text/html": [
       "<table class=\"dataframe\">\n",
       "<caption>A matrix: 10 × 10 of type dbl</caption>\n",
       "<thead>\n",
       "\t<tr><th></th><th scope=col>densidad</th><th scope=col>mujeres</th><th scope=col>grad_instituto</th><th scope=col>grad_univ</th><th scope=col>asia</th><th scope=col>hispanos</th><th scope=col>evangelicos</th><th scope=col>mormones</th><th scope=col>paro</th><th scope=col>obama</th></tr>\n",
       "</thead>\n",
       "<tbody>\n",
       "\t<tr><th scope=row>densidad</th><td> 1.000000000</td><td> 0.46583195</td><td>-0.00383585</td><td> 0.6372451158</td><td> 0.01398511</td><td> 0.005067992</td><td>-0.18730620</td><td>-0.08036094</td><td> 0.1985266715</td><td> 0.58395513</td></tr>\n",
       "\t<tr><th scope=row>mujeres</th><td> 0.465831947</td><td> 1.00000000</td><td>-0.39047508</td><td> 0.2945415320</td><td>-0.15143633</td><td>-0.099208396</td><td> 0.06268464</td><td>-0.33579558</td><td> 0.3712009419</td><td> 0.49398463</td></tr>\n",
       "\t<tr><th scope=row>grad_instituto</th><td>-0.003835850</td><td>-0.39047508</td><td> 1.00000000</td><td> 0.3931829947</td><td> 0.06160028</td><td>-0.376128189</td><td>-0.49656222</td><td> 0.17862817</td><td>-0.5605433382</td><td> 0.09749664</td></tr>\n",
       "\t<tr><th scope=row>grad_univ</th><td> 0.637245116</td><td> 0.29454153</td><td> 0.39318299</td><td> 1.0000000000</td><td> 0.18051305</td><td> 0.128221027</td><td>-0.55889734</td><td>-0.02207835</td><td>-0.0003502951</td><td> 0.71548540</td></tr>\n",
       "\t<tr><th scope=row>asia</th><td> 0.013985112</td><td>-0.15143633</td><td> 0.06160028</td><td> 0.1805130549</td><td> 1.00000000</td><td> 0.176863909</td><td>-0.11957990</td><td> 0.02161304</td><td> 0.0536920213</td><td> 0.41033684</td></tr>\n",
       "\t<tr><th scope=row>hispanos</th><td> 0.005067992</td><td>-0.09920840</td><td>-0.37612819</td><td> 0.1282210271</td><td> 0.17686391</td><td> 1.000000000</td><td>-0.22423503</td><td> 0.10665199</td><td> 0.3383900390</td><td> 0.16013135</td></tr>\n",
       "\t<tr><th scope=row>evangelicos</th><td>-0.187306203</td><td> 0.06268464</td><td>-0.49656222</td><td>-0.5588973395</td><td>-0.11957990</td><td>-0.224235034</td><td> 1.00000000</td><td>-0.22799088</td><td> 0.1415075705</td><td>-0.40239620</td></tr>\n",
       "\t<tr><th scope=row>mormones</th><td>-0.080360944</td><td>-0.33579558</td><td> 0.17862817</td><td>-0.0220783481</td><td> 0.02161304</td><td> 0.106651990</td><td>-0.22799088</td><td> 1.00000000</td><td>-0.1214247656</td><td>-0.34773216</td></tr>\n",
       "\t<tr><th scope=row>paro</th><td> 0.198526672</td><td> 0.37120094</td><td>-0.56054334</td><td>-0.0003502951</td><td> 0.05369202</td><td> 0.338390039</td><td> 0.14150757</td><td>-0.12142477</td><td> 1.0000000000</td><td> 0.33776511</td></tr>\n",
       "\t<tr><th scope=row>obama</th><td> 0.583955135</td><td> 0.49398463</td><td> 0.09749664</td><td> 0.7154854024</td><td> 0.41033684</td><td> 0.160131354</td><td>-0.40239620</td><td>-0.34773216</td><td> 0.3377651085</td><td> 1.00000000</td></tr>\n",
       "</tbody>\n",
       "</table>\n"
      ],
      "text/latex": [
       "A matrix: 10 × 10 of type dbl\n",
       "\\begin{tabular}{r|llllllllll}\n",
       "  & densidad & mujeres & grad\\_instituto & grad\\_univ & asia & hispanos & evangelicos & mormones & paro & obama\\\\\n",
       "\\hline\n",
       "\tdensidad &  1.000000000 &  0.46583195 & -0.00383585 &  0.6372451158 &  0.01398511 &  0.005067992 & -0.18730620 & -0.08036094 &  0.1985266715 &  0.58395513\\\\\n",
       "\tmujeres &  0.465831947 &  1.00000000 & -0.39047508 &  0.2945415320 & -0.15143633 & -0.099208396 &  0.06268464 & -0.33579558 &  0.3712009419 &  0.49398463\\\\\n",
       "\tgrad\\_instituto & -0.003835850 & -0.39047508 &  1.00000000 &  0.3931829947 &  0.06160028 & -0.376128189 & -0.49656222 &  0.17862817 & -0.5605433382 &  0.09749664\\\\\n",
       "\tgrad\\_univ &  0.637245116 &  0.29454153 &  0.39318299 &  1.0000000000 &  0.18051305 &  0.128221027 & -0.55889734 & -0.02207835 & -0.0003502951 &  0.71548540\\\\\n",
       "\tasia &  0.013985112 & -0.15143633 &  0.06160028 &  0.1805130549 &  1.00000000 &  0.176863909 & -0.11957990 &  0.02161304 &  0.0536920213 &  0.41033684\\\\\n",
       "\thispanos &  0.005067992 & -0.09920840 & -0.37612819 &  0.1282210271 &  0.17686391 &  1.000000000 & -0.22423503 &  0.10665199 &  0.3383900390 &  0.16013135\\\\\n",
       "\tevangelicos & -0.187306203 &  0.06268464 & -0.49656222 & -0.5588973395 & -0.11957990 & -0.224235034 &  1.00000000 & -0.22799088 &  0.1415075705 & -0.40239620\\\\\n",
       "\tmormones & -0.080360944 & -0.33579558 &  0.17862817 & -0.0220783481 &  0.02161304 &  0.106651990 & -0.22799088 &  1.00000000 & -0.1214247656 & -0.34773216\\\\\n",
       "\tparo &  0.198526672 &  0.37120094 & -0.56054334 & -0.0003502951 &  0.05369202 &  0.338390039 &  0.14150757 & -0.12142477 &  1.0000000000 &  0.33776511\\\\\n",
       "\tobama &  0.583955135 &  0.49398463 &  0.09749664 &  0.7154854024 &  0.41033684 &  0.160131354 & -0.40239620 & -0.34773216 &  0.3377651085 &  1.00000000\\\\\n",
       "\\end{tabular}\n"
      ],
      "text/markdown": [
       "\n",
       "A matrix: 10 × 10 of type dbl\n",
       "\n",
       "| <!--/--> | densidad | mujeres | grad_instituto | grad_univ | asia | hispanos | evangelicos | mormones | paro | obama |\n",
       "|---|---|---|---|---|---|---|---|---|---|---|\n",
       "| densidad |  1.000000000 |  0.46583195 | -0.00383585 |  0.6372451158 |  0.01398511 |  0.005067992 | -0.18730620 | -0.08036094 |  0.1985266715 |  0.58395513 |\n",
       "| mujeres |  0.465831947 |  1.00000000 | -0.39047508 |  0.2945415320 | -0.15143633 | -0.099208396 |  0.06268464 | -0.33579558 |  0.3712009419 |  0.49398463 |\n",
       "| grad_instituto | -0.003835850 | -0.39047508 |  1.00000000 |  0.3931829947 |  0.06160028 | -0.376128189 | -0.49656222 |  0.17862817 | -0.5605433382 |  0.09749664 |\n",
       "| grad_univ |  0.637245116 |  0.29454153 |  0.39318299 |  1.0000000000 |  0.18051305 |  0.128221027 | -0.55889734 | -0.02207835 | -0.0003502951 |  0.71548540 |\n",
       "| asia |  0.013985112 | -0.15143633 |  0.06160028 |  0.1805130549 |  1.00000000 |  0.176863909 | -0.11957990 |  0.02161304 |  0.0536920213 |  0.41033684 |\n",
       "| hispanos |  0.005067992 | -0.09920840 | -0.37612819 |  0.1282210271 |  0.17686391 |  1.000000000 | -0.22423503 |  0.10665199 |  0.3383900390 |  0.16013135 |\n",
       "| evangelicos | -0.187306203 |  0.06268464 | -0.49656222 | -0.5588973395 | -0.11957990 | -0.224235034 |  1.00000000 | -0.22799088 |  0.1415075705 | -0.40239620 |\n",
       "| mormones | -0.080360944 | -0.33579558 |  0.17862817 | -0.0220783481 |  0.02161304 |  0.106651990 | -0.22799088 |  1.00000000 | -0.1214247656 | -0.34773216 |\n",
       "| paro |  0.198526672 |  0.37120094 | -0.56054334 | -0.0003502951 |  0.05369202 |  0.338390039 |  0.14150757 | -0.12142477 |  1.0000000000 |  0.33776511 |\n",
       "| obama |  0.583955135 |  0.49398463 |  0.09749664 |  0.7154854024 |  0.41033684 |  0.160131354 | -0.40239620 | -0.34773216 |  0.3377651085 |  1.00000000 |\n",
       "\n"
      ],
      "text/plain": [
       "               densidad     mujeres     grad_instituto grad_univ    \n",
       "densidad        1.000000000  0.46583195 -0.00383585     0.6372451158\n",
       "mujeres         0.465831947  1.00000000 -0.39047508     0.2945415320\n",
       "grad_instituto -0.003835850 -0.39047508  1.00000000     0.3931829947\n",
       "grad_univ       0.637245116  0.29454153  0.39318299     1.0000000000\n",
       "asia            0.013985112 -0.15143633  0.06160028     0.1805130549\n",
       "hispanos        0.005067992 -0.09920840 -0.37612819     0.1282210271\n",
       "evangelicos    -0.187306203  0.06268464 -0.49656222    -0.5588973395\n",
       "mormones       -0.080360944 -0.33579558  0.17862817    -0.0220783481\n",
       "paro            0.198526672  0.37120094 -0.56054334    -0.0003502951\n",
       "obama           0.583955135  0.49398463  0.09749664     0.7154854024\n",
       "               asia        hispanos     evangelicos mormones    paro         \n",
       "densidad        0.01398511  0.005067992 -0.18730620 -0.08036094  0.1985266715\n",
       "mujeres        -0.15143633 -0.099208396  0.06268464 -0.33579558  0.3712009419\n",
       "grad_instituto  0.06160028 -0.376128189 -0.49656222  0.17862817 -0.5605433382\n",
       "grad_univ       0.18051305  0.128221027 -0.55889734 -0.02207835 -0.0003502951\n",
       "asia            1.00000000  0.176863909 -0.11957990  0.02161304  0.0536920213\n",
       "hispanos        0.17686391  1.000000000 -0.22423503  0.10665199  0.3383900390\n",
       "evangelicos    -0.11957990 -0.224235034  1.00000000 -0.22799088  0.1415075705\n",
       "mormones        0.02161304  0.106651990 -0.22799088  1.00000000 -0.1214247656\n",
       "paro            0.05369202  0.338390039  0.14150757 -0.12142477  1.0000000000\n",
       "obama           0.41033684  0.160131354 -0.40239620 -0.34773216  0.3377651085\n",
       "               obama      \n",
       "densidad        0.58395513\n",
       "mujeres         0.49398463\n",
       "grad_instituto  0.09749664\n",
       "grad_univ       0.71548540\n",
       "asia            0.41033684\n",
       "hispanos        0.16013135\n",
       "evangelicos    -0.40239620\n",
       "mormones       -0.34773216\n",
       "paro            0.33776511\n",
       "obama           1.00000000"
      ]
     },
     "metadata": {},
     "output_type": "display_data"
    }
   ],
   "source": [
    "cor(usa)"
   ]
  },
  {
   "cell_type": "code",
   "execution_count": 71,
   "metadata": {},
   "outputs": [
    {
     "data": {
      "text/html": [
       "<table class=\"dataframe\">\n",
       "<caption>A matrix: 10 × 10 of type dbl</caption>\n",
       "<thead>\n",
       "\t<tr><th></th><th scope=col>densidad</th><th scope=col>mujeres</th><th scope=col>grad_instituto</th><th scope=col>grad_univ</th><th scope=col>asia</th><th scope=col>hispanos</th><th scope=col>evangelicos</th><th scope=col>mormones</th><th scope=col>paro</th><th scope=col>obama</th></tr>\n",
       "</thead>\n",
       "<tbody>\n",
       "\t<tr><th scope=row>densidad</th><td> 1.0000000</td><td> 0.761542119</td><td>-0.3274801</td><td> 0.36979886</td><td> 0.40603005</td><td> 0.19837517</td><td>-0.172081150</td><td>-0.57450581</td><td> 0.47475785</td><td> 0.6153080</td></tr>\n",
       "\t<tr><th scope=row>mujeres</th><td> 0.7615421</td><td> 1.000000000</td><td>-0.4398110</td><td> 0.11306787</td><td> 0.03573213</td><td>-0.06278908</td><td> 0.009008601</td><td>-0.67095079</td><td> 0.43599653</td><td> 0.3956403</td></tr>\n",
       "\t<tr><th scope=row>grad_instituto</th><td>-0.3274801</td><td>-0.439811020</td><td> 1.0000000</td><td> 0.43920708</td><td> 0.00887420</td><td>-0.20211394</td><td>-0.418592801</td><td> 0.27021487</td><td>-0.56846902</td><td> 0.1056276</td></tr>\n",
       "\t<tr><th scope=row>grad_univ</th><td> 0.3697989</td><td> 0.113067869</td><td> 0.4392071</td><td> 1.00000000</td><td> 0.54873471</td><td> 0.35439486</td><td>-0.600122801</td><td>-0.01154306</td><td>-0.04387495</td><td> 0.6527445</td></tr>\n",
       "\t<tr><th scope=row>asia</th><td> 0.4060301</td><td> 0.035732127</td><td> 0.0088742</td><td> 0.54873471</td><td> 1.00000000</td><td> 0.54052526</td><td>-0.296081513</td><td> 0.04731709</td><td> 0.22985981</td><td> 0.5686737</td></tr>\n",
       "\t<tr><th scope=row>hispanos</th><td> 0.1983752</td><td>-0.062789077</td><td>-0.2021139</td><td> 0.35439486</td><td> 0.54052526</td><td> 1.00000000</td><td>-0.358439466</td><td> 0.17662646</td><td> 0.36082243</td><td> 0.2852682</td></tr>\n",
       "\t<tr><th scope=row>evangelicos</th><td>-0.1720811</td><td> 0.009008601</td><td>-0.4185928</td><td>-0.60012280</td><td>-0.29608151</td><td>-0.35843947</td><td> 1.000000000</td><td> 0.03613503</td><td> 0.12442201</td><td>-0.4745490</td></tr>\n",
       "\t<tr><th scope=row>mormones</th><td>-0.5745058</td><td>-0.670950786</td><td> 0.2702149</td><td>-0.01154306</td><td> 0.04731709</td><td> 0.17662646</td><td> 0.036135028</td><td> 1.00000000</td><td>-0.10790008</td><td>-0.1511067</td></tr>\n",
       "\t<tr><th scope=row>paro</th><td> 0.4747578</td><td> 0.435996529</td><td>-0.5684690</td><td>-0.04387495</td><td> 0.22985981</td><td> 0.36082243</td><td> 0.124422007</td><td>-0.10790008</td><td> 1.00000000</td><td> 0.3221425</td></tr>\n",
       "\t<tr><th scope=row>obama</th><td> 0.6153080</td><td> 0.395640315</td><td> 0.1056276</td><td> 0.65274447</td><td> 0.56867367</td><td> 0.28526817</td><td>-0.474549022</td><td>-0.15110670</td><td> 0.32214255</td><td> 1.0000000</td></tr>\n",
       "</tbody>\n",
       "</table>\n"
      ],
      "text/latex": [
       "A matrix: 10 × 10 of type dbl\n",
       "\\begin{tabular}{r|llllllllll}\n",
       "  & densidad & mujeres & grad\\_instituto & grad\\_univ & asia & hispanos & evangelicos & mormones & paro & obama\\\\\n",
       "\\hline\n",
       "\tdensidad &  1.0000000 &  0.761542119 & -0.3274801 &  0.36979886 &  0.40603005 &  0.19837517 & -0.172081150 & -0.57450581 &  0.47475785 &  0.6153080\\\\\n",
       "\tmujeres &  0.7615421 &  1.000000000 & -0.4398110 &  0.11306787 &  0.03573213 & -0.06278908 &  0.009008601 & -0.67095079 &  0.43599653 &  0.3956403\\\\\n",
       "\tgrad\\_instituto & -0.3274801 & -0.439811020 &  1.0000000 &  0.43920708 &  0.00887420 & -0.20211394 & -0.418592801 &  0.27021487 & -0.56846902 &  0.1056276\\\\\n",
       "\tgrad\\_univ &  0.3697989 &  0.113067869 &  0.4392071 &  1.00000000 &  0.54873471 &  0.35439486 & -0.600122801 & -0.01154306 & -0.04387495 &  0.6527445\\\\\n",
       "\tasia &  0.4060301 &  0.035732127 &  0.0088742 &  0.54873471 &  1.00000000 &  0.54052526 & -0.296081513 &  0.04731709 &  0.22985981 &  0.5686737\\\\\n",
       "\thispanos &  0.1983752 & -0.062789077 & -0.2021139 &  0.35439486 &  0.54052526 &  1.00000000 & -0.358439466 &  0.17662646 &  0.36082243 &  0.2852682\\\\\n",
       "\tevangelicos & -0.1720811 &  0.009008601 & -0.4185928 & -0.60012280 & -0.29608151 & -0.35843947 &  1.000000000 &  0.03613503 &  0.12442201 & -0.4745490\\\\\n",
       "\tmormones & -0.5745058 & -0.670950786 &  0.2702149 & -0.01154306 &  0.04731709 &  0.17662646 &  0.036135028 &  1.00000000 & -0.10790008 & -0.1511067\\\\\n",
       "\tparo &  0.4747578 &  0.435996529 & -0.5684690 & -0.04387495 &  0.22985981 &  0.36082243 &  0.124422007 & -0.10790008 &  1.00000000 &  0.3221425\\\\\n",
       "\tobama &  0.6153080 &  0.395640315 &  0.1056276 &  0.65274447 &  0.56867367 &  0.28526817 & -0.474549022 & -0.15110670 &  0.32214255 &  1.0000000\\\\\n",
       "\\end{tabular}\n"
      ],
      "text/markdown": [
       "\n",
       "A matrix: 10 × 10 of type dbl\n",
       "\n",
       "| <!--/--> | densidad | mujeres | grad_instituto | grad_univ | asia | hispanos | evangelicos | mormones | paro | obama |\n",
       "|---|---|---|---|---|---|---|---|---|---|---|\n",
       "| densidad |  1.0000000 |  0.761542119 | -0.3274801 |  0.36979886 |  0.40603005 |  0.19837517 | -0.172081150 | -0.57450581 |  0.47475785 |  0.6153080 |\n",
       "| mujeres |  0.7615421 |  1.000000000 | -0.4398110 |  0.11306787 |  0.03573213 | -0.06278908 |  0.009008601 | -0.67095079 |  0.43599653 |  0.3956403 |\n",
       "| grad_instituto | -0.3274801 | -0.439811020 |  1.0000000 |  0.43920708 |  0.00887420 | -0.20211394 | -0.418592801 |  0.27021487 | -0.56846902 |  0.1056276 |\n",
       "| grad_univ |  0.3697989 |  0.113067869 |  0.4392071 |  1.00000000 |  0.54873471 |  0.35439486 | -0.600122801 | -0.01154306 | -0.04387495 |  0.6527445 |\n",
       "| asia |  0.4060301 |  0.035732127 |  0.0088742 |  0.54873471 |  1.00000000 |  0.54052526 | -0.296081513 |  0.04731709 |  0.22985981 |  0.5686737 |\n",
       "| hispanos |  0.1983752 | -0.062789077 | -0.2021139 |  0.35439486 |  0.54052526 |  1.00000000 | -0.358439466 |  0.17662646 |  0.36082243 |  0.2852682 |\n",
       "| evangelicos | -0.1720811 |  0.009008601 | -0.4185928 | -0.60012280 | -0.29608151 | -0.35843947 |  1.000000000 |  0.03613503 |  0.12442201 | -0.4745490 |\n",
       "| mormones | -0.5745058 | -0.670950786 |  0.2702149 | -0.01154306 |  0.04731709 |  0.17662646 |  0.036135028 |  1.00000000 | -0.10790008 | -0.1511067 |\n",
       "| paro |  0.4747578 |  0.435996529 | -0.5684690 | -0.04387495 |  0.22985981 |  0.36082243 |  0.124422007 | -0.10790008 |  1.00000000 |  0.3221425 |\n",
       "| obama |  0.6153080 |  0.395640315 |  0.1056276 |  0.65274447 |  0.56867367 |  0.28526817 | -0.474549022 | -0.15110670 |  0.32214255 |  1.0000000 |\n",
       "\n"
      ],
      "text/plain": [
       "               densidad   mujeres      grad_instituto grad_univ   asia       \n",
       "densidad        1.0000000  0.761542119 -0.3274801      0.36979886  0.40603005\n",
       "mujeres         0.7615421  1.000000000 -0.4398110      0.11306787  0.03573213\n",
       "grad_instituto -0.3274801 -0.439811020  1.0000000      0.43920708  0.00887420\n",
       "grad_univ       0.3697989  0.113067869  0.4392071      1.00000000  0.54873471\n",
       "asia            0.4060301  0.035732127  0.0088742      0.54873471  1.00000000\n",
       "hispanos        0.1983752 -0.062789077 -0.2021139      0.35439486  0.54052526\n",
       "evangelicos    -0.1720811  0.009008601 -0.4185928     -0.60012280 -0.29608151\n",
       "mormones       -0.5745058 -0.670950786  0.2702149     -0.01154306  0.04731709\n",
       "paro            0.4747578  0.435996529 -0.5684690     -0.04387495  0.22985981\n",
       "obama           0.6153080  0.395640315  0.1056276      0.65274447  0.56867367\n",
       "               hispanos    evangelicos  mormones    paro        obama     \n",
       "densidad        0.19837517 -0.172081150 -0.57450581  0.47475785  0.6153080\n",
       "mujeres        -0.06278908  0.009008601 -0.67095079  0.43599653  0.3956403\n",
       "grad_instituto -0.20211394 -0.418592801  0.27021487 -0.56846902  0.1056276\n",
       "grad_univ       0.35439486 -0.600122801 -0.01154306 -0.04387495  0.6527445\n",
       "asia            0.54052526 -0.296081513  0.04731709  0.22985981  0.5686737\n",
       "hispanos        1.00000000 -0.358439466  0.17662646  0.36082243  0.2852682\n",
       "evangelicos    -0.35843947  1.000000000  0.03613503  0.12442201 -0.4745490\n",
       "mormones        0.17662646  0.036135028  1.00000000 -0.10790008 -0.1511067\n",
       "paro            0.36082243  0.124422007 -0.10790008  1.00000000  0.3221425\n",
       "obama           0.28526817 -0.474549022 -0.15110670  0.32214255  1.0000000"
      ]
     },
     "metadata": {},
     "output_type": "display_data"
    }
   ],
   "source": [
    "cor(usa, method='spearman')"
   ]
  },
  {
   "cell_type": "markdown",
   "metadata": {},
   "source": [
    "Simplemente vamos a destacar algún par de variables con un alto coeficiente de correlación y algún otro con uno muy bajo y vamos a comprobar después si son significativos. Por ejemplo, el par `(mujeres, densidad)` parece tener un coficiente de correlación de Spearman bastante alto ($0.76$) y medianamente alto para Pearson ($0.46$). Si esta correlación (o cualqueir otra) es significativa, significará que hay colinealidad, lo que podría afectar a las estimaciones de los parámetros. Por otro lado, el par `(asia, grad_instituto)` parece mostrar poca correlación ($0.008$ para Spearman y $0.061$ para Pearson)."
   ]
  },
  {
   "cell_type": "code",
   "execution_count": 72,
   "metadata": {},
   "outputs": [
    {
     "data": {
      "text/html": [
       "<table class=\"dataframe\">\n",
       "<caption>A matrix: 10 × 10</caption>\n",
       "<thead>\n",
       "\t<tr><th></th><th scope=col>densidad</th><th scope=col>mujeres</th><th scope=col>grad_instituto</th><th scope=col>grad_univ</th><th scope=col>asia</th><th scope=col>hispanos</th><th scope=col>evangelicos</th><th scope=col>mormones</th><th scope=col>paro</th><th scope=col>obama</th></tr>\n",
       "\t<tr><th></th><th scope=col>&lt;dbl&gt;</th><th scope=col>&lt;dbl&gt;</th><th scope=col>&lt;dbl&gt;</th><th scope=col>&lt;dbl&gt;</th><th scope=col>&lt;dbl&gt;</th><th scope=col>&lt;dbl&gt;</th><th scope=col>&lt;dbl&gt;</th><th scope=col>&lt;dbl&gt;</th><th scope=col>&lt;dbl&gt;</th><th scope=col>&lt;dbl&gt;</th><th scope=col>⋯</th><th scope=col>&lt;dbl&gt;</th><th scope=col>&lt;dbl&gt;</th><th scope=col>&lt;dbl&gt;</th><th scope=col>&lt;dbl&gt;</th><th scope=col>&lt;dbl&gt;</th><th scope=col>&lt;dbl&gt;</th><th scope=col>&lt;dbl&gt;</th><th scope=col>&lt;dbl&gt;</th><th scope=col>&lt;dbl&gt;</th><th scope=col>&lt;dbl&gt;</th></tr>\n",
       "</thead>\n",
       "<tbody>\n",
       "\t<tr><th scope=row>densidad</th><td>0</td><td>0.000571288</td><td>0.9786875</td><td>4.953752e-07</td><td>0.9224068</td><td>0.971844</td><td>0.1881218</td><td>0.5750891</td><td>0.1625456</td><td>6.850231e-06</td></tr>\n",
       "\t<tr><th scope=row>mujeres</th><td>0.000571288</td><td>0</td><td>0.004613808</td><td>0.03589703</td><td>0.2887838</td><td>0.4885374</td><td>0.6621185</td><td>0.01599558</td><td>0.007323987</td><td>0.0002296534</td></tr>\n",
       "\t<tr><th scope=row>grad_instituto</th><td>0.9786875</td><td>0.004613808</td><td>0</td><td>0.004314318</td><td>0.6676204</td><td>0.006524634</td><td>0.0002104273</td><td>0.2097872</td><td>1.886852e-05</td><td>0.4961067</td></tr>\n",
       "\t<tr><th scope=row>grad_univ</th><td>4.953752e-07</td><td>0.03589703</td><td>0.004314318</td><td>0</td><td>0.2049389</td><td>0.3698846</td><td>2.02037e-05</td><td>0.8777826</td><td>0.9980535</td><td>3.633164e-09</td></tr>\n",
       "\t<tr><th scope=row>asia</th><td>0.9224068</td><td>0.2887838</td><td>0.6676204</td><td>0.2049389</td><td>0</td><td>0.2143977</td><td>0.4032644</td><td>0.8803394</td><td>0.7082541</td><td>0.002783687</td></tr>\n",
       "\t<tr><th scope=row>hispanos</th><td>0.971844</td><td>0.4885374</td><td>0.006524634</td><td>0.3698846</td><td>0.2143977</td><td>0</td><td>0.1136777</td><td>0.4563359</td><td>0.01514867</td><td>0.2616592</td></tr>\n",
       "\t<tr><th scope=row>evangelicos</th><td>0.1881218</td><td>0.6621185</td><td>0.0002104273</td><td>2.02037e-05</td><td>0.4032644</td><td>0.1136777</td><td>0</td><td>0.1075972</td><td>0.3219255</td><td>0.003419285</td></tr>\n",
       "\t<tr><th scope=row>mormones</th><td>0.5750891</td><td>0.01599558</td><td>0.2097872</td><td>0.8777826</td><td>0.8803394</td><td>0.4563359</td><td>0.1075972</td><td>0</td><td>0.395995</td><td>0.01240851</td></tr>\n",
       "\t<tr><th scope=row>paro</th><td>0.1625456</td><td>0.007323987</td><td>1.886852e-05</td><td>0.9980535</td><td>0.7082541</td><td>0.01514867</td><td>0.3219255</td><td>0.395995</td><td>0</td><td>0.01534909</td></tr>\n",
       "\t<tr><th scope=row>obama</th><td>6.850231e-06</td><td>0.0002296534</td><td>0.4961067</td><td>3.633164e-09</td><td>0.002783687</td><td>0.2616592</td><td>0.003419285</td><td>0.01240851</td><td>0.01534909</td><td>0</td></tr>\n",
       "</tbody>\n",
       "</table>\n"
      ],
      "text/latex": [
       "A matrix: 10 × 10\n",
       "\\begin{tabular}{r|llllllllll}\n",
       "  & densidad & mujeres & grad\\_instituto & grad\\_univ & asia & hispanos & evangelicos & mormones & paro & obama\\\\\n",
       "  & <dbl> & <dbl> & <dbl> & <dbl> & <dbl> & <dbl> & <dbl> & <dbl> & <dbl> & <dbl> & ⋯ & <dbl> & <dbl> & <dbl> & <dbl> & <dbl> & <dbl> & <dbl> & <dbl> & <dbl> & <dbl>\\\\\n",
       "\\hline\n",
       "\tdensidad & 0 & 0.000571288 & 0.9786875 & 4.953752e-07 & 0.9224068 & 0.971844 & 0.1881218 & 0.5750891 & 0.1625456 & 6.850231e-06\\\\\n",
       "\tmujeres & 0.000571288 & 0 & 0.004613808 & 0.03589703 & 0.2887838 & 0.4885374 & 0.6621185 & 0.01599558 & 0.007323987 & 0.0002296534\\\\\n",
       "\tgrad\\_instituto & 0.9786875 & 0.004613808 & 0 & 0.004314318 & 0.6676204 & 0.006524634 & 0.0002104273 & 0.2097872 & 1.886852e-05 & 0.4961067\\\\\n",
       "\tgrad\\_univ & 4.953752e-07 & 0.03589703 & 0.004314318 & 0 & 0.2049389 & 0.3698846 & 2.02037e-05 & 0.8777826 & 0.9980535 & 3.633164e-09\\\\\n",
       "\tasia & 0.9224068 & 0.2887838 & 0.6676204 & 0.2049389 & 0 & 0.2143977 & 0.4032644 & 0.8803394 & 0.7082541 & 0.002783687\\\\\n",
       "\thispanos & 0.971844 & 0.4885374 & 0.006524634 & 0.3698846 & 0.2143977 & 0 & 0.1136777 & 0.4563359 & 0.01514867 & 0.2616592\\\\\n",
       "\tevangelicos & 0.1881218 & 0.6621185 & 0.0002104273 & 2.02037e-05 & 0.4032644 & 0.1136777 & 0 & 0.1075972 & 0.3219255 & 0.003419285\\\\\n",
       "\tmormones & 0.5750891 & 0.01599558 & 0.2097872 & 0.8777826 & 0.8803394 & 0.4563359 & 0.1075972 & 0 & 0.395995 & 0.01240851\\\\\n",
       "\tparo & 0.1625456 & 0.007323987 & 1.886852e-05 & 0.9980535 & 0.7082541 & 0.01514867 & 0.3219255 & 0.395995 & 0 & 0.01534909\\\\\n",
       "\tobama & 6.850231e-06 & 0.0002296534 & 0.4961067 & 3.633164e-09 & 0.002783687 & 0.2616592 & 0.003419285 & 0.01240851 & 0.01534909 & 0\\\\\n",
       "\\end{tabular}\n"
      ],
      "text/markdown": [
       "\n",
       "A matrix: 10 × 10\n",
       "\n",
       "| <!--/--> | densidad &lt;dbl&gt; | mujeres &lt;dbl&gt; | grad_instituto &lt;dbl&gt; | grad_univ &lt;dbl&gt; | asia &lt;dbl&gt; | hispanos &lt;dbl&gt; | evangelicos &lt;dbl&gt; | mormones &lt;dbl&gt; | paro &lt;dbl&gt; | obama &lt;dbl&gt; | densidad ⋯ | mujeres &lt;dbl&gt; | grad_instituto &lt;dbl&gt; | grad_univ &lt;dbl&gt; | asia &lt;dbl&gt; | hispanos &lt;dbl&gt; | evangelicos &lt;dbl&gt; | mormones &lt;dbl&gt; | paro &lt;dbl&gt; | obama &lt;dbl&gt; | densidad &lt;dbl&gt; |\n",
       "|---|---|---|---|---|---|---|---|---|---|---|\n",
       "| densidad | 0 | 0.000571288 | 0.9786875 | 4.953752e-07 | 0.9224068 | 0.971844 | 0.1881218 | 0.5750891 | 0.1625456 | 6.850231e-06 |\n",
       "| mujeres | 0.000571288 | 0 | 0.004613808 | 0.03589703 | 0.2887838 | 0.4885374 | 0.6621185 | 0.01599558 | 0.007323987 | 0.0002296534 |\n",
       "| grad_instituto | 0.9786875 | 0.004613808 | 0 | 0.004314318 | 0.6676204 | 0.006524634 | 0.0002104273 | 0.2097872 | 1.886852e-05 | 0.4961067 |\n",
       "| grad_univ | 4.953752e-07 | 0.03589703 | 0.004314318 | 0 | 0.2049389 | 0.3698846 | 2.02037e-05 | 0.8777826 | 0.9980535 | 3.633164e-09 |\n",
       "| asia | 0.9224068 | 0.2887838 | 0.6676204 | 0.2049389 | 0 | 0.2143977 | 0.4032644 | 0.8803394 | 0.7082541 | 0.002783687 |\n",
       "| hispanos | 0.971844 | 0.4885374 | 0.006524634 | 0.3698846 | 0.2143977 | 0 | 0.1136777 | 0.4563359 | 0.01514867 | 0.2616592 |\n",
       "| evangelicos | 0.1881218 | 0.6621185 | 0.0002104273 | 2.02037e-05 | 0.4032644 | 0.1136777 | 0 | 0.1075972 | 0.3219255 | 0.003419285 |\n",
       "| mormones | 0.5750891 | 0.01599558 | 0.2097872 | 0.8777826 | 0.8803394 | 0.4563359 | 0.1075972 | 0 | 0.395995 | 0.01240851 |\n",
       "| paro | 0.1625456 | 0.007323987 | 1.886852e-05 | 0.9980535 | 0.7082541 | 0.01514867 | 0.3219255 | 0.395995 | 0 | 0.01534909 |\n",
       "| obama | 6.850231e-06 | 0.0002296534 | 0.4961067 | 3.633164e-09 | 0.002783687 | 0.2616592 | 0.003419285 | 0.01240851 | 0.01534909 | 0 |\n",
       "\n"
      ],
      "text/plain": [
       "               densidad     mujeres      grad_instituto grad_univ   \n",
       "densidad       0            0.000571288  0.9786875      4.953752e-07\n",
       "mujeres        0.000571288  0            0.004613808    0.03589703  \n",
       "grad_instituto 0.9786875    0.004613808  0              0.004314318 \n",
       "grad_univ      4.953752e-07 0.03589703   0.004314318    0           \n",
       "asia           0.9224068    0.2887838    0.6676204      0.2049389   \n",
       "hispanos       0.971844     0.4885374    0.006524634    0.3698846   \n",
       "evangelicos    0.1881218    0.6621185    0.0002104273   2.02037e-05 \n",
       "mormones       0.5750891    0.01599558   0.2097872      0.8777826   \n",
       "paro           0.1625456    0.007323987  1.886852e-05   0.9980535   \n",
       "obama          6.850231e-06 0.0002296534 0.4961067      3.633164e-09\n",
       "               asia        hispanos    evangelicos  mormones   paro        \n",
       "densidad       0.9224068   0.971844    0.1881218    0.5750891  0.1625456   \n",
       "mujeres        0.2887838   0.4885374   0.6621185    0.01599558 0.007323987 \n",
       "grad_instituto 0.6676204   0.006524634 0.0002104273 0.2097872  1.886852e-05\n",
       "grad_univ      0.2049389   0.3698846   2.02037e-05  0.8777826  0.9980535   \n",
       "asia           0           0.2143977   0.4032644    0.8803394  0.7082541   \n",
       "hispanos       0.2143977   0           0.1136777    0.4563359  0.01514867  \n",
       "evangelicos    0.4032644   0.1136777   0            0.1075972  0.3219255   \n",
       "mormones       0.8803394   0.4563359   0.1075972    0          0.395995    \n",
       "paro           0.7082541   0.01514867  0.3219255    0.395995   0           \n",
       "obama          0.002783687 0.2616592   0.003419285  0.01240851 0.01534909  \n",
       "               obama       \n",
       "densidad       6.850231e-06\n",
       "mujeres        0.0002296534\n",
       "grad_instituto 0.4961067   \n",
       "grad_univ      3.633164e-09\n",
       "asia           0.002783687 \n",
       "hispanos       0.2616592   \n",
       "evangelicos    0.003419285 \n",
       "mormones       0.01240851  \n",
       "paro           0.01534909  \n",
       "obama          0           "
      ]
     },
     "metadata": {},
     "output_type": "display_data"
    }
   ],
   "source": [
    "pairwise.cor.test(usa)"
   ]
  },
  {
   "cell_type": "code",
   "execution_count": 73,
   "metadata": {},
   "outputs": [
    {
     "data": {
      "text/html": [
       "<table class=\"dataframe\">\n",
       "<caption>A matrix: 10 × 10</caption>\n",
       "<thead>\n",
       "\t<tr><th></th><th scope=col>densidad</th><th scope=col>mujeres</th><th scope=col>grad_instituto</th><th scope=col>grad_univ</th><th scope=col>asia</th><th scope=col>hispanos</th><th scope=col>evangelicos</th><th scope=col>mormones</th><th scope=col>paro</th><th scope=col>obama</th></tr>\n",
       "\t<tr><th></th><th scope=col>&lt;dbl&gt;</th><th scope=col>&lt;dbl&gt;</th><th scope=col>&lt;dbl&gt;</th><th scope=col>&lt;dbl&gt;</th><th scope=col>&lt;dbl&gt;</th><th scope=col>&lt;dbl&gt;</th><th scope=col>&lt;dbl&gt;</th><th scope=col>&lt;dbl&gt;</th><th scope=col>&lt;dbl&gt;</th><th scope=col>&lt;dbl&gt;</th><th scope=col>⋯</th><th scope=col>&lt;dbl&gt;</th><th scope=col>&lt;dbl&gt;</th><th scope=col>&lt;dbl&gt;</th><th scope=col>&lt;dbl&gt;</th><th scope=col>&lt;dbl&gt;</th><th scope=col>&lt;dbl&gt;</th><th scope=col>&lt;dbl&gt;</th><th scope=col>&lt;dbl&gt;</th><th scope=col>&lt;dbl&gt;</th><th scope=col>&lt;dbl&gt;</th></tr>\n",
       "</thead>\n",
       "<tbody>\n",
       "\t<tr><th scope=row>densidad</th><td>0</td><td>8.668158e-11</td><td>0.01898691</td><td>0.007566462</td><td>0.003114069</td><td>0.1628731</td><td>0.2272507</td><td>1.040827e-05</td><td>0.0004315528</td><td>1.548914e-06</td></tr>\n",
       "\t<tr><th scope=row>mujeres</th><td>8.668158e-11</td><td>0</td><td>0.001240865</td><td>0.4295358</td><td>0.8034136</td><td>0.6615896</td><td>0.9499731</td><td>7.137958e-08</td><td>0.001383297</td><td>0.004057462</td></tr>\n",
       "\t<tr><th scope=row>grad_instituto</th><td>0.01898691</td><td>0.001240865</td><td>0</td><td>0.001262503</td><td>0.9507185</td><td>0.1549317</td><td>0.002235935</td><td>0.05514623</td><td>1.350596e-05</td><td>0.4606977</td></tr>\n",
       "\t<tr><th scope=row>grad_univ</th><td>0.007566462</td><td>0.4295358</td><td>0.001262503</td><td>0</td><td>3.057155e-05</td><td>0.01072454</td><td>3.245711e-06</td><td>0.9359247</td><td>0.759826</td><td>2.094141e-07</td></tr>\n",
       "\t<tr><th scope=row>asia</th><td>0.003114069</td><td>0.8034136</td><td>0.9507185</td><td>3.057155e-05</td><td>0</td><td>4.230806e-05</td><td>0.03489456</td><td>0.7416122</td><td>0.1046661</td><td>1.338832e-05</td></tr>\n",
       "\t<tr><th scope=row>hispanos</th><td>0.1628731</td><td>0.6615896</td><td>0.1549317</td><td>0.01072454</td><td>4.230806e-05</td><td>0</td><td>0.009801473</td><td>0.2150235</td><td>0.009290404</td><td>0.04244873</td></tr>\n",
       "\t<tr><th scope=row>evangelicos</th><td>0.2272507</td><td>0.9499731</td><td>0.002235935</td><td>3.245711e-06</td><td>0.03489456</td><td>0.009801473</td><td>0</td><td>0.8012417</td><td>0.3843496</td><td>0.0004344322</td></tr>\n",
       "\t<tr><th scope=row>mormones</th><td>1.040827e-05</td><td>7.137958e-08</td><td>0.05514623</td><td>0.9359247</td><td>0.7416122</td><td>0.2150235</td><td>0.8012417</td><td>0</td><td>0.4510522</td><td>0.2898469</td></tr>\n",
       "\t<tr><th scope=row>paro</th><td>0.0004315528</td><td>0.001383297</td><td>1.350596e-05</td><td>0.759826</td><td>0.1046661</td><td>0.009290404</td><td>0.3843496</td><td>0.4510522</td><td>0</td><td>0.0211466</td></tr>\n",
       "\t<tr><th scope=row>obama</th><td>1.548914e-06</td><td>0.004057462</td><td>0.4606977</td><td>2.094141e-07</td><td>1.338832e-05</td><td>0.04244873</td><td>0.0004344322</td><td>0.2898469</td><td>0.0211466</td><td>0</td></tr>\n",
       "</tbody>\n",
       "</table>\n"
      ],
      "text/latex": [
       "A matrix: 10 × 10\n",
       "\\begin{tabular}{r|llllllllll}\n",
       "  & densidad & mujeres & grad\\_instituto & grad\\_univ & asia & hispanos & evangelicos & mormones & paro & obama\\\\\n",
       "  & <dbl> & <dbl> & <dbl> & <dbl> & <dbl> & <dbl> & <dbl> & <dbl> & <dbl> & <dbl> & ⋯ & <dbl> & <dbl> & <dbl> & <dbl> & <dbl> & <dbl> & <dbl> & <dbl> & <dbl> & <dbl>\\\\\n",
       "\\hline\n",
       "\tdensidad & 0 & 8.668158e-11 & 0.01898691 & 0.007566462 & 0.003114069 & 0.1628731 & 0.2272507 & 1.040827e-05 & 0.0004315528 & 1.548914e-06\\\\\n",
       "\tmujeres & 8.668158e-11 & 0 & 0.001240865 & 0.4295358 & 0.8034136 & 0.6615896 & 0.9499731 & 7.137958e-08 & 0.001383297 & 0.004057462\\\\\n",
       "\tgrad\\_instituto & 0.01898691 & 0.001240865 & 0 & 0.001262503 & 0.9507185 & 0.1549317 & 0.002235935 & 0.05514623 & 1.350596e-05 & 0.4606977\\\\\n",
       "\tgrad\\_univ & 0.007566462 & 0.4295358 & 0.001262503 & 0 & 3.057155e-05 & 0.01072454 & 3.245711e-06 & 0.9359247 & 0.759826 & 2.094141e-07\\\\\n",
       "\tasia & 0.003114069 & 0.8034136 & 0.9507185 & 3.057155e-05 & 0 & 4.230806e-05 & 0.03489456 & 0.7416122 & 0.1046661 & 1.338832e-05\\\\\n",
       "\thispanos & 0.1628731 & 0.6615896 & 0.1549317 & 0.01072454 & 4.230806e-05 & 0 & 0.009801473 & 0.2150235 & 0.009290404 & 0.04244873\\\\\n",
       "\tevangelicos & 0.2272507 & 0.9499731 & 0.002235935 & 3.245711e-06 & 0.03489456 & 0.009801473 & 0 & 0.8012417 & 0.3843496 & 0.0004344322\\\\\n",
       "\tmormones & 1.040827e-05 & 7.137958e-08 & 0.05514623 & 0.9359247 & 0.7416122 & 0.2150235 & 0.8012417 & 0 & 0.4510522 & 0.2898469\\\\\n",
       "\tparo & 0.0004315528 & 0.001383297 & 1.350596e-05 & 0.759826 & 0.1046661 & 0.009290404 & 0.3843496 & 0.4510522 & 0 & 0.0211466\\\\\n",
       "\tobama & 1.548914e-06 & 0.004057462 & 0.4606977 & 2.094141e-07 & 1.338832e-05 & 0.04244873 & 0.0004344322 & 0.2898469 & 0.0211466 & 0\\\\\n",
       "\\end{tabular}\n"
      ],
      "text/markdown": [
       "\n",
       "A matrix: 10 × 10\n",
       "\n",
       "| <!--/--> | densidad &lt;dbl&gt; | mujeres &lt;dbl&gt; | grad_instituto &lt;dbl&gt; | grad_univ &lt;dbl&gt; | asia &lt;dbl&gt; | hispanos &lt;dbl&gt; | evangelicos &lt;dbl&gt; | mormones &lt;dbl&gt; | paro &lt;dbl&gt; | obama &lt;dbl&gt; | densidad ⋯ | mujeres &lt;dbl&gt; | grad_instituto &lt;dbl&gt; | grad_univ &lt;dbl&gt; | asia &lt;dbl&gt; | hispanos &lt;dbl&gt; | evangelicos &lt;dbl&gt; | mormones &lt;dbl&gt; | paro &lt;dbl&gt; | obama &lt;dbl&gt; | densidad &lt;dbl&gt; |\n",
       "|---|---|---|---|---|---|---|---|---|---|---|\n",
       "| densidad | 0 | 8.668158e-11 | 0.01898691 | 0.007566462 | 0.003114069 | 0.1628731 | 0.2272507 | 1.040827e-05 | 0.0004315528 | 1.548914e-06 |\n",
       "| mujeres | 8.668158e-11 | 0 | 0.001240865 | 0.4295358 | 0.8034136 | 0.6615896 | 0.9499731 | 7.137958e-08 | 0.001383297 | 0.004057462 |\n",
       "| grad_instituto | 0.01898691 | 0.001240865 | 0 | 0.001262503 | 0.9507185 | 0.1549317 | 0.002235935 | 0.05514623 | 1.350596e-05 | 0.4606977 |\n",
       "| grad_univ | 0.007566462 | 0.4295358 | 0.001262503 | 0 | 3.057155e-05 | 0.01072454 | 3.245711e-06 | 0.9359247 | 0.759826 | 2.094141e-07 |\n",
       "| asia | 0.003114069 | 0.8034136 | 0.9507185 | 3.057155e-05 | 0 | 4.230806e-05 | 0.03489456 | 0.7416122 | 0.1046661 | 1.338832e-05 |\n",
       "| hispanos | 0.1628731 | 0.6615896 | 0.1549317 | 0.01072454 | 4.230806e-05 | 0 | 0.009801473 | 0.2150235 | 0.009290404 | 0.04244873 |\n",
       "| evangelicos | 0.2272507 | 0.9499731 | 0.002235935 | 3.245711e-06 | 0.03489456 | 0.009801473 | 0 | 0.8012417 | 0.3843496 | 0.0004344322 |\n",
       "| mormones | 1.040827e-05 | 7.137958e-08 | 0.05514623 | 0.9359247 | 0.7416122 | 0.2150235 | 0.8012417 | 0 | 0.4510522 | 0.2898469 |\n",
       "| paro | 0.0004315528 | 0.001383297 | 1.350596e-05 | 0.759826 | 0.1046661 | 0.009290404 | 0.3843496 | 0.4510522 | 0 | 0.0211466 |\n",
       "| obama | 1.548914e-06 | 0.004057462 | 0.4606977 | 2.094141e-07 | 1.338832e-05 | 0.04244873 | 0.0004344322 | 0.2898469 | 0.0211466 | 0 |\n",
       "\n"
      ],
      "text/plain": [
       "               densidad     mujeres      grad_instituto grad_univ   \n",
       "densidad       0            8.668158e-11 0.01898691     0.007566462 \n",
       "mujeres        8.668158e-11 0            0.001240865    0.4295358   \n",
       "grad_instituto 0.01898691   0.001240865  0              0.001262503 \n",
       "grad_univ      0.007566462  0.4295358    0.001262503    0           \n",
       "asia           0.003114069  0.8034136    0.9507185      3.057155e-05\n",
       "hispanos       0.1628731    0.6615896    0.1549317      0.01072454  \n",
       "evangelicos    0.2272507    0.9499731    0.002235935    3.245711e-06\n",
       "mormones       1.040827e-05 7.137958e-08 0.05514623     0.9359247   \n",
       "paro           0.0004315528 0.001383297  1.350596e-05   0.759826    \n",
       "obama          1.548914e-06 0.004057462  0.4606977      2.094141e-07\n",
       "               asia         hispanos     evangelicos  mormones     paro        \n",
       "densidad       0.003114069  0.1628731    0.2272507    1.040827e-05 0.0004315528\n",
       "mujeres        0.8034136    0.6615896    0.9499731    7.137958e-08 0.001383297 \n",
       "grad_instituto 0.9507185    0.1549317    0.002235935  0.05514623   1.350596e-05\n",
       "grad_univ      3.057155e-05 0.01072454   3.245711e-06 0.9359247    0.759826    \n",
       "asia           0            4.230806e-05 0.03489456   0.7416122    0.1046661   \n",
       "hispanos       4.230806e-05 0            0.009801473  0.2150235    0.009290404 \n",
       "evangelicos    0.03489456   0.009801473  0            0.8012417    0.3843496   \n",
       "mormones       0.7416122    0.2150235    0.8012417    0            0.4510522   \n",
       "paro           0.1046661    0.009290404  0.3843496    0.4510522    0           \n",
       "obama          1.338832e-05 0.04244873   0.0004344322 0.2898469    0.0211466   \n",
       "               obama       \n",
       "densidad       1.548914e-06\n",
       "mujeres        0.004057462 \n",
       "grad_instituto 0.4606977   \n",
       "grad_univ      2.094141e-07\n",
       "asia           1.338832e-05\n",
       "hispanos       0.04244873  \n",
       "evangelicos    0.0004344322\n",
       "mormones       0.2898469   \n",
       "paro           0.0211466   \n",
       "obama          0           "
      ]
     },
     "metadata": {},
     "output_type": "display_data"
    }
   ],
   "source": [
    "suppressWarnings(pairwise.cor.test(usa, method='spearman'))"
   ]
  },
  {
   "cell_type": "markdown",
   "metadata": {},
   "source": [
    "Para el par de variables `(mujeres, densidad)`, hemos obtenido un $p$-valor menor que el nivel de significación establecido, $\\alpha = 0.05$, en todos los casos. Esto conduce a la conclusión de que debemos rechazar la hipótesis nula que sugiere que el coeficiente de correlación entre estas variables es nulo. En otras palabras, existe evidencia de colinealidad entre las variables explicativas.\n",
    "\n",
    "Sin embargo, en el caso del segundo par de variables `(asia, grad_instituto)`, observamos que el $p$-valor es considerablemente mayor que $\\alpha$ en ambas situaciones. Esto indica que no existe una correlación significativa entre estas dos variables.\n",
    "\n",
    "En resumen, hemos obtenido un modelo con un alto valor de $R^2$ ajustado, pero enfrenta diversos problemas que suelen surgir en modelos de regresión lineal múltiple. No obstante, en cualquier caso, parece ser una mejora con respecto al modelo ajustado en el primer caso.\n"
   ]
  },
  {
   "cell_type": "markdown",
   "metadata": {},
   "source": [
    "<div style = \"float:right\"><a style=\"text-decoration:none\" href = \"#inicio\">Inicio</a></div>"
   ]
  }
 ],
 "metadata": {
  "kernelspec": {
   "display_name": "R",
   "language": "R",
   "name": "ir"
  },
  "language_info": {
   "codemirror_mode": "r",
   "file_extension": ".r",
   "mimetype": "text/x-r-source",
   "name": "R",
   "pygments_lexer": "r",
   "version": "4.1.3"
  },
  "toc": {
   "base_numbering": 1,
   "nav_menu": {},
   "number_sections": true,
   "sideBar": true,
   "skip_h1_title": false,
   "title_cell": "Table of Contents",
   "title_sidebar": "Contents",
   "toc_cell": false,
   "toc_position": {},
   "toc_section_display": true,
   "toc_window_display": false
  }
 },
 "nbformat": 4,
 "nbformat_minor": 2
}
