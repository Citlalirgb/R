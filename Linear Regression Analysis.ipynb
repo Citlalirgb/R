{
 "cells": [
  {
   "cell_type": "markdown",
   "metadata": {},
   "source": [
    "# Regresión Lineal <a id=\"topic1\"></a>&nbsp;&nbsp;<a href=\"#index\"><i class=\"fa fa-list-alt\" aria-hidden=\"true\"></i></a>\n"
   ]
  },
  {
   "cell_type": "markdown",
   "metadata": {},
   "source": [
    "## Base de datos Major League Baseball\n",
    "\n",
    "En el contexto del béisbol de la Major League Baseball (MLB) de los Estados Unidos, se busca determinar si existe una relación entre la cantidad de bateos realizados por un equipo (`numero_bateos`) y la variable dependiente, que corresponde al número de carreras anotadas (`runs`). Esto se logrará mediante un análisis de regresión lineal simple utilizando la base de datos denominada `beisbol`. En el proceso, se destacarán los resultados clave obtenidos a partir del modelo de regresión lineal simple. Además, se realizará un diagnóstico del modelo en el que la variable dependiente será `runs` y la variable independiente será `numero_bateos`."
   ]
  },
  {
   "cell_type": "code",
   "execution_count": 6,
   "metadata": {
    "scrolled": true
   },
   "outputs": [
    {
     "data": {
      "text/html": [
       "<table class=\"dataframe\">\n",
       "<caption>A data.frame: 6 x 3</caption>\n",
       "<thead>\n",
       "\t<tr><th></th><th scope=col>equipos</th><th scope=col>numero_bateos</th><th scope=col>runs</th></tr>\n",
       "\t<tr><th></th><th scope=col>&lt;chr&gt;</th><th scope=col>&lt;dbl&gt;</th><th scope=col>&lt;dbl&gt;</th></tr>\n",
       "</thead>\n",
       "<tbody>\n",
       "\t<tr><th scope=row>1</th><td>Texas  </td><td>5659</td><td>855</td></tr>\n",
       "\t<tr><th scope=row>2</th><td>Boston </td><td>5710</td><td>875</td></tr>\n",
       "\t<tr><th scope=row>3</th><td>Detroit</td><td>5563</td><td>787</td></tr>\n",
       "\t<tr><th scope=row>4</th><td>Kansas </td><td>5672</td><td>730</td></tr>\n",
       "\t<tr><th scope=row>5</th><td>St.    </td><td>5532</td><td>762</td></tr>\n",
       "\t<tr><th scope=row>6</th><td>New_S. </td><td>5600</td><td>718</td></tr>\n",
       "</tbody>\n",
       "</table>\n"
      ],
      "text/latex": [
       "A data.frame: 6 x 3\n",
       "\\begin{tabular}{r|lll}\n",
       "  & equipos & numero\\_bateos & runs\\\\\n",
       "  & <chr> & <dbl> & <dbl>\\\\\n",
       "\\hline\n",
       "\t1 & Texas   & 5659 & 855\\\\\n",
       "\t2 & Boston  & 5710 & 875\\\\\n",
       "\t3 & Detroit & 5563 & 787\\\\\n",
       "\t4 & Kansas  & 5672 & 730\\\\\n",
       "\t5 & St.     & 5532 & 762\\\\\n",
       "\t6 & New\\_S.  & 5600 & 718\\\\\n",
       "\\end{tabular}\n"
      ],
      "text/markdown": [
       "\n",
       "A data.frame: 6 x 3\n",
       "\n",
       "| <!--/--> | equipos &lt;chr&gt; | numero_bateos &lt;dbl&gt; | runs &lt;dbl&gt; |\n",
       "|---|---|---|---|\n",
       "| 1 | Texas   | 5659 | 855 |\n",
       "| 2 | Boston  | 5710 | 875 |\n",
       "| 3 | Detroit | 5563 | 787 |\n",
       "| 4 | Kansas  | 5672 | 730 |\n",
       "| 5 | St.     | 5532 | 762 |\n",
       "| 6 | New_S.  | 5600 | 718 |\n",
       "\n"
      ],
      "text/plain": [
       "  equipos numero_bateos runs\n",
       "1 Texas   5659          855 \n",
       "2 Boston  5710          875 \n",
       "3 Detroit 5563          787 \n",
       "4 Kansas  5672          730 \n",
       "5 St.     5532          762 \n",
       "6 New_S.  5600          718 "
      ]
     },
     "metadata": {},
     "output_type": "display_data"
    }
   ],
   "source": [
    "# Base de datos beisbol MLB\n",
    "equipos = c(\"Texas\", \"Boston\", \"Detroit\", \"Kansas\", \"St.\", \"New_S.\", \"New_Y.\", \"Milwaukee\", \"Colorado\", \"Houston\", \"Baltimore\", \"Los_An.\", \"Chicago\", \"Cincinnati\", \"Los_P.\", \"Philadelphia\", \"Chicago\", \"Cleveland\", \"Arizona\", \"Toronto\", \"Minnesota\", \"Florida\", \"Pittsburgh\", \"Oakland\", \"Tampa\", \"Atlanta\", \"Washington\", \"San.F\", \"San.I\", \"Seattle\")\n",
    "numero_bateos = c(5659, 5710, 5563, 5672, 5532, 5600, 5518, 5447, 5544, 5598, 5585, 5436, 5549, 5612, 5513, 5579, 5502, 5509, 5421, 5559, 5487, 5508, 5421, 5452, 5436, 5528, 5441, 5486, 5417, 5421)\n",
    "runs = c(855, 875, 787, 730, 762, 718, 867, 721, 735, 615, 708, 644, 654 , 735, 667, 713, 654, 704, 731, 743, 619, 625, 610, 645, 707, 641, 624, 570, 593, 556)\n",
    "beisbol = data.frame(equipos, numero_bateos, runs)"
   ]
  },
  {
   "cell_type": "markdown",
   "metadata": {},
   "source": [
    "### Visualización de datos"
   ]
  },
  {
   "cell_type": "markdown",
   "metadata": {},
   "source": [
    "Vamos a iniciar nuestro análisis explorando la relación entre estas dos variables. Esto se llevará a cabo tanto de manera visual, a través de gráficos, como mediante cálculos numéricos que respalden nuestras conclusiones.\n"
   ]
  },
  {
   "cell_type": "code",
   "execution_count": 4,
   "metadata": {},
   "outputs": [
    {
     "data": {
      "image/png": "[encoded data removed]",
      "text/plain": [
       "plot without title"
      ]
     },
     "metadata": {
      "image/png": {
       "height": 420,
       "width": 420
      }
     },
     "output_type": "display_data"
    }
   ],
   "source": [
    "# Representación gráfica para comprobar si existe relación entre variables\n",
    "plot(beisbol$numero_bateos, beisbol$runs, xlab='Número de bateos', ylab='Runs')"
   ]
  },
  {
   "cell_type": "markdown",
   "metadata": {},
   "source": [
    "Parece que existe una tendencia donde un aumento en la cantidad de bateos se asocia con un aumento en el número de carreras anotadas. Sin embargo, antes de confirmar la correlación entre estas variables mediante el coeficiente de correlación de Pearson, debemos verificar dos condiciones fundamentales: que ambas variables sigan una distribución normal y que las varianzas sean constantes, es decir, que presenten homocedasticidad."
   ]
  },
  {
   "cell_type": "code",
   "execution_count": 5,
   "metadata": {
    "scrolled": true
   },
   "outputs": [
    {
     "data": {
      "image/png": "[encoded data removed]",
      "text/plain": [
       "Plot with title \"Distribución del número de runs\""
      ]
     },
     "metadata": {
      "image/png": {
       "height": 420,
       "width": 420
      }
     },
     "output_type": "display_data"
    }
   ],
   "source": [
    "# Representación gráfica para ver si siguen una distribución normal\n",
    "par(mfrow=c(1, 2))\n",
    "plot(density(beisbol$numero_bateos), main='Distribución del número de bateos')\n",
    "plot(density(beisbol$runs), main='Distribución del número de runs')"
   ]
  },
  {
   "cell_type": "markdown",
   "metadata": {},
   "source": [
    "En lo que respecta a la distribución de la cantidad de bateos, es posible que siga una distribución normal. Sin embargo, la situación es menos evidente en el caso del número de carreras anotadas (runs), cuya distribución no presenta una tendencia clara hacia la normalidad.\n"
   ]
  },
  {
   "cell_type": "markdown",
   "metadata": {},
   "source": [
    "### Normalidad y homocedasticidad"
   ]
  },
  {
   "cell_type": "code",
   "execution_count": 6,
   "metadata": {},
   "outputs": [
    {
     "data": {
      "text/plain": [
       "\n",
       "\tLilliefors (Kolmogorov-Smirnov) normality test\n",
       "\n",
       "data:  beisbol$numero_bateos\n",
       "D = 0.11465, p-value = 0.4004\n"
      ]
     },
     "metadata": {},
     "output_type": "display_data"
    },
    {
     "data": {
      "text/plain": [
       "\n",
       "\tLilliefors (Kolmogorov-Smirnov) normality test\n",
       "\n",
       "data:  beisbol$runs\n",
       "D = 0.11776, p-value = 0.3583\n"
      ]
     },
     "metadata": {},
     "output_type": "display_data"
    }
   ],
   "source": [
    "# Aplicamos el test de K-S-L para contrastar la normalidad\n",
    "lillie.test(beisbol$numero_bateos)\n",
    "lillie.test(beisbol$runs)"
   ]
  },
  {
   "cell_type": "markdown",
   "metadata": {},
   "source": [
    "No obstante, en ambas situaciones, el valor-p obtenido al realizar el test de normalidad K-S-L supera el nivel de significación establecido en $\\alpha = 0.05$. En consecuencia, no podemos rechazar la hipótesis nula. Esto nos proporciona evidencia estadística sólida de que ambas muestras se originan en una distribución normal."
   ]
  },
  {
   "cell_type": "code",
   "execution_count": 7,
   "metadata": {},
   "outputs": [
    {
     "data": {
      "text/plain": [
       "\n",
       "\tBartlett test of homogeneity of variances\n",
       "\n",
       "data:  list(beisbol$numero_bateos, beisbol$runs)\n",
       "Bartlett's K-squared = 0.029381, df = 1, p-value = 0.8639\n"
      ]
     },
     "metadata": {},
     "output_type": "display_data"
    }
   ],
   "source": [
    "# Aplicamos el test de Bartlett para comprobar homocedasticidad \n",
    "bartlett.test(list(beisbol$numero_bateos, beisbol$runs))"
   ]
  },
  {
   "cell_type": "markdown",
   "metadata": {},
   "source": [
    "El valor-p calculado para el test de Bartlett es notablemente elevado, superior al nivel de significación establecido en $\\alpha = 0.05$. Por lo tanto, debemos igualmente aceptar la hipótesis nula, que sostiene que las muestras son homocedásticas. Con estos resultados, estamos en condiciones de avanzar hacia el análisis de la correlación entre las variables."
   ]
  },
  {
   "cell_type": "markdown",
   "metadata": {},
   "source": [
    "### Correlación de las variables"
   ]
  },
  {
   "cell_type": "code",
   "execution_count": 8,
   "metadata": {},
   "outputs": [
    {
     "data": {
      "text/html": [
       "0.610627046720669"
      ],
      "text/latex": [
       "0.610627046720669"
      ],
      "text/markdown": [
       "0.610627046720669"
      ],
      "text/plain": [
       "[1] 0.610627"
      ]
     },
     "metadata": {},
     "output_type": "display_data"
    }
   ],
   "source": [
    "# Estimamos el coeficiente de correlación de Pearson\n",
    "cor(beisbol$numero_bateos, beisbol$runs)"
   ]
  },
  {
   "cell_type": "markdown",
   "metadata": {},
   "source": [
    "El coeficiente de correlación de Pearson obtenido es positivo y tiene un valor relativamente alto, lo que sugiere una posible correlación positiva entre ambas variables. Para verificar esta correlación, procederemos a realizar el contraste de hipótesis correspondiente."
   ]
  },
  {
   "cell_type": "code",
   "execution_count": 9,
   "metadata": {},
   "outputs": [
    {
     "data": {
      "text/plain": [
       "\n",
       "\tPearson's product-moment correlation\n",
       "\n",
       "data:  beisbol$numero_bateos and beisbol$runs\n",
       "t = 4.0801, df = 28, p-value = 0.0003388\n",
       "alternative hypothesis: true correlation is not equal to 0\n",
       "95 percent confidence interval:\n",
       " 0.3209675 0.7958231\n",
       "sample estimates:\n",
       "     cor \n",
       "0.610627 \n"
      ]
     },
     "metadata": {},
     "output_type": "display_data"
    }
   ],
   "source": [
    "# Realizamos el contraste de correlación\n",
    "cor.test(beisbol$numero_bateos, beisbol$runs)"
   ]
  },
  {
   "cell_type": "markdown",
   "metadata": {},
   "source": [
    "En este caso particular, el valor-p obtenido es menor que el nivel de significancia establecido en $\\alpha = 0.05$, lo que conduce al rechazo de la hipótesis nula que sostiene la falta de correlación. Este resultado indica que el coeficiente de correlación previamente calculado tiene relevancia estadística. Por lo tanto, podemos afirmar que existe una relación lineal entre ambas variables, lo que respalda la conveniencia de llevar a cabo un análisis de regresión lineal.\n"
   ]
  },
  {
   "cell_type": "markdown",
   "metadata": {},
   "source": [
    "### Generación del modelo"
   ]
  },
  {
   "cell_type": "code",
   "execution_count": 10,
   "metadata": {},
   "outputs": [
    {
     "data": {
      "text/plain": [
       "\n",
       "Call:\n",
       "lm(formula = runs ~ numero_bateos, data = beisbol)\n",
       "\n",
       "Residuals:\n",
       "    Min      1Q  Median      3Q     Max \n",
       "-125.58  -47.05  -16.59   54.40  176.87 \n",
       "\n",
       "Coefficients:\n",
       "                Estimate Std. Error t value Pr(>|t|)    \n",
       "(Intercept)   -2789.2429   853.6957  -3.267 0.002871 ** \n",
       "numero_bateos     0.6305     0.1545   4.080 0.000339 ***\n",
       "---\n",
       "Signif. codes:  0 '***' 0.001 '**' 0.01 '*' 0.05 '.' 0.1 ' ' 1\n",
       "\n",
       "Residual standard error: 66.47 on 28 degrees of freedom\n",
       "Multiple R-squared:  0.3729,\tAdjusted R-squared:  0.3505 \n",
       "F-statistic: 16.65 on 1 and 28 DF,  p-value: 0.0003388\n"
      ]
     },
     "metadata": {},
     "output_type": "display_data"
    }
   ],
   "source": [
    "# Aplicamos el ajuste de regresión lineal a través de la función lm\n",
    "ols = lm(runs~numero_bateos, data=beisbol)\n",
    "\n",
    "# Obtenemos un summary de la salida\n",
    "output = summary(ols)\n",
    "output"
   ]
  },
  {
   "cell_type": "markdown",
   "metadata": {},
   "source": [
    "A continuación, proporcionaremos una síntesis de los resultados obtenidos en el modelo de regresión lineal."
   ]
  },
  {
   "cell_type": "markdown",
   "metadata": {},
   "source": [
    "Nombrando $\\beta_0$ como la constante y $\\beta_1$ como el coeficiente correspondiente a la variable `numero_bateos`, hemos obtenido los valores $\\beta_0 = -2789.24$ y $\\beta_1 = 0.63$. Además, la tabla proporciona información sobre el error estándar y los valores p de cada parámetro estimado.\n",
    "\n",
    "Por un lado, el error estándar nos indica cuánto varía el coeficiente a lo largo de diferentes muestras, y lo podríamos calcular a partir de la raíz cuadrada de la diagonal de la matriz de varianzas-covarianzas. En este caso, el error es relativamente alto en comparación con el valor de cada coeficiente.\n",
    "\n",
    "Por otro lado, observamos que los valores p son menores que el nivel de significancia $\\alpha = 0.05$, lo que nos lleva a rechazar la hipótesis nula que sugiere que estos valores son cero. Por lo tanto, podemos concluir que los coeficientes obtenidos son estadísticamente significativos. En resumen, hemos obtenido el siguiente modelo de regresión lineal simple:\n",
    "\n",
    "$$y = -2789.24 + 0.63x,$$\n",
    "\n",
    "donde $y$ representa el número de carreras anotadas y $x$ corresponde al número de bateos. En consecuencia, por cada bateo adicional, el número de carreras anotadas aumenta en promedio en 0.63, comenzando desde -2789.24 (ya que lo normal es que se logren varios miles de bateos).```\n"
   ]
  },
  {
   "cell_type": "markdown",
   "metadata": {},
   "source": [
    "### Predicciones\n",
    "\n",
    "Podemos realizar predicciones para nuevos casos utilizando la función de regresión. \n"
   ]
  },
  {
   "cell_type": "code",
   "execution_count": 22,
   "metadata": {},
   "outputs": [
    {
     "data": {
      "text/html": [
       "<strong>1:</strong> 448.631327782328"
      ],
      "text/latex": [
       "\\textbf{1:} 448.631327782328"
      ],
      "text/markdown": [
       "**1:** 448.631327782328"
      ],
      "text/plain": [
       "       1 \n",
       "448.6313 "
      ]
     },
     "metadata": {},
     "output_type": "display_data"
    }
   ],
   "source": [
    "# Obtenemos los resultados de la predicción realizada\n",
    "predict(ols, data.frame(numero_bateos=5135))"
   ]
  },
  {
   "cell_type": "markdown",
   "metadata": {},
   "source": [
    "### Diagnosis del modelo utilizado\n",
    "\n",
    "Evaluamos el modelo. Debemos confirmar que los residuos siguen una distribución normal, que el modelo se ajusta apropiadamente a los datos y que no existen observaciones anómalas.\n"
   ]
  },
  {
   "cell_type": "code",
   "execution_count": 23,
   "metadata": {},
   "outputs": [
    {
     "data": {
      "image/png": "[encoded data removed]",
      "text/plain": [
       "Plot with title \"\""
      ]
     },
     "metadata": {
      "image/png": {
       "height": 420,
       "width": 420
      }
     },
     "output_type": "display_data"
    },
    {
     "data": {
      "image/png": "[encoded data removed]",
      "text/plain": [
       "Plot with title \"\""
      ]
     },
     "metadata": {
      "image/png": {
       "height": 420,
       "width": 420
      }
     },
     "output_type": "display_data"
    }
   ],
   "source": [
    "# Comenzamos a realizar la tarea de diagnosis del modelo elegido\n",
    "plot(ols, which=1)\n",
    "plot(ols, which=3)"
   ]
  },
  {
   "cell_type": "markdown",
   "metadata": {},
   "source": [
    "Estas dos primeras gráficas nos permiten decidir si las variables están linealmente relacionadas. Nos muestran para cada valor ajustado el residuo (o residuo estandarizado) que ha generado. Para que las variables de la regresión estén relacionadas no debe haber una relación clara entre estos valores y sus residuos. En este caso no parece que exista esta última relación."
   ]
  },
  {
   "cell_type": "code",
   "execution_count": 24,
   "metadata": {},
   "outputs": [
    {
     "data": {
      "text/plain": [
       "\n",
       "\tBartlett test of homogeneity of variances\n",
       "\n",
       "data:  list(ols$fitted.values, eps)\n",
       "Bartlett's K-squared = 1.9054, df = 1, p-value = 0.1675\n"
      ]
     },
     "metadata": {},
     "output_type": "display_data"
    }
   ],
   "source": [
    "# Obtenemos los resultados del test de Bartlett\n",
    "bartlett.test(list(ols$fitted.values, eps))"
   ]
  },
  {
   "cell_type": "markdown",
   "metadata": {},
   "source": [
    "A través de una prueba de hipótesis, confirmamos que las dispersiones de la variable dependiente ajustada y los residuos son equivalentes, debido a que el valor p observado excede el nivel de significación fijado en α=0.05."
   ]
  },
  {
   "cell_type": "code",
   "execution_count": 25,
   "metadata": {},
   "outputs": [
    {
     "data": {
      "image/png": "[encoded data removed]",
      "text/plain": [
       "Plot with title \"\""
      ]
     },
     "metadata": {
      "image/png": {
       "height": 420,
       "width": 420
      }
     },
     "output_type": "display_data"
    }
   ],
   "source": [
    "# Obtenemos la gráfica quantil-quantil\n",
    "plot(ols, which=2)"
   ]
  },
  {
   "cell_type": "markdown",
   "metadata": {},
   "source": [
    "Mediante una prueba de hipótesis, hemos corroborado que las variabilidades de la variable dependiente ajustada y los residuos son comparables, ya que el valor p obtenido está por encima del nivel de significancia establecido en $α=0.05$.\n",
    "\n"
   ]
  },
  {
   "cell_type": "code",
   "execution_count": 26,
   "metadata": {},
   "outputs": [
    {
     "data": {
      "text/plain": [
       "\n",
       "\tLilliefors (Kolmogorov-Smirnov) normality test\n",
       "\n",
       "data:  eps\n",
       "D = 0.15393, p-value = 0.06756\n"
      ]
     },
     "metadata": {},
     "output_type": "display_data"
    }
   ],
   "source": [
    "# Aplicamos el test de K-S-L para contrastar la normalidad\n",
    "lillie.test(eps)"
   ]
  },
  {
   "cell_type": "markdown",
   "metadata": {},
   "source": [
    "El valor-p se encuentra ligeramente por encima del nivel de significación $\\alpha = 0.05$, lo que nos lleva a no poder rechazar la hipótesis nula que sugiere que las muestras se originan en una distribución normal."
   ]
  },
  {
   "cell_type": "code",
   "execution_count": 27,
   "metadata": {},
   "outputs": [
    {
     "data": {
      "image/png": "[encoded data removed]",
      "text/plain": [
       "Plot with title \"\""
      ]
     },
     "metadata": {
      "image/png": {
       "height": 420,
       "width": 420
      }
     },
     "output_type": "display_data"
    }
   ],
   "source": [
    "# Obtenemos la gráfica para analizar los outliers\n",
    "plot(ols, which=5)"
   ]
  },
  {
   "cell_type": "markdown",
   "metadata": {},
   "source": [
    "Para concluir, esta representación gráfica nos proporciona la capacidad de detectar puntos atípicos, influyentes o que ejercen una influencia significativa en el modelo. Los puntos influyentes son aquellos que tienen un fuerte impacto en los parámetros del modelo y se identifican al estar situados más allá de las líneas de Cook. En este escenario, no hemos encontrado ningún punto influyente. Los puntos atípicos presentan residuos con valores excepcionalmente altos, mientras que los puntos de efecto palanca no se ajustan de manera efectiva a las predicciones del modelo. Ambos tipos de puntos se caracterizan por tener un alto grado de leverage (efecto palanca), pero los primeros exhiben residuos negativos notablemente bajos, mientras que los segundos presentan residuos positivos muy elevados. El único punto que podría encajar en estas categorías es el punto etiquetado como '2', el cual podría ser una fuente de efecto palanca en el análisis.\n"
   ]
  }
 ],
 "metadata": {
  "kernelspec": {
   "display_name": "R",
   "language": "R",
   "name": "ir"
  },
  "language_info": {
   "codemirror_mode": "r",
   "file_extension": ".r",
   "mimetype": "text/x-r-source",
   "name": "R",
   "pygments_lexer": "r",
   "version": "4.1.3"
  },
  "toc": {
   "base_numbering": 1,
   "nav_menu": {},
   "number_sections": true,
   "sideBar": true,
   "skip_h1_title": false,
   "title_cell": "Table of Contents",
   "title_sidebar": "Contents",
   "toc_cell": false,
   "toc_position": {},
   "toc_section_display": true,
   "toc_window_display": false
  }
 },
 "nbformat": 4,
 "nbformat_minor": 2
}
